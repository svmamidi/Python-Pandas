{
 "cells": [
  {
   "cell_type": "code",
   "execution_count": 1,
   "id": "9a991f26",
   "metadata": {},
   "outputs": [],
   "source": [
    "import pandas as pd\n",
    "import seaborn as sns\n",
    "import matplotlib.pyplot as plt\n",
    "import numpy as np\n"
   ]
  },
  {
   "cell_type": "code",
   "execution_count": 2,
   "id": "76eb9be3",
   "metadata": {},
   "outputs": [],
   "source": [
    "#Reading the Dataset\n",
    "xls = pd.ExcelFile('HospitalDatabase .xlsx')\n",
    "#Reading the ReAdmissionRegistry sheet\n",
    "df_RR = pd.read_excel(xls, 'ReAdmissionRegistry')\n",
    "#Reading the Patients sheet\n",
    "df_PA = pd.read_excel(xls, 'Patients')\n",
    "#Reading the EDVisits sheet\n",
    "df_EDV= pd.read_excel(xls, 'EDVisits')\n",
    "#Reading the AmbulatoryVisits sheet\n",
    "df_AV = pd.read_excel(xls, 'AmbulatoryVisits')\n",
    "#Reading the Discharges sheet\n",
    "df_D = pd.read_excel(xls, 'Discharges')\n",
    "#Reading the Providers sheet\n",
    "df_P= pd.read_excel(xls, 'Providers')\n",
    "#Reading the EDUnique sheet\n",
    "df_EDU = pd.read_excel(xls, 'EDUnique')"
   ]
  },
  {
   "cell_type": "code",
   "execution_count": null,
   "id": "d3156b9e",
   "metadata": {},
   "outputs": [],
   "source": []
  }
 ],
 "metadata": {
  "kernelspec": {
   "display_name": "Python 3 (ipykernel)",
   "language": "python",
   "name": "python3"
  },
  "language_info": {
   "codemirror_mode": {
    "name": "ipython",
    "version": 3
   },
   "file_extension": ".py",
   "mimetype": "text/x-python",
   "name": "python",
   "nbconvert_exporter": "python",
   "pygments_lexer": "ipython3",
   "version": "3.9.13"
  }
 },
 "nbformat": 4,
 "nbformat_minor": 5
}
