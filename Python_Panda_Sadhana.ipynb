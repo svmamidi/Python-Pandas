{
 "cells": [
  {
   "cell_type": "code",
   "execution_count": 1,
   "id": "3981da84",
   "metadata": {},
   "outputs": [],
   "source": [
    "import pandas as pd\n",
    "import seaborn as sns\n",
    "import matplotlib.pyplot as plt\n",
    "import numpy as np\n",
    "import re"
   ]
  },
  {
   "cell_type": "code",
   "execution_count": 2,
   "id": "7070bff6",
   "metadata": {},
   "outputs": [],
   "source": [
    "#Reading the Dataset\n",
    "xls = pd.ExcelFile('HospitalDatabase .xlsx')\n",
    "#Reading the ReAdmissionRegistry sheet\n",
    "df_RR = pd.read_excel(xls, 'ReAdmissionRegistry')\n",
    "#Reading the Patients sheet\n",
    "df_PA = pd.read_excel(xls, 'Patients')\n",
    "#Reading the EDVisits sheet\n",
    "df_EDV= pd.read_excel(xls, 'EDVisits')\n",
    "#Reading the AmbulatoryVisits sheet\n",
    "df_AV = pd.read_excel(xls, 'AmbulatoryVisits')\n",
    "#Reading the Discharges sheet\n",
    "df_D = pd.read_excel(xls, 'Discharges')\n",
    "#Reading the Providers sheet\n",
    "df_P= pd.read_excel(xls, 'Providers')\n",
    "#Reading the EDUnique sheet\n",
    "df_EDU = pd.read_excel(xls, 'EDUnique')"
   ]
  },
  {
   "cell_type": "markdown",
   "id": "0ba1923a",
   "metadata": {},
   "source": [
    "# 2.Using iloc, retrieve the firstname and lastname of patients between indices 101 and 200."
   ]
  },
  {
   "cell_type": "code",
   "execution_count": 47,
   "id": "472a8b0a",
   "metadata": {},
   "outputs": [
    {
     "data": {
      "text/html": [
       "<div>\n",
       "<style scoped>\n",
       "    .dataframe tbody tr th:only-of-type {\n",
       "        vertical-align: middle;\n",
       "    }\n",
       "\n",
       "    .dataframe tbody tr th {\n",
       "        vertical-align: top;\n",
       "    }\n",
       "\n",
       "    .dataframe thead th {\n",
       "        text-align: right;\n",
       "    }\n",
       "</style>\n",
       "<table border=\"1\" class=\"dataframe\">\n",
       "  <thead>\n",
       "    <tr style=\"text-align: right;\">\n",
       "      <th></th>\n",
       "      <th>FirstName</th>\n",
       "      <th>LastName</th>\n",
       "    </tr>\n",
       "  </thead>\n",
       "  <tbody>\n",
       "    <tr>\n",
       "      <th>841</th>\n",
       "      <td>Kuvalis</td>\n",
       "      <td>Group</td>\n",
       "    </tr>\n",
       "    <tr>\n",
       "      <th>842</th>\n",
       "      <td>Hauck</td>\n",
       "      <td>Antognazzi</td>\n",
       "    </tr>\n",
       "    <tr>\n",
       "      <th>843</th>\n",
       "      <td>Silvester</td>\n",
       "      <td>Restaurant</td>\n",
       "    </tr>\n",
       "    <tr>\n",
       "      <th>844</th>\n",
       "      <td>Roselin</td>\n",
       "      <td>Group</td>\n",
       "    </tr>\n",
       "    <tr>\n",
       "      <th>845</th>\n",
       "      <td>Funk</td>\n",
       "      <td>McGarvey</td>\n",
       "    </tr>\n",
       "    <tr>\n",
       "      <th>846</th>\n",
       "      <td>Hauck</td>\n",
       "      <td>Rubbens</td>\n",
       "    </tr>\n",
       "    <tr>\n",
       "      <th>847</th>\n",
       "      <td>Ediva</td>\n",
       "      <td>Dyson</td>\n",
       "    </tr>\n",
       "    <tr>\n",
       "      <th>848</th>\n",
       "      <td>Hauck</td>\n",
       "      <td>Bitcheno</td>\n",
       "    </tr>\n",
       "    <tr>\n",
       "      <th>849</th>\n",
       "      <td>Selinda</td>\n",
       "      <td>Heindrick</td>\n",
       "    </tr>\n",
       "    <tr>\n",
       "      <th>854</th>\n",
       "      <td>Audi</td>\n",
       "      <td>Siseland</td>\n",
       "    </tr>\n",
       "    <tr>\n",
       "      <th>855</th>\n",
       "      <td>Funk</td>\n",
       "      <td>Coupland</td>\n",
       "    </tr>\n",
       "    <tr>\n",
       "      <th>856</th>\n",
       "      <td>Jess</td>\n",
       "      <td>Inc</td>\n",
       "    </tr>\n",
       "    <tr>\n",
       "      <th>858</th>\n",
       "      <td>Chev</td>\n",
       "      <td>Kenford</td>\n",
       "    </tr>\n",
       "    <tr>\n",
       "      <th>859</th>\n",
       "      <td>Sim</td>\n",
       "      <td>Group</td>\n",
       "    </tr>\n",
       "    <tr>\n",
       "      <th>860</th>\n",
       "      <td>Melina</td>\n",
       "      <td>Bushnell</td>\n",
       "    </tr>\n",
       "    <tr>\n",
       "      <th>864</th>\n",
       "      <td>Giovanni</td>\n",
       "      <td>Borland</td>\n",
       "    </tr>\n",
       "    <tr>\n",
       "      <th>865</th>\n",
       "      <td>Jermayne</td>\n",
       "      <td>Lowndes</td>\n",
       "    </tr>\n",
       "    <tr>\n",
       "      <th>866</th>\n",
       "      <td>Gail</td>\n",
       "      <td>Inc</td>\n",
       "    </tr>\n",
       "    <tr>\n",
       "      <th>867</th>\n",
       "      <td>Des</td>\n",
       "      <td>Heindrick</td>\n",
       "    </tr>\n",
       "    <tr>\n",
       "      <th>869</th>\n",
       "      <td>Hauck</td>\n",
       "      <td>Rubbens</td>\n",
       "    </tr>\n",
       "    <tr>\n",
       "      <th>873</th>\n",
       "      <td>Schroeder</td>\n",
       "      <td>McGarvey</td>\n",
       "    </tr>\n",
       "  </tbody>\n",
       "</table>\n",
       "</div>"
      ],
      "text/plain": [
       "     FirstName    LastName\n",
       "841    Kuvalis       Group\n",
       "842      Hauck  Antognazzi\n",
       "843  Silvester  Restaurant\n",
       "844    Roselin       Group\n",
       "845       Funk    McGarvey\n",
       "846      Hauck     Rubbens\n",
       "847      Ediva       Dyson\n",
       "848      Hauck    Bitcheno\n",
       "849    Selinda   Heindrick\n",
       "854       Audi    Siseland\n",
       "855       Funk    Coupland\n",
       "856       Jess         Inc\n",
       "858       Chev     Kenford\n",
       "859        Sim       Group\n",
       "860     Melina    Bushnell\n",
       "864   Giovanni     Borland\n",
       "865   Jermayne     Lowndes\n",
       "866       Gail         Inc\n",
       "867        Des   Heindrick\n",
       "869      Hauck     Rubbens\n",
       "873  Schroeder    McGarvey"
      ]
     },
     "execution_count": 47,
     "metadata": {},
     "output_type": "execute_result"
    }
   ],
   "source": [
    "df_FNLN=df_PA\n",
    "df_FNLN.iloc[101:201,1:3]"
   ]
  },
  {
   "cell_type": "markdown",
   "id": "65a1b070",
   "metadata": {},
   "source": [
    "# 6.Create a jointplot on expected mortality & expected length of stay."
   ]
  },
  {
   "cell_type": "code",
   "execution_count": 48,
   "id": "89527fab",
   "metadata": {},
   "outputs": [
    {
     "data": {
      "image/png": "[encoded data removed]",
      "text/plain": [
       "<Figure size 600x600 with 3 Axes>"
      ]
     },
     "metadata": {},
     "output_type": "display_data"
    }
   ],
   "source": [
    "df_EMEL=df_RR\n",
    "sns.jointplot(data=df_EMEL,x='ExpectedMortality',y='ExpectedLOS',color='PURPLE')\n",
    "plt.show()"
   ]
  },
  {
   "cell_type": "markdown",
   "id": "b8b2a43d",
   "metadata": {},
   "source": [
    "# 10.Create a boxplot on ExpectedLOS by taking service into account."
   ]
  },
  {
   "cell_type": "code",
   "execution_count": 49,
   "id": "057ff6f4",
   "metadata": {},
   "outputs": [
    {
     "data": {
      "image/png": "[encoded data removed]",
      "text/plain": [
       "<Figure size 640x480 with 1 Axes>"
      ]
     },
     "metadata": {},
     "output_type": "display_data"
    }
   ],
   "source": [
    "#create your own color array\n",
    "my_colors = [\"#9b59b6\", \"#3498db\", \n",
    "            \"#2ecc71\", \"#006a4e\"]\n",
    "  \n",
    "# add color array to set_palette\n",
    "# function of seaborn\n",
    "sns.set_palette( my_colors )\n",
    "df_ELOS=df_RR  \n",
    "sns.boxplot(x='ExpectedLOS',y='Service',data=df_ELOS,linewidth=3)\n",
    "plt.show()"
   ]
  },
  {
   "cell_type": "markdown",
   "id": "d079f181",
   "metadata": {},
   "source": [
    "# 14.Find the number of null values in BloodPressureSystolic column. "
   ]
  },
  {
   "cell_type": "code",
   "execution_count": 50,
   "id": "f3b6ab1c",
   "metadata": {},
   "outputs": [
    {
     "data": {
      "text/plain": [
       "124"
      ]
     },
     "execution_count": 50,
     "metadata": {},
     "output_type": "execute_result"
    }
   ],
   "source": [
    "df_BPS=df_AV\n",
    "df_BPS['BloodPressureSystolic'].isnull().sum()"
   ]
  },
  {
   "cell_type": "markdown",
   "id": "ab44e406",
   "metadata": {},
   "source": [
    "# 18.Add column 'Age' in Patient table."
   ]
  },
  {
   "cell_type": "code",
   "execution_count": 51,
   "id": "ea5a0cc4",
   "metadata": {},
   "outputs": [
    {
     "data": {
      "text/html": [
       "<div>\n",
       "<style scoped>\n",
       "    .dataframe tbody tr th:only-of-type {\n",
       "        vertical-align: middle;\n",
       "    }\n",
       "\n",
       "    .dataframe tbody tr th {\n",
       "        vertical-align: top;\n",
       "    }\n",
       "\n",
       "    .dataframe thead th {\n",
       "        text-align: right;\n",
       "    }\n",
       "</style>\n",
       "<table border=\"1\" class=\"dataframe\">\n",
       "  <thead>\n",
       "    <tr style=\"text-align: right;\">\n",
       "      <th></th>\n",
       "      <th>PatientID</th>\n",
       "      <th>FirstName</th>\n",
       "      <th>LastName</th>\n",
       "      <th>DateOfBirth</th>\n",
       "      <th>Gender</th>\n",
       "      <th>Race</th>\n",
       "      <th>Language</th>\n",
       "      <th>Age</th>\n",
       "    </tr>\n",
       "  </thead>\n",
       "  <tbody>\n",
       "    <tr>\n",
       "      <th>25</th>\n",
       "      <td>26</td>\n",
       "      <td>Sally</td>\n",
       "      <td>Bing</td>\n",
       "      <td>1972-08-03 00:05:39.560</td>\n",
       "      <td>Female</td>\n",
       "      <td>White</td>\n",
       "      <td>Spanish</td>\n",
       "      <td>50</td>\n",
       "    </tr>\n",
       "    <tr>\n",
       "      <th>28</th>\n",
       "      <td>29</td>\n",
       "      <td>Ted</td>\n",
       "      <td>Scott</td>\n",
       "      <td>1967-12-09 05:01:37.892</td>\n",
       "      <td>Female</td>\n",
       "      <td>White</td>\n",
       "      <td>Spanish</td>\n",
       "      <td>55</td>\n",
       "    </tr>\n",
       "    <tr>\n",
       "      <th>30</th>\n",
       "      <td>31</td>\n",
       "      <td>Harry</td>\n",
       "      <td>Ding</td>\n",
       "      <td>1960-10-08 01:42:51.212</td>\n",
       "      <td>Female</td>\n",
       "      <td>White</td>\n",
       "      <td>Spanish</td>\n",
       "      <td>62</td>\n",
       "    </tr>\n",
       "    <tr>\n",
       "      <th>33</th>\n",
       "      <td>34</td>\n",
       "      <td>Ted</td>\n",
       "      <td>Hue</td>\n",
       "      <td>1960-11-28 18:05:11.459</td>\n",
       "      <td>Female</td>\n",
       "      <td>White</td>\n",
       "      <td>Spanish</td>\n",
       "      <td>62</td>\n",
       "    </tr>\n",
       "    <tr>\n",
       "      <th>34</th>\n",
       "      <td>35</td>\n",
       "      <td>Fred</td>\n",
       "      <td>Tye</td>\n",
       "      <td>1966-04-14 06:01:07.169</td>\n",
       "      <td>Female</td>\n",
       "      <td>White</td>\n",
       "      <td>Spanish</td>\n",
       "      <td>56</td>\n",
       "    </tr>\n",
       "    <tr>\n",
       "      <th>...</th>\n",
       "      <td>...</td>\n",
       "      <td>...</td>\n",
       "      <td>...</td>\n",
       "      <td>...</td>\n",
       "      <td>...</td>\n",
       "      <td>...</td>\n",
       "      <td>...</td>\n",
       "      <td>...</td>\n",
       "    </tr>\n",
       "    <tr>\n",
       "      <th>865</th>\n",
       "      <td>866</td>\n",
       "      <td>Jermayne</td>\n",
       "      <td>Lowndes</td>\n",
       "      <td>1970-12-09 04:49:48.933</td>\n",
       "      <td>Female</td>\n",
       "      <td>White</td>\n",
       "      <td>English</td>\n",
       "      <td>52</td>\n",
       "    </tr>\n",
       "    <tr>\n",
       "      <th>866</th>\n",
       "      <td>867</td>\n",
       "      <td>Gail</td>\n",
       "      <td>Inc</td>\n",
       "      <td>1967-03-10 08:18:47.908</td>\n",
       "      <td>Female</td>\n",
       "      <td>White</td>\n",
       "      <td>English</td>\n",
       "      <td>55</td>\n",
       "    </tr>\n",
       "    <tr>\n",
       "      <th>867</th>\n",
       "      <td>868</td>\n",
       "      <td>Des</td>\n",
       "      <td>Heindrick</td>\n",
       "      <td>1969-08-15 11:05:30.165</td>\n",
       "      <td>Female</td>\n",
       "      <td>White</td>\n",
       "      <td>English</td>\n",
       "      <td>53</td>\n",
       "    </tr>\n",
       "    <tr>\n",
       "      <th>869</th>\n",
       "      <td>870</td>\n",
       "      <td>Hauck</td>\n",
       "      <td>Rubbens</td>\n",
       "      <td>1963-11-16 03:31:38.929</td>\n",
       "      <td>Female</td>\n",
       "      <td>White</td>\n",
       "      <td>English</td>\n",
       "      <td>59</td>\n",
       "    </tr>\n",
       "    <tr>\n",
       "      <th>873</th>\n",
       "      <td>874</td>\n",
       "      <td>Schroeder</td>\n",
       "      <td>McGarvey</td>\n",
       "      <td>1971-12-09 11:56:22.068</td>\n",
       "      <td>Female</td>\n",
       "      <td>White</td>\n",
       "      <td>English</td>\n",
       "      <td>51</td>\n",
       "    </tr>\n",
       "  </tbody>\n",
       "</table>\n",
       "<p>122 rows × 8 columns</p>\n",
       "</div>"
      ],
      "text/plain": [
       "     PatientID  FirstName   LastName             DateOfBirth  Gender   Race  \\\n",
       "25          26      Sally       Bing 1972-08-03 00:05:39.560  Female  White   \n",
       "28          29        Ted      Scott 1967-12-09 05:01:37.892  Female  White   \n",
       "30          31      Harry       Ding 1960-10-08 01:42:51.212  Female  White   \n",
       "33          34        Ted        Hue 1960-11-28 18:05:11.459  Female  White   \n",
       "34          35       Fred        Tye 1966-04-14 06:01:07.169  Female  White   \n",
       "..         ...        ...        ...                     ...     ...    ...   \n",
       "865        866   Jermayne    Lowndes 1970-12-09 04:49:48.933  Female  White   \n",
       "866        867       Gail        Inc 1967-03-10 08:18:47.908  Female  White   \n",
       "867        868        Des  Heindrick 1969-08-15 11:05:30.165  Female  White   \n",
       "869        870      Hauck    Rubbens 1963-11-16 03:31:38.929  Female  White   \n",
       "873        874  Schroeder   McGarvey 1971-12-09 11:56:22.068  Female  White   \n",
       "\n",
       "    Language  Age  \n",
       "25   Spanish   50  \n",
       "28   Spanish   55  \n",
       "30   Spanish   62  \n",
       "33   Spanish   62  \n",
       "34   Spanish   56  \n",
       "..       ...  ...  \n",
       "865  English   52  \n",
       "866  English   55  \n",
       "867  English   53  \n",
       "869  English   59  \n",
       "873  English   51  \n",
       "\n",
       "[122 rows x 8 columns]"
      ]
     },
     "execution_count": 51,
     "metadata": {},
     "output_type": "execute_result"
    }
   ],
   "source": [
    "from datetime import date\n",
    "df_PT=df_PA\n",
    "df_PT['Age'] = 1\n",
    "df_PT\n",
    "def calculate_age(birthdate):\n",
    "    today = date.today()\n",
    "    return today.year - birthdate.year - ((today.month, today.day) < (birthdate.month, birthdate.day))\n",
    "\n",
    "df_PT['Age'] = df_PT['DateOfBirth'].apply(calculate_age)\n",
    "df_PT"
   ]
  },
  {
   "attachments": {},
   "cell_type": "markdown",
   "id": "622da014",
   "metadata": {},
   "source": [
    "# 22.Create a dataframe with acuity and EDDisposition as the indices and the count of number of patients as the value.\n"
   ]
  },
  {
   "cell_type": "code",
   "execution_count": 52,
   "id": "242e86bd",
   "metadata": {},
   "outputs": [
    {
     "name": "stdout",
     "output_type": "stream",
     "text": [
      " Acuity EDDisposition  NoOfPatient\n",
      "      1      Admitted           32\n",
      "      1    Discharged          558\n",
      "      2      Admitted          116\n",
      "      2    Discharged           66\n",
      "      3      Admitted           81\n",
      "      4      Admitted          107\n",
      "      4    Discharged           30\n",
      "      5      Admitted          179\n",
      "      5    Discharged           30\n"
     ]
    }
   ],
   "source": [
    "df_ACEDD=df_EDV\n",
    "df_ACEDD[[\"PatientID\",\"Acuity\",\"EDDisposition\"]]\n",
    "Patient_ct=df_ACEDD.groupby(['Acuity','EDDisposition'])['PatientID'].count().reset_index(name='NoOfPatient')\n",
    "#print(Patient_ct)\n",
    "print(Patient_ct.to_string(index=False))"
   ]
  },
  {
   "attachments": {},
   "cell_type": "markdown",
   "id": "c54d3c15",
   "metadata": {},
   "source": [
    "# 26.Using arrays and loops, find the count of patients based on gender."
   ]
  },
  {
   "cell_type": "code",
   "execution_count": 53,
   "id": "789cf93f",
   "metadata": {},
   "outputs": [
    {
     "name": "stdout",
     "output_type": "stream",
     "text": [
      "Male_count: 0 Female_count: 122\n"
     ]
    }
   ],
   "source": [
    "column_as_np=df_PA[df_PA.columns[4]].to_numpy()\n",
    "Male_count = 0\n",
    "Female_count = 0\n",
    "for element in column_as_np:\n",
    "    if element == \"Male\":\n",
    "     Male_count += 1\n",
    "    elif element == \"Female\":\n",
    "     Female_count += 1\n",
    "print(\"Male_count:\",Male_count,\"Female_count:\",Female_count)            "
   ]
  },
  {
   "attachments": {},
   "cell_type": "markdown",
   "id": "d97199b8",
   "metadata": {},
   "source": [
    "# 30.Which patient id has most entries in readmission registry."
   ]
  },
  {
   "cell_type": "code",
   "execution_count": 54,
   "id": "ee5119cf",
   "metadata": {},
   "outputs": [
    {
     "name": "stdout",
     "output_type": "stream",
     "text": [
      " PatientID  ptcount\n",
      "        23        3\n"
     ]
    }
   ],
   "source": [
    "df_ENTRIES=df_RR\n",
    "df_pc = df_ENTRIES.groupby(['PatientID'])['PatientID'].count().reset_index(name='ptcount')\n",
    "df_max=df_pc[df_pc.ptcount == df_pc.ptcount.max()]\n",
    "print(df_max.to_string(index=False))"
   ]
  },
  {
   "cell_type": "markdown",
   "id": "9baf818a",
   "metadata": {},
   "source": [
    "# 34.np.arange(1,31).reshape(6,5) Find the array slicing to get the elements with values 11,12,16,17.\n"
   ]
  },
  {
   "cell_type": "code",
   "execution_count": 55,
   "id": "a31a916c",
   "metadata": {},
   "outputs": [
    {
     "name": "stdout",
     "output_type": "stream",
     "text": [
      "[[11 12]\n",
      " [16 17]]\n"
     ]
    }
   ],
   "source": [
    "array=np.arange(1,31).reshape(6,5)\n",
    "print(array[2:4,0:2])"
   ]
  },
  {
   "cell_type": "markdown",
   "id": "cf6135ef",
   "metadata": {},
   "source": [
    "# 38.Number of patients on 'Transfer' based on primary diagnosis.\n"
   ]
  },
  {
   "cell_type": "code",
   "execution_count": 56,
   "id": "4b610ad4",
   "metadata": {},
   "outputs": [
    {
     "name": "stdout",
     "output_type": "stream",
     "text": [
      "   PrimaryDiagnosis  count\n",
      "0              Afib      1\n",
      "1          Diabetes      7\n",
      "2               Flu      2\n",
      "3     Heart Failure      9\n",
      "4  Knee Replacement      1\n",
      "5        Laceration      1\n",
      "6              Pain      1\n",
      "7         Pneumonia      8\n",
      "8            Stroke      9\n"
     ]
    }
   ],
   "source": [
    "df_TPD=df_D\n",
    "df_pt=df_TPD[['PatientID','DischargeDisposition','PrimaryDiagnosis']]\n",
    "df_transferpt = df_pt[df_pt.DischargeDisposition == \"Transfer\"]\n",
    "Transfer_Patient=df_transferpt.groupby(['PrimaryDiagnosis'])['PrimaryDiagnosis'].count().reset_index(name='count')\n",
    "print(Transfer_Patient)\n"
   ]
  },
  {
   "cell_type": "markdown",
   "id": "ca14bc54",
   "metadata": {},
   "source": [
    "# 42.Using loc , get the details of the providers where providerId is between 11 and 20 and ProviderSpecialty is Surgery.\n"
   ]
  },
  {
   "cell_type": "code",
   "execution_count": 57,
   "id": "2f70dc48",
   "metadata": {},
   "outputs": [
    {
     "name": "stdout",
     "output_type": "stream",
     "text": [
      " ProviderID    ProviderName ProviderSpecialty     ProviderDateOnStaff\n",
      "         11    Kim Kimberly           Surgery 1998-05-10 14:47:29.468\n",
      "         12        Sarah Ab           Surgery 1998-08-18 05:22:40.762\n",
      "         13 Abigail Marriot           Surgery 1998-11-08 12:25:45.705\n",
      "         14         Dave Yu           Surgery 1999-06-26 16:18:57.436\n",
      "         15 Christian Saint           Surgery 2000-08-27 00:12:40.326\n",
      "         16    Perry Pardon           Surgery 2001-02-13 11:49:17.862\n"
     ]
    }
   ],
   "source": [
    "df_DETAILS=df_P.loc[((df_P['ProviderID'] >= 11) & (df_P['ProviderID'] <= 20) )\n",
    "             & (df_P['ProviderSpecialty'] == 'Surgery')]\n",
    "print(df_DETAILS.to_string(index=False))"
   ]
  },
  {
   "cell_type": "markdown",
   "id": "0666f31e",
   "metadata": {},
   "source": [
    "# 46.Write a code to split a sentence into words using regex.\n"
   ]
  },
  {
   "cell_type": "code",
   "execution_count": 58,
   "id": "12d9e1ea",
   "metadata": {},
   "outputs": [
    {
     "name": "stdout",
     "output_type": "stream",
     "text": [
      "['John,', 'is', 'learning', 'Python!']\n",
      "John,\n",
      "is\n",
      "learning\n",
      "Python!\n"
     ]
    }
   ],
   "source": [
    "Sentence = \"John, is learning Python!\"\n",
    "x = re.split(\"\\s\",Sentence)\n",
    "print(x)\n",
    "for y in x:\n",
    "    print(y)"
   ]
  },
  {
   "cell_type": "markdown",
   "id": "e592506a",
   "metadata": {},
   "source": [
    "# 50.Which departmentID has maximum number of visits scheduled.\n"
   ]
  },
  {
   "cell_type": "code",
   "execution_count": 59,
   "id": "68ba0de9",
   "metadata": {},
   "outputs": [
    {
     "name": "stdout",
     "output_type": "stream",
     "text": [
      " VisitDepartmentID  Visitcount\n",
      "                11         102\n"
     ]
    }
   ],
   "source": [
    "df_MAXIMUM=df_AV\n",
    "df_NoOfVisitsScheduled = df_MAXIMUM.groupby(['VisitDepartmentID'])['VisitDepartmentID'].count().reset_index(name='Visitcount')\n",
    "df_MaxVisits=df_NoOfVisitsScheduled[df_NoOfVisitsScheduled.Visitcount == df_NoOfVisitsScheduled.Visitcount.max()]\n",
    "print(df_MaxVisits.to_string(index=False))\n"
   ]
  },
  {
   "cell_type": "markdown",
   "id": "496c2fb9",
   "metadata": {},
   "source": [
    "# 54.Mortality O:E\n"
   ]
  },
  {
   "cell_type": "code",
   "execution_count": 60,
   "id": "d1d7c405",
   "metadata": {},
   "outputs": [
    {
     "name": "stdout",
     "output_type": "stream",
     "text": [
      "ObservedMortality_sum: 104\n",
      "ExpectedMortality_sum: 243.40526924839037\n",
      "mortalityO_E: 0.4272709474250124\n"
     ]
    }
   ],
   "source": [
    "df_DEXTD = df_D\n",
    "df_DEXTD['ObservedMortality'] = 1\n",
    "df_DEXTD\n",
    "def calculate_OM(DischargeDisposition):\n",
    "    if DischargeDisposition == 'Expired': \n",
    "     return 1 \n",
    "    else: \n",
    "     return 0\n",
    "\n",
    "df_DEXTD['ObservedMortality'] = df_DEXTD['DischargeDisposition'].apply(calculate_OM)\n",
    "df_DEXTD\n",
    "ObservedMortality_sum = df_DEXTD['ObservedMortality'].sum()\n",
    "print(\"ObservedMortality_sum:\",ObservedMortality_sum)\n",
    "ExpectedMortality_sum = df_DEXTD['ExpectedMortality'].sum()\n",
    "print(\"ExpectedMortality_sum:\",ExpectedMortality_sum)\n",
    "mortalityO_E=ObservedMortality_sum/ExpectedMortality_sum\n",
    "print(\"mortalityO_E:\",mortalityO_E)"
   ]
  },
  {
   "cell_type": "markdown",
   "id": "4138bf13",
   "metadata": {},
   "source": [
    "# 58.Display total count of patients service wise based on gender.\n"
   ]
  },
  {
   "cell_type": "code",
   "execution_count": 61,
   "id": "ec440127",
   "metadata": {},
   "outputs": [
    {
     "data": {
      "text/html": [
       "<div>\n",
       "<style scoped>\n",
       "    .dataframe tbody tr th:only-of-type {\n",
       "        vertical-align: middle;\n",
       "    }\n",
       "\n",
       "    .dataframe tbody tr th {\n",
       "        vertical-align: top;\n",
       "    }\n",
       "\n",
       "    .dataframe thead th {\n",
       "        text-align: right;\n",
       "    }\n",
       "</style>\n",
       "<table border=\"1\" class=\"dataframe\">\n",
       "  <thead>\n",
       "    <tr style=\"text-align: right;\">\n",
       "      <th></th>\n",
       "      <th>Service</th>\n",
       "      <th>Gender</th>\n",
       "      <th>countOfPatient</th>\n",
       "    </tr>\n",
       "  </thead>\n",
       "  <tbody>\n",
       "    <tr>\n",
       "      <th>0</th>\n",
       "      <td>Cardiology</td>\n",
       "      <td>Female</td>\n",
       "      <td>41</td>\n",
       "    </tr>\n",
       "    <tr>\n",
       "      <th>1</th>\n",
       "      <td>Cardiology</td>\n",
       "      <td>Male</td>\n",
       "      <td>54</td>\n",
       "    </tr>\n",
       "    <tr>\n",
       "      <th>2</th>\n",
       "      <td>General Medicine</td>\n",
       "      <td>Female</td>\n",
       "      <td>114</td>\n",
       "    </tr>\n",
       "    <tr>\n",
       "      <th>3</th>\n",
       "      <td>General Medicine</td>\n",
       "      <td>Male</td>\n",
       "      <td>149</td>\n",
       "    </tr>\n",
       "    <tr>\n",
       "      <th>4</th>\n",
       "      <td>Hospitalist</td>\n",
       "      <td>Female</td>\n",
       "      <td>35</td>\n",
       "    </tr>\n",
       "    <tr>\n",
       "      <th>5</th>\n",
       "      <td>Hospitalist</td>\n",
       "      <td>Male</td>\n",
       "      <td>66</td>\n",
       "    </tr>\n",
       "    <tr>\n",
       "      <th>6</th>\n",
       "      <td>ICU</td>\n",
       "      <td>Female</td>\n",
       "      <td>65</td>\n",
       "    </tr>\n",
       "    <tr>\n",
       "      <th>7</th>\n",
       "      <td>ICU</td>\n",
       "      <td>Male</td>\n",
       "      <td>86</td>\n",
       "    </tr>\n",
       "    <tr>\n",
       "      <th>8</th>\n",
       "      <td>Neurology</td>\n",
       "      <td>Female</td>\n",
       "      <td>34</td>\n",
       "    </tr>\n",
       "    <tr>\n",
       "      <th>9</th>\n",
       "      <td>Neurology</td>\n",
       "      <td>Male</td>\n",
       "      <td>31</td>\n",
       "    </tr>\n",
       "    <tr>\n",
       "      <th>10</th>\n",
       "      <td>Orthopeadics</td>\n",
       "      <td>Female</td>\n",
       "      <td>22</td>\n",
       "    </tr>\n",
       "    <tr>\n",
       "      <th>11</th>\n",
       "      <td>Orthopeadics</td>\n",
       "      <td>Male</td>\n",
       "      <td>23</td>\n",
       "    </tr>\n",
       "  </tbody>\n",
       "</table>\n",
       "</div>"
      ],
      "text/plain": [
       "             Service  Gender  countOfPatient\n",
       "0         Cardiology  Female              41\n",
       "1         Cardiology    Male              54\n",
       "2   General Medicine  Female             114\n",
       "3   General Medicine    Male             149\n",
       "4        Hospitalist  Female              35\n",
       "5        Hospitalist    Male              66\n",
       "6                ICU  Female              65\n",
       "7                ICU    Male              86\n",
       "8          Neurology  Female              34\n",
       "9          Neurology    Male              31\n",
       "10      Orthopeadics  Female              22\n",
       "11      Orthopeadics    Male              23"
      ]
     },
     "execution_count": 61,
     "metadata": {},
     "output_type": "execute_result"
    }
   ],
   "source": [
    "df_PA = pd.read_excel(xls, 'Patients')\n",
    "df_Total1=df_D[['PatientID','Service']]\n",
    "df_Total2=df_PA[['PatientID','Gender']]\n",
    "df_merge=pd.merge(df_Total1,df_Total2,how='inner',on ='PatientID')\n",
    "\n",
    "df_total=df_merge.groupby(['Service','Gender'])['Gender'].count().reset_index(name='countOfPatient')\n",
    "df_total"
   ]
  },
  {
   "cell_type": "markdown",
   "id": "128df26c",
   "metadata": {},
   "source": [
    "# 62.Display the data for all 'White Female' patients above the age of 50.\n"
   ]
  },
  {
   "cell_type": "code",
   "execution_count": 62,
   "id": "82d35719",
   "metadata": {},
   "outputs": [
    {
     "data": {
      "text/html": [
       "<div>\n",
       "<style scoped>\n",
       "    .dataframe tbody tr th:only-of-type {\n",
       "        vertical-align: middle;\n",
       "    }\n",
       "\n",
       "    .dataframe tbody tr th {\n",
       "        vertical-align: top;\n",
       "    }\n",
       "\n",
       "    .dataframe thead th {\n",
       "        text-align: right;\n",
       "    }\n",
       "</style>\n",
       "<table border=\"1\" class=\"dataframe\">\n",
       "  <thead>\n",
       "    <tr style=\"text-align: right;\">\n",
       "      <th></th>\n",
       "      <th>PatientID</th>\n",
       "      <th>FirstName</th>\n",
       "      <th>LastName</th>\n",
       "      <th>DateOfBirth</th>\n",
       "      <th>Gender</th>\n",
       "      <th>Race</th>\n",
       "      <th>Language</th>\n",
       "      <th>Age</th>\n",
       "    </tr>\n",
       "  </thead>\n",
       "  <tbody>\n",
       "    <tr>\n",
       "      <th>25</th>\n",
       "      <td>26</td>\n",
       "      <td>Sally</td>\n",
       "      <td>Bing</td>\n",
       "      <td>1972-08-03 00:05:39.560</td>\n",
       "      <td>Female</td>\n",
       "      <td>White</td>\n",
       "      <td>Spanish</td>\n",
       "      <td>50</td>\n",
       "    </tr>\n",
       "    <tr>\n",
       "      <th>28</th>\n",
       "      <td>29</td>\n",
       "      <td>Ted</td>\n",
       "      <td>Scott</td>\n",
       "      <td>1967-12-09 05:01:37.892</td>\n",
       "      <td>Female</td>\n",
       "      <td>White</td>\n",
       "      <td>Spanish</td>\n",
       "      <td>55</td>\n",
       "    </tr>\n",
       "    <tr>\n",
       "      <th>30</th>\n",
       "      <td>31</td>\n",
       "      <td>Harry</td>\n",
       "      <td>Ding</td>\n",
       "      <td>1960-10-08 01:42:51.212</td>\n",
       "      <td>Female</td>\n",
       "      <td>White</td>\n",
       "      <td>Spanish</td>\n",
       "      <td>62</td>\n",
       "    </tr>\n",
       "    <tr>\n",
       "      <th>33</th>\n",
       "      <td>34</td>\n",
       "      <td>Ted</td>\n",
       "      <td>Hue</td>\n",
       "      <td>1960-11-28 18:05:11.459</td>\n",
       "      <td>Female</td>\n",
       "      <td>White</td>\n",
       "      <td>Spanish</td>\n",
       "      <td>62</td>\n",
       "    </tr>\n",
       "    <tr>\n",
       "      <th>34</th>\n",
       "      <td>35</td>\n",
       "      <td>Fred</td>\n",
       "      <td>Tye</td>\n",
       "      <td>1966-04-14 06:01:07.169</td>\n",
       "      <td>Female</td>\n",
       "      <td>White</td>\n",
       "      <td>Spanish</td>\n",
       "      <td>56</td>\n",
       "    </tr>\n",
       "    <tr>\n",
       "      <th>...</th>\n",
       "      <td>...</td>\n",
       "      <td>...</td>\n",
       "      <td>...</td>\n",
       "      <td>...</td>\n",
       "      <td>...</td>\n",
       "      <td>...</td>\n",
       "      <td>...</td>\n",
       "      <td>...</td>\n",
       "    </tr>\n",
       "    <tr>\n",
       "      <th>865</th>\n",
       "      <td>866</td>\n",
       "      <td>Jermayne</td>\n",
       "      <td>Lowndes</td>\n",
       "      <td>1970-12-09 04:49:48.933</td>\n",
       "      <td>Female</td>\n",
       "      <td>White</td>\n",
       "      <td>English</td>\n",
       "      <td>52</td>\n",
       "    </tr>\n",
       "    <tr>\n",
       "      <th>866</th>\n",
       "      <td>867</td>\n",
       "      <td>Gail</td>\n",
       "      <td>Inc</td>\n",
       "      <td>1967-03-10 08:18:47.908</td>\n",
       "      <td>Female</td>\n",
       "      <td>White</td>\n",
       "      <td>English</td>\n",
       "      <td>55</td>\n",
       "    </tr>\n",
       "    <tr>\n",
       "      <th>867</th>\n",
       "      <td>868</td>\n",
       "      <td>Des</td>\n",
       "      <td>Heindrick</td>\n",
       "      <td>1969-08-15 11:05:30.165</td>\n",
       "      <td>Female</td>\n",
       "      <td>White</td>\n",
       "      <td>English</td>\n",
       "      <td>53</td>\n",
       "    </tr>\n",
       "    <tr>\n",
       "      <th>869</th>\n",
       "      <td>870</td>\n",
       "      <td>Hauck</td>\n",
       "      <td>Rubbens</td>\n",
       "      <td>1963-11-16 03:31:38.929</td>\n",
       "      <td>Female</td>\n",
       "      <td>White</td>\n",
       "      <td>English</td>\n",
       "      <td>59</td>\n",
       "    </tr>\n",
       "    <tr>\n",
       "      <th>873</th>\n",
       "      <td>874</td>\n",
       "      <td>Schroeder</td>\n",
       "      <td>McGarvey</td>\n",
       "      <td>1971-12-09 11:56:22.068</td>\n",
       "      <td>Female</td>\n",
       "      <td>White</td>\n",
       "      <td>English</td>\n",
       "      <td>51</td>\n",
       "    </tr>\n",
       "  </tbody>\n",
       "</table>\n",
       "<p>122 rows × 8 columns</p>\n",
       "</div>"
      ],
      "text/plain": [
       "     PatientID  FirstName   LastName             DateOfBirth  Gender   Race  \\\n",
       "25          26      Sally       Bing 1972-08-03 00:05:39.560  Female  White   \n",
       "28          29        Ted      Scott 1967-12-09 05:01:37.892  Female  White   \n",
       "30          31      Harry       Ding 1960-10-08 01:42:51.212  Female  White   \n",
       "33          34        Ted        Hue 1960-11-28 18:05:11.459  Female  White   \n",
       "34          35       Fred        Tye 1966-04-14 06:01:07.169  Female  White   \n",
       "..         ...        ...        ...                     ...     ...    ...   \n",
       "865        866   Jermayne    Lowndes 1970-12-09 04:49:48.933  Female  White   \n",
       "866        867       Gail        Inc 1967-03-10 08:18:47.908  Female  White   \n",
       "867        868        Des  Heindrick 1969-08-15 11:05:30.165  Female  White   \n",
       "869        870      Hauck    Rubbens 1963-11-16 03:31:38.929  Female  White   \n",
       "873        874  Schroeder   McGarvey 1971-12-09 11:56:22.068  Female  White   \n",
       "\n",
       "    Language  Age  \n",
       "25   Spanish   50  \n",
       "28   Spanish   55  \n",
       "30   Spanish   62  \n",
       "33   Spanish   62  \n",
       "34   Spanish   56  \n",
       "..       ...  ...  \n",
       "865  English   52  \n",
       "866  English   55  \n",
       "867  English   53  \n",
       "869  English   59  \n",
       "873  English   51  \n",
       "\n",
       "[122 rows x 8 columns]"
      ]
     },
     "execution_count": 62,
     "metadata": {},
     "output_type": "execute_result"
    }
   ],
   "source": [
    "from datetime import date\n",
    "df_WFP=df_PA\n",
    "df_WFP['Age'] = 1\n",
    "df_WFP\n",
    "def calculate_age(birthdate):\n",
    "    today = date.today()\n",
    "    return today.year - birthdate.year - ((today.month, today.day) < (birthdate.month, birthdate.day))\n",
    "\n",
    "df_WFP['Age'] = df_WFP['DateOfBirth'].apply(calculate_age)\n",
    "\n",
    "df_WFP=df_WFP.loc[(df_WFP['Race'] == 'White') & (df_WFP['Gender'] == 'Female') \n",
    "             & (df_WFP['Age'] >= 50)]\n",
    "df_WFP\n",
    "#print(df_PA.to_string(index=False))"
   ]
  },
  {
   "cell_type": "markdown",
   "id": "d7223e6e",
   "metadata": {},
   "source": [
    "# 66.np.arange(1,31).reshape(6,5), find array slicing to get the elements 4,5,24,25,29,30.\n"
   ]
  },
  {
   "cell_type": "code",
   "execution_count": 18,
   "id": "1e6947f7",
   "metadata": {},
   "outputs": [
    {
     "name": "stdout",
     "output_type": "stream",
     "text": [
      "[[ 4  5]\n",
      " [24 25]\n",
      " [29 30]]\n"
     ]
    }
   ],
   "source": [
    "a=np.arange(1,31).reshape(6,5)\n",
    "\n",
    "print(a[[0,4,5],3:5])\n",
    "\n"
   ]
  },
  {
   "cell_type": "markdown",
   "id": "ad3cf7ab",
   "metadata": {},
   "source": [
    "# 70.Plot a graph to show the distribution of expected mortality.\n"
   ]
  },
  {
   "cell_type": "code",
   "execution_count": 64,
   "id": "81189656",
   "metadata": {},
   "outputs": [
    {
     "data": {
      "image/png": "[encoded data removed]",
      "text/plain": [
       "<Figure size 500x500 with 1 Axes>"
      ]
     },
     "metadata": {},
     "output_type": "display_data"
    }
   ],
   "source": [
    "df_DEM=df_RR\n",
    "sns.displot(df_DEM['ExpectedMortality'],color = 'blue')\n",
    "plt.show()"
   ]
  },
  {
   "cell_type": "markdown",
   "id": "3dcd8d3b",
   "metadata": {},
   "source": [
    "# 74.Connect to sql and write a query to get Ambulatory visit record's year. (Attach screenshots for this question)\n"
   ]
  },
  {
   "cell_type": "code",
   "execution_count": 72,
   "id": "c023f72e",
   "metadata": {},
   "outputs": [
    {
     "name": "stdout",
     "output_type": "stream",
     "text": [
      "Data from Database:-  [(Decimal('2019'),)]\n"
     ]
    }
   ],
   "source": [
    "import psycopg2\n",
    "\n",
    "conn = psycopg2.connect(\n",
    "   database=\"hospital_db\", user='postgres', password='12345', host='::1', port= 5432\n",
    ")\n",
    "cursor = conn.cursor()\n",
    "\n",
    "cursor.execute('''Select distinct(extract(year from \"DateofVisit\")) from \"AmbulatoryVisits\" ''')\n",
    "# Fetch all rows from database\n",
    "record = cursor.fetchall()\n",
    "print(\"Data from Database:- \", record)\n",
    "conn.commit()\n",
    "cursor.close()\n",
    "conn.close()"
   ]
  },
  {
   "cell_type": "markdown",
   "id": "e3c8cfe3",
   "metadata": {},
   "source": [
    "<img src=\"C:\\Users\\sadha\\OneDrive\\Pictures\\Screenshots\\2023-01-11 (1).png\" alt=\"Alternative text\" />"
   ]
  },
  {
   "cell_type": "markdown",
   "id": "ca7f8782",
   "metadata": {},
   "source": [
    "# 78.Find reasonForVisit with highest count of acuity 5 patients.\n"
   ]
  },
  {
   "cell_type": "code",
   "execution_count": 65,
   "id": "d31ad939",
   "metadata": {},
   "outputs": [
    {
     "name": "stdout",
     "output_type": "stream",
     "text": [
      "  ReasonForVisit  Acuity  CountOfAcuity\n",
      "2     Chest Pain       5             53\n"
     ]
    }
   ],
   "source": [
    "df2=df_EDU[['ReasonForVisit','Acuity']]\n",
    "df3=df2.loc[(df2['Acuity'] == 5)]\n",
    "df4=df3.groupby(['ReasonForVisit','Acuity'])['Acuity'].count().reset_index(name='CountOfAcuity')\n",
    "df5=df4[df4.CountOfAcuity == df4.CountOfAcuity.max()]\n",
    "print(df5)\n"
   ]
  },
  {
   "cell_type": "code",
   "execution_count": null,
   "id": "f9ad4e45",
   "metadata": {},
   "outputs": [],
   "source": []
  },
  {
   "cell_type": "code",
   "execution_count": null,
   "id": "b7831331",
   "metadata": {},
   "outputs": [],
   "source": []
  }
 ],
 "metadata": {
  "kernelspec": {
   "display_name": "Python 3 (ipykernel)",
   "language": "python",
   "name": "python3"
  },
  "language_info": {
   "codemirror_mode": {
    "name": "ipython",
    "version": 3
   },
   "file_extension": ".py",
   "mimetype": "text/x-python",
   "name": "python",
   "nbconvert_exporter": "python",
   "pygments_lexer": "ipython3",
   "version": "3.9.13"
  }
 },
 "nbformat": 4,
 "nbformat_minor": 5
}
