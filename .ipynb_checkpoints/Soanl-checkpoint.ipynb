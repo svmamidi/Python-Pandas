{
 "cells": [
  {
   "cell_type": "code",
   "execution_count": 10,
   "id": "b2e1f6fd",
   "metadata": {},
   "outputs": [],
   "source": [
    "import numpy as np\n",
    "import pandas as pd\n",
    "import matplotlib.pyplot as plt\n",
    "import seaborn as sns\n",
    "import re"
   ]
  },
  {
   "cell_type": "code",
   "execution_count": 11,
   "id": "b6f8842c",
   "metadata": {},
   "outputs": [],
   "source": [
    "#Reading the dataset\n",
    "#xls=pd.ExcelFile('HospitalDatabase.xlsx')\n",
    "xls = pd.ExcelFile('HospitalDatabase .xlsx')\n",
    "#Reading the ReAdmissionRegistry sheet\n",
    "df_RR=pd.read_excel(xls,'ReAdmissionRegistry')\n",
    "#Reading the Patients sheet\n",
    "df_PA=pd.read_excel(xls,'Patients')\n",
    "#Reading the EDVisits sheet\n",
    "df_EDV=pd.read_excel(xls,'EDVisits')\n",
    "#Reading the AmbulatoryVisits sheet\n",
    "df_AV=pd.read_excel(xls,'AmbulatoryVisits')\n",
    "#Reading the Discharges sheet\n",
    "df_D = pd.read_excel(xls, 'Discharges')\n",
    "#Reading the Providers sheet\n",
    "df_P= pd.read_excel(xls, 'Providers')\n",
    "#Reading the EDUnique sheet\n",
    "df_EDU = pd.read_excel(xls, 'EDUnique')"
   ]
  },
  {
   "cell_type": "code",
   "execution_count": 12,
   "id": "16b33257",
   "metadata": {},
   "outputs": [
    {
     "data": {
      "text/html": [
       "<div>\n",
       "<style scoped>\n",
       "    .dataframe tbody tr th:only-of-type {\n",
       "        vertical-align: middle;\n",
       "    }\n",
       "\n",
       "    .dataframe tbody tr th {\n",
       "        vertical-align: top;\n",
       "    }\n",
       "\n",
       "    .dataframe thead th {\n",
       "        text-align: right;\n",
       "    }\n",
       "</style>\n",
       "<table border=\"1\" class=\"dataframe\">\n",
       "  <thead>\n",
       "    <tr style=\"text-align: right;\">\n",
       "      <th></th>\n",
       "      <th>AdmissionID</th>\n",
       "      <th>PatientID</th>\n",
       "      <th>AdmissionDate</th>\n",
       "      <th>DischargeDate</th>\n",
       "      <th>DischargeDisposition</th>\n",
       "      <th>Service</th>\n",
       "      <th>PrimaryDiagnosis</th>\n",
       "      <th>ExpectedLOS</th>\n",
       "      <th>ExpectedMortality</th>\n",
       "      <th>ReadmissionFlag</th>\n",
       "      <th>DaysToReadmission</th>\n",
       "      <th>EDVisitAfterDischargeFlag</th>\n",
       "    </tr>\n",
       "  </thead>\n",
       "  <tbody>\n",
       "    <tr>\n",
       "      <th>0</th>\n",
       "      <td>389</td>\n",
       "      <td>1</td>\n",
       "      <td>2018-01-01</td>\n",
       "      <td>2018-01-04 19:59:31.391</td>\n",
       "      <td>Home</td>\n",
       "      <td>Hospitalist</td>\n",
       "      <td>Kidney Failure</td>\n",
       "      <td>6.717771</td>\n",
       "      <td>0.010046</td>\n",
       "      <td>NaN</td>\n",
       "      <td>NaN</td>\n",
       "      <td>NaN</td>\n",
       "    </tr>\n",
       "    <tr>\n",
       "      <th>1</th>\n",
       "      <td>635</td>\n",
       "      <td>2</td>\n",
       "      <td>2018-01-01</td>\n",
       "      <td>2018-01-04 21:28:51.898</td>\n",
       "      <td>Home</td>\n",
       "      <td>General Medicine</td>\n",
       "      <td>Flu</td>\n",
       "      <td>3.825969</td>\n",
       "      <td>0.604562</td>\n",
       "      <td>1.0</td>\n",
       "      <td>2.0</td>\n",
       "      <td>1.0</td>\n",
       "    </tr>\n",
       "    <tr>\n",
       "      <th>2</th>\n",
       "      <td>606</td>\n",
       "      <td>3</td>\n",
       "      <td>2018-01-01</td>\n",
       "      <td>2018-01-04 22:28:23.672</td>\n",
       "      <td>Home</td>\n",
       "      <td>General Medicine</td>\n",
       "      <td>Flu</td>\n",
       "      <td>3.382493</td>\n",
       "      <td>0.266137</td>\n",
       "      <td>1.0</td>\n",
       "      <td>3.0</td>\n",
       "      <td>1.0</td>\n",
       "    </tr>\n",
       "    <tr>\n",
       "      <th>3</th>\n",
       "      <td>587</td>\n",
       "      <td>5</td>\n",
       "      <td>2018-01-01</td>\n",
       "      <td>2018-01-05 05:47:04.933</td>\n",
       "      <td>Home</td>\n",
       "      <td>General Medicine</td>\n",
       "      <td>Flu</td>\n",
       "      <td>3.763352</td>\n",
       "      <td>0.307527</td>\n",
       "      <td>1.0</td>\n",
       "      <td>4.0</td>\n",
       "      <td>1.0</td>\n",
       "    </tr>\n",
       "    <tr>\n",
       "      <th>4</th>\n",
       "      <td>640</td>\n",
       "      <td>6</td>\n",
       "      <td>2018-01-01</td>\n",
       "      <td>2018-01-05 14:18:30.029</td>\n",
       "      <td>Home</td>\n",
       "      <td>ICU</td>\n",
       "      <td>Heart Failure</td>\n",
       "      <td>13.650953</td>\n",
       "      <td>0.408898</td>\n",
       "      <td>NaN</td>\n",
       "      <td>NaN</td>\n",
       "      <td>NaN</td>\n",
       "    </tr>\n",
       "  </tbody>\n",
       "</table>\n",
       "</div>"
      ],
      "text/plain": [
       "   AdmissionID  PatientID AdmissionDate           DischargeDate  \\\n",
       "0          389          1    2018-01-01 2018-01-04 19:59:31.391   \n",
       "1          635          2    2018-01-01 2018-01-04 21:28:51.898   \n",
       "2          606          3    2018-01-01 2018-01-04 22:28:23.672   \n",
       "3          587          5    2018-01-01 2018-01-05 05:47:04.933   \n",
       "4          640          6    2018-01-01 2018-01-05 14:18:30.029   \n",
       "\n",
       "  DischargeDisposition           Service PrimaryDiagnosis  ExpectedLOS  \\\n",
       "0                 Home       Hospitalist   Kidney Failure     6.717771   \n",
       "1                 Home  General Medicine              Flu     3.825969   \n",
       "2                 Home  General Medicine              Flu     3.382493   \n",
       "3                 Home  General Medicine              Flu     3.763352   \n",
       "4                 Home               ICU    Heart Failure    13.650953   \n",
       "\n",
       "   ExpectedMortality  ReadmissionFlag  DaysToReadmission  \\\n",
       "0           0.010046              NaN                NaN   \n",
       "1           0.604562              1.0                2.0   \n",
       "2           0.266137              1.0                3.0   \n",
       "3           0.307527              1.0                4.0   \n",
       "4           0.408898              NaN                NaN   \n",
       "\n",
       "   EDVisitAfterDischargeFlag  \n",
       "0                        NaN  \n",
       "1                        1.0  \n",
       "2                        1.0  \n",
       "3                        1.0  \n",
       "4                        NaN  "
      ]
     },
     "execution_count": 12,
     "metadata": {},
     "output_type": "execute_result"
    }
   ],
   "source": [
    "df_RR.head()"
   ]
  },
  {
   "cell_type": "markdown",
   "id": "e556480a",
   "metadata": {},
   "source": [
    "### 1.Make a pair plot on Readmission Registry table & do u see any correlation between columns values.¶"
   ]
  },
  {
   "cell_type": "code",
   "execution_count": null,
   "id": "af1e52c0",
   "metadata": {},
   "outputs": [],
   "source": [
    "sns.pairplot(df_RR,hue=\"Service\",palette=\"husl\")\n",
    "plt.show()\n",
    "#Can not see any co-relation"
   ]
  },
  {
   "cell_type": "markdown",
   "id": "22d3f54d",
   "metadata": {},
   "source": [
    "### 5.Display full name of patients who are born in 1986."
   ]
  },
  {
   "cell_type": "code",
   "execution_count": 53,
   "id": "14636633",
   "metadata": {},
   "outputs": [
    {
     "data": {
      "text/html": [
       "<div>\n",
       "<style scoped>\n",
       "    .dataframe tbody tr th:only-of-type {\n",
       "        vertical-align: middle;\n",
       "    }\n",
       "\n",
       "    .dataframe tbody tr th {\n",
       "        vertical-align: top;\n",
       "    }\n",
       "\n",
       "    .dataframe thead th {\n",
       "        text-align: right;\n",
       "    }\n",
       "</style>\n",
       "<table border=\"1\" class=\"dataframe\">\n",
       "  <thead>\n",
       "    <tr style=\"text-align: right;\">\n",
       "      <th></th>\n",
       "      <th>FullName</th>\n",
       "      <th>BirthYear</th>\n",
       "      <th>DateOfBirth</th>\n",
       "    </tr>\n",
       "  </thead>\n",
       "  <tbody>\n",
       "    <tr>\n",
       "      <th>23</th>\n",
       "      <td>Gabriel  Joseph</td>\n",
       "      <td>1986</td>\n",
       "      <td>1986-05-31 09:36:05.716</td>\n",
       "    </tr>\n",
       "    <tr>\n",
       "      <th>24</th>\n",
       "      <td>Lincoln  Brenda</td>\n",
       "      <td>1986</td>\n",
       "      <td>1986-07-24 17:36:00.791</td>\n",
       "    </tr>\n",
       "    <tr>\n",
       "      <th>29</th>\n",
       "      <td>Ala Halpert</td>\n",
       "      <td>1986</td>\n",
       "      <td>1986-11-26 10:44:22.628</td>\n",
       "    </tr>\n",
       "    <tr>\n",
       "      <th>72</th>\n",
       "      <td>Lolita Darci</td>\n",
       "      <td>1986</td>\n",
       "      <td>1986-01-08 02:34:04.596</td>\n",
       "    </tr>\n",
       "    <tr>\n",
       "      <th>164</th>\n",
       "      <td>Fadel Bernardt</td>\n",
       "      <td>1986</td>\n",
       "      <td>1986-05-29 00:35:58.694</td>\n",
       "    </tr>\n",
       "    <tr>\n",
       "      <th>238</th>\n",
       "      <td>Bentley Kippax</td>\n",
       "      <td>1986</td>\n",
       "      <td>1986-02-11 06:22:40.734</td>\n",
       "    </tr>\n",
       "    <tr>\n",
       "      <th>367</th>\n",
       "      <td>Vale Olanda</td>\n",
       "      <td>1986</td>\n",
       "      <td>1986-04-15 00:49:58.690</td>\n",
       "    </tr>\n",
       "    <tr>\n",
       "      <th>373</th>\n",
       "      <td>Britt Dureden</td>\n",
       "      <td>1986</td>\n",
       "      <td>1986-11-19 23:50:47.955</td>\n",
       "    </tr>\n",
       "    <tr>\n",
       "      <th>386</th>\n",
       "      <td>Cristabel Chatel</td>\n",
       "      <td>1986</td>\n",
       "      <td>1986-07-10 16:27:30.640</td>\n",
       "    </tr>\n",
       "    <tr>\n",
       "      <th>415</th>\n",
       "      <td>Constantia Group</td>\n",
       "      <td>1986</td>\n",
       "      <td>1986-03-26 06:37:22.525</td>\n",
       "    </tr>\n",
       "    <tr>\n",
       "      <th>452</th>\n",
       "      <td>Morgan Scrowston</td>\n",
       "      <td>1986</td>\n",
       "      <td>1986-12-19 21:34:24.472</td>\n",
       "    </tr>\n",
       "    <tr>\n",
       "      <th>561</th>\n",
       "      <td>Dom Baglow</td>\n",
       "      <td>1986</td>\n",
       "      <td>1986-07-26 14:43:49.240</td>\n",
       "    </tr>\n",
       "    <tr>\n",
       "      <th>568</th>\n",
       "      <td>Ignazio Melling</td>\n",
       "      <td>1986</td>\n",
       "      <td>1986-12-25 03:40:43.884</td>\n",
       "    </tr>\n",
       "    <tr>\n",
       "      <th>595</th>\n",
       "      <td>Homenick Rings</td>\n",
       "      <td>1986</td>\n",
       "      <td>1986-02-24 15:08:30.404</td>\n",
       "    </tr>\n",
       "    <tr>\n",
       "      <th>639</th>\n",
       "      <td>Hashim Slark</td>\n",
       "      <td>1986</td>\n",
       "      <td>1986-10-13 10:40:43.596</td>\n",
       "    </tr>\n",
       "    <tr>\n",
       "      <th>643</th>\n",
       "      <td>Ellie Ramsbotham</td>\n",
       "      <td>1986</td>\n",
       "      <td>1986-05-21 16:35:52.711</td>\n",
       "    </tr>\n",
       "    <tr>\n",
       "      <th>674</th>\n",
       "      <td>Llewellyn Group</td>\n",
       "      <td>1986</td>\n",
       "      <td>1986-11-09 17:15:11.196</td>\n",
       "    </tr>\n",
       "    <tr>\n",
       "      <th>714</th>\n",
       "      <td>Niles Shaw</td>\n",
       "      <td>1986</td>\n",
       "      <td>1986-12-15 06:31:44.358</td>\n",
       "    </tr>\n",
       "    <tr>\n",
       "      <th>733</th>\n",
       "      <td>Yvette Inc</td>\n",
       "      <td>1986</td>\n",
       "      <td>1986-11-23 02:32:12.587</td>\n",
       "    </tr>\n",
       "    <tr>\n",
       "      <th>777</th>\n",
       "      <td>Siouxie Group</td>\n",
       "      <td>1986</td>\n",
       "      <td>1986-04-28 03:25:01.182</td>\n",
       "    </tr>\n",
       "    <tr>\n",
       "      <th>852</th>\n",
       "      <td>Carly Group</td>\n",
       "      <td>1986</td>\n",
       "      <td>1986-11-21 02:44:49.632</td>\n",
       "    </tr>\n",
       "    <tr>\n",
       "      <th>868</th>\n",
       "      <td>Worth Pickering</td>\n",
       "      <td>1986</td>\n",
       "      <td>1986-12-22 08:21:02.691</td>\n",
       "    </tr>\n",
       "    <tr>\n",
       "      <th>877</th>\n",
       "      <td>Arni Baldack</td>\n",
       "      <td>1986</td>\n",
       "      <td>1986-04-10 13:18:15.354</td>\n",
       "    </tr>\n",
       "    <tr>\n",
       "      <th>909</th>\n",
       "      <td>Kuvalis Coupland</td>\n",
       "      <td>1986</td>\n",
       "      <td>1986-05-23 19:23:27.752</td>\n",
       "    </tr>\n",
       "    <tr>\n",
       "      <th>922</th>\n",
       "      <td>Rebbecca Rollingson</td>\n",
       "      <td>1986</td>\n",
       "      <td>1986-09-29 11:58:56.983</td>\n",
       "    </tr>\n",
       "    <tr>\n",
       "      <th>940</th>\n",
       "      <td>Wat Fideler</td>\n",
       "      <td>1986</td>\n",
       "      <td>1986-05-26 00:01:19.761</td>\n",
       "    </tr>\n",
       "  </tbody>\n",
       "</table>\n",
       "</div>"
      ],
      "text/plain": [
       "                FullName  BirthYear             DateOfBirth\n",
       "23       Gabriel  Joseph       1986 1986-05-31 09:36:05.716\n",
       "24       Lincoln  Brenda       1986 1986-07-24 17:36:00.791\n",
       "29           Ala Halpert       1986 1986-11-26 10:44:22.628\n",
       "72          Lolita Darci       1986 1986-01-08 02:34:04.596\n",
       "164       Fadel Bernardt       1986 1986-05-29 00:35:58.694\n",
       "238       Bentley Kippax       1986 1986-02-11 06:22:40.734\n",
       "367          Vale Olanda       1986 1986-04-15 00:49:58.690\n",
       "373        Britt Dureden       1986 1986-11-19 23:50:47.955\n",
       "386     Cristabel Chatel       1986 1986-07-10 16:27:30.640\n",
       "415     Constantia Group       1986 1986-03-26 06:37:22.525\n",
       "452     Morgan Scrowston       1986 1986-12-19 21:34:24.472\n",
       "561           Dom Baglow       1986 1986-07-26 14:43:49.240\n",
       "568      Ignazio Melling       1986 1986-12-25 03:40:43.884\n",
       "595       Homenick Rings       1986 1986-02-24 15:08:30.404\n",
       "639         Hashim Slark       1986 1986-10-13 10:40:43.596\n",
       "643     Ellie Ramsbotham       1986 1986-05-21 16:35:52.711\n",
       "674      Llewellyn Group       1986 1986-11-09 17:15:11.196\n",
       "714           Niles Shaw       1986 1986-12-15 06:31:44.358\n",
       "733           Yvette Inc       1986 1986-11-23 02:32:12.587\n",
       "777        Siouxie Group       1986 1986-04-28 03:25:01.182\n",
       "852          Carly Group       1986 1986-11-21 02:44:49.632\n",
       "868      Worth Pickering       1986 1986-12-22 08:21:02.691\n",
       "877         Arni Baldack       1986 1986-04-10 13:18:15.354\n",
       "909     Kuvalis Coupland       1986 1986-05-23 19:23:27.752\n",
       "922  Rebbecca Rollingson       1986 1986-09-29 11:58:56.983\n",
       "940          Wat Fideler       1986 1986-05-26 00:01:19.761"
      ]
     },
     "execution_count": 53,
     "metadata": {},
     "output_type": "execute_result"
    }
   ],
   "source": [
    "#df_PA.head()\n",
    "df_PA[\"FullName\"] = df_PA[\"FirstName\"] + ' ' + df_PA[\"LastName\"]\n",
    "df_PA[\"DateOfBirth\"] = pd.to_datetime(df_PA[\"DateOfBirth\"])\n",
    "df_PA['BirthYear'] = df_PA[\"DateOfBirth\"].dt.year #extracting year from DateOfbirth\n",
    "\n",
    "New_df_PA=df_PA[df_PA['BirthYear']==1986] #Result dataframe\n",
    "New_df_PA[[\"FullName\",\"BirthYear\",\"DateOfBirth\"]]"
   ]
  },
  {
   "cell_type": "markdown",
   "id": "df8cb0c3",
   "metadata": {},
   "source": [
    "### 9.Get the list of patient ID's which are not there in ReadmissionRegistry."
   ]
  },
  {
   "cell_type": "code",
   "execution_count": 17,
   "id": "e48a49eb",
   "metadata": {},
   "outputs": [
    {
     "name": "stdout",
     "output_type": "stream",
     "text": [
      "[4, 135, 145, 189, 200, 224, 234, 374, 378, 379, 380, 381, 382, 383, 384, 385, 386, 387, 388, 389, 390, 391, 392, 393, 394, 395, 396, 397, 398, 399, 414, 501, 562, 599, 690, 691, 704, 726, 743, 744, 745, 746, 747, 748, 749, 750, 751, 752, 753, 754, 755, 756, 757, 758, 759, 760, 761, 762, 763, 764, 765, 766, 767, 768, 769, 770, 771, 772, 773, 774, 775, 776, 777, 778, 779, 780, 781, 782, 783, 784, 785, 786, 787, 788, 789, 790, 791, 792, 793, 794, 795, 796, 797, 798, 799, 800, 801, 802, 803, 804, 805, 806, 807, 808, 809, 810, 811, 812, 813, 814, 815, 816, 817, 818, 819, 820, 821, 822, 823, 824, 825, 826, 827, 828, 829, 830, 831, 832, 833, 834, 835, 836, 837, 838, 839, 840, 841, 842, 843, 844, 845, 846, 847, 848, 849, 850, 851, 852, 853, 854, 855, 856, 857, 858, 859, 860, 861, 862, 863, 864, 865, 866, 867, 868, 869, 870, 871, 872, 873, 874, 875, 876, 877, 878, 879, 880, 881, 882, 883, 884, 885, 886, 887, 888, 889, 890, 891, 892, 893, 894, 895, 896, 897, 898, 899, 900, 901, 902, 903, 904, 905, 906, 907, 908, 909, 910, 911, 912, 913, 914, 915, 916, 917, 918, 919, 920, 921, 922, 923, 924, 925, 926, 927, 928, 929, 930, 931, 932, 933, 934, 935, 936, 937, 938, 939, 940, 941, 942, 943, 944, 945]\n"
     ]
    }
   ],
   "source": [
    "#isin() method checks if DataFrame contains the specified values\n",
    "New_df=df_PA[~df_PA['PatientID'].isin(df_RR['PatientID'])] # (~) in pandas is Boolean Not\n",
    "print(list(New_df['PatientID']))"
   ]
  },
  {
   "cell_type": "markdown",
   "id": "bfec6b98",
   "metadata": {},
   "source": [
    "### 13.Create a subplot on x = np.arange(0, 10, 0.1) , y = np.sin(np.pi * x) + x with 2 rows & 2 columns with object oriented approach."
   ]
  },
  {
   "cell_type": "code",
   "execution_count": 30,
   "id": "a6f62b8a",
   "metadata": {},
   "outputs": [
    {
     "name": "stderr",
     "output_type": "stream",
     "text": [
      "C:\\Users\\avnis\\AppData\\Local\\Temp\\ipykernel_22888\\3578374770.py:17: RuntimeWarning: divide by zero encountered in log10\n",
      "  axes[1][1].plot(x,np.log10(y),'c--o')\n"
     ]
    },
    {
     "data": {
      "image/png": "[encoded data removed]",
      "text/plain": [
       "<Figure size 640x480 with 4 Axes>"
      ]
     },
     "metadata": {},
     "output_type": "display_data"
    }
   ],
   "source": [
    "x = np.arange(0, 10, 0.1)\n",
    "y = np.sin(np.pi*x)+x\n",
    "\n",
    "# creating the canvas with class 'fig'\n",
    "# and it's object 'axes' with '2' row and '2' columns\n",
    "fig, axes = plt.subplots(2, 2)    #syntax= Plt.subplots(nrows, ncols)\n",
    "# plotting graph for 1st element\n",
    "axes[0][0].plot(x, x*x,'b--o')         #square of x , solid line with b=  blue color and o= circlular marker\n",
    "axes[0][0].set_title('Square')  \n",
    "# plotting graph for 2nd element\n",
    "axes[0][1].plot(x,np.sqrt(y),'y--+')   #square root of y, solid line with y = yellow color and +=plus marker\n",
    "axes[0][1].set_title('square root') \n",
    "# plotting graph for 3rd element\n",
    "axes[1][0].plot(x,np.exp(y) ,'g--o')   #exponential of y \n",
    "axes[1][0].set_title('exp')  \n",
    "# plotting graph for 4th element\n",
    "axes[1][1].plot(x,np.log10(y),'c--o')\n",
    "axes[1][1].set_title('log')\n",
    "\n",
    "for axes in fig.get_axes(): # Hide x labels and tick labels for top plots and y ticks for right plots\n",
    "    axes.label_outer()\n",
    "plt.show()"
   ]
  },
  {
   "cell_type": "markdown",
   "id": "d80c0786",
   "metadata": {},
   "source": [
    "### 17.Create a heat map to show the correlation between the column values of Edvisits."
   ]
  },
  {
   "cell_type": "code",
   "execution_count": 43,
   "id": "de798975",
   "metadata": {},
   "outputs": [
    {
     "data": {
      "text/plain": [
       "<Figure size 800x600 with 0 Axes>"
      ]
     },
     "metadata": {},
     "output_type": "display_data"
    },
    {
     "data": {
      "image/png": "[encoded data removed]",
      "text/plain": [
       "<Figure size 800x600 with 2 Axes>"
      ]
     },
     "metadata": {},
     "output_type": "display_data"
    }
   ],
   "source": [
    "plt.figure(figsize=(8,6))\n",
    "sns.set_context('paper',font_scale=1.4)\n",
    "\n",
    "New_df_EDV = df_EDV.corr()\n",
    "sns.heatmap(New_df_EDV,annot=True, cmap=\"Reds\",linecolor = 'white',linewidth=1)\n",
    "\n",
    "plt.show()"
   ]
  },
  {
   "cell_type": "markdown",
   "id": "06f504ea",
   "metadata": {},
   "source": [
    "### 21.Which demographic patients are prone to get stroke?"
   ]
  },
  {
   "cell_type": "code",
   "execution_count": 126,
   "id": "b98729ab",
   "metadata": {},
   "outputs": [
    {
     "data": {
      "text/html": [
       "<div>\n",
       "<style scoped>\n",
       "    .dataframe tbody tr th:only-of-type {\n",
       "        vertical-align: middle;\n",
       "    }\n",
       "\n",
       "    .dataframe tbody tr th {\n",
       "        vertical-align: top;\n",
       "    }\n",
       "\n",
       "    .dataframe thead th {\n",
       "        text-align: right;\n",
       "    }\n",
       "</style>\n",
       "<table border=\"1\" class=\"dataframe\">\n",
       "  <thead>\n",
       "    <tr style=\"text-align: right;\">\n",
       "      <th></th>\n",
       "      <th>PatientID</th>\n",
       "    </tr>\n",
       "    <tr>\n",
       "      <th>Race</th>\n",
       "      <th></th>\n",
       "    </tr>\n",
       "  </thead>\n",
       "  <tbody>\n",
       "    <tr>\n",
       "      <th>Black/African-American</th>\n",
       "      <td>40</td>\n",
       "    </tr>\n",
       "  </tbody>\n",
       "</table>\n",
       "</div>"
      ],
      "text/plain": [
       "                        PatientID\n",
       "Race                             \n",
       "Black/African-American         40"
      ]
     },
     "execution_count": 126,
     "metadata": {},
     "output_type": "execute_result"
    }
   ],
   "source": [
    "#merging 'Patient' and 'ReAdmissionRegistry' DataFrames\n",
    "df = pd.merge(df_PA,df_RR, on = ['PatientID'], how = 'inner')\n",
    "\n",
    "df[\"AdmissionDate\"] = pd.to_datetime(df[\"AdmissionDate\"])\n",
    "df[\"AdmissionYear\"] = df[\"AdmissionDate\"].dt.year #extracting year from AdmissionDate\n",
    "#calculating Age\n",
    "df[\"Age\"] = df['AdmissionYear'] - df['BirthYear']\n",
    "\n",
    "#filter the rows where PrimaryDiagnosis is Stroke\n",
    "df_stroke = df[df[\"PrimaryDiagnosis\"] == 'Stroke']\n",
    "# count of PatientID group by Race,Gender and sorting it in descending order to get Maximum count of patients\n",
    "df_stroke.groupby(['Race'])[[\"PatientID\"]].count().sort_values(by=\"PatientID\",ascending=False).head(1) \n"
   ]
  },
  {
   "cell_type": "markdown",
   "id": "8ddf86a2",
   "metadata": {},
   "source": [
    "Black/African-American are more prone to Stroke"
   ]
  },
  {
   "cell_type": "code",
   "execution_count": 125,
   "id": "28692638",
   "metadata": {},
   "outputs": [
    {
     "data": {
      "text/html": [
       "<div>\n",
       "<style scoped>\n",
       "    .dataframe tbody tr th:only-of-type {\n",
       "        vertical-align: middle;\n",
       "    }\n",
       "\n",
       "    .dataframe tbody tr th {\n",
       "        vertical-align: top;\n",
       "    }\n",
       "\n",
       "    .dataframe thead th {\n",
       "        text-align: right;\n",
       "    }\n",
       "</style>\n",
       "<table border=\"1\" class=\"dataframe\">\n",
       "  <thead>\n",
       "    <tr style=\"text-align: right;\">\n",
       "      <th></th>\n",
       "      <th>PatientID</th>\n",
       "    </tr>\n",
       "    <tr>\n",
       "      <th>Gender</th>\n",
       "      <th></th>\n",
       "    </tr>\n",
       "  </thead>\n",
       "  <tbody>\n",
       "    <tr>\n",
       "      <th>Female</th>\n",
       "      <td>36</td>\n",
       "    </tr>\n",
       "  </tbody>\n",
       "</table>\n",
       "</div>"
      ],
      "text/plain": [
       "        PatientID\n",
       "Gender           \n",
       "Female         36"
      ]
     },
     "execution_count": 125,
     "metadata": {},
     "output_type": "execute_result"
    }
   ],
   "source": [
    "\n",
    "df_stroke.groupby(['Gender'])[[\"PatientID\"]].count().sort_values(by=\"PatientID\",ascending=False).head(1)\n"
   ]
  },
  {
   "cell_type": "markdown",
   "id": "afced04a",
   "metadata": {},
   "source": [
    "Females are more prone to Stroke"
   ]
  },
  {
   "cell_type": "code",
   "execution_count": 128,
   "id": "f4396b43",
   "metadata": {},
   "outputs": [
    {
     "data": {
      "text/html": [
       "<div>\n",
       "<style scoped>\n",
       "    .dataframe tbody tr th:only-of-type {\n",
       "        vertical-align: middle;\n",
       "    }\n",
       "\n",
       "    .dataframe tbody tr th {\n",
       "        vertical-align: top;\n",
       "    }\n",
       "\n",
       "    .dataframe thead th {\n",
       "        text-align: right;\n",
       "    }\n",
       "</style>\n",
       "<table border=\"1\" class=\"dataframe\">\n",
       "  <thead>\n",
       "    <tr style=\"text-align: right;\">\n",
       "      <th></th>\n",
       "      <th>PatientID</th>\n",
       "    </tr>\n",
       "    <tr>\n",
       "      <th>Age</th>\n",
       "      <th></th>\n",
       "    </tr>\n",
       "  </thead>\n",
       "  <tbody>\n",
       "    <tr>\n",
       "      <th>57</th>\n",
       "      <td>6</td>\n",
       "    </tr>\n",
       "    <tr>\n",
       "      <th>54</th>\n",
       "      <td>6</td>\n",
       "    </tr>\n",
       "    <tr>\n",
       "      <th>36</th>\n",
       "      <td>5</td>\n",
       "    </tr>\n",
       "    <tr>\n",
       "      <th>43</th>\n",
       "      <td>4</td>\n",
       "    </tr>\n",
       "    <tr>\n",
       "      <th>44</th>\n",
       "      <td>4</td>\n",
       "    </tr>\n",
       "    <tr>\n",
       "      <th>53</th>\n",
       "      <td>4</td>\n",
       "    </tr>\n",
       "    <tr>\n",
       "      <th>34</th>\n",
       "      <td>3</td>\n",
       "    </tr>\n",
       "    <tr>\n",
       "      <th>35</th>\n",
       "      <td>3</td>\n",
       "    </tr>\n",
       "    <tr>\n",
       "      <th>38</th>\n",
       "      <td>3</td>\n",
       "    </tr>\n",
       "    <tr>\n",
       "      <th>40</th>\n",
       "      <td>3</td>\n",
       "    </tr>\n",
       "    <tr>\n",
       "      <th>33</th>\n",
       "      <td>3</td>\n",
       "    </tr>\n",
       "    <tr>\n",
       "      <th>51</th>\n",
       "      <td>3</td>\n",
       "    </tr>\n",
       "    <tr>\n",
       "      <th>48</th>\n",
       "      <td>3</td>\n",
       "    </tr>\n",
       "    <tr>\n",
       "      <th>45</th>\n",
       "      <td>2</td>\n",
       "    </tr>\n",
       "    <tr>\n",
       "      <th>50</th>\n",
       "      <td>2</td>\n",
       "    </tr>\n",
       "    <tr>\n",
       "      <th>56</th>\n",
       "      <td>2</td>\n",
       "    </tr>\n",
       "    <tr>\n",
       "      <th>58</th>\n",
       "      <td>2</td>\n",
       "    </tr>\n",
       "    <tr>\n",
       "      <th>49</th>\n",
       "      <td>2</td>\n",
       "    </tr>\n",
       "    <tr>\n",
       "      <th>47</th>\n",
       "      <td>2</td>\n",
       "    </tr>\n",
       "    <tr>\n",
       "      <th>52</th>\n",
       "      <td>1</td>\n",
       "    </tr>\n",
       "    <tr>\n",
       "      <th>46</th>\n",
       "      <td>1</td>\n",
       "    </tr>\n",
       "    <tr>\n",
       "      <th>42</th>\n",
       "      <td>1</td>\n",
       "    </tr>\n",
       "    <tr>\n",
       "      <th>41</th>\n",
       "      <td>1</td>\n",
       "    </tr>\n",
       "    <tr>\n",
       "      <th>37</th>\n",
       "      <td>1</td>\n",
       "    </tr>\n",
       "    <tr>\n",
       "      <th>32</th>\n",
       "      <td>1</td>\n",
       "    </tr>\n",
       "  </tbody>\n",
       "</table>\n",
       "</div>"
      ],
      "text/plain": [
       "     PatientID\n",
       "Age           \n",
       "57           6\n",
       "54           6\n",
       "36           5\n",
       "43           4\n",
       "44           4\n",
       "53           4\n",
       "34           3\n",
       "35           3\n",
       "38           3\n",
       "40           3\n",
       "33           3\n",
       "51           3\n",
       "48           3\n",
       "45           2\n",
       "50           2\n",
       "56           2\n",
       "58           2\n",
       "49           2\n",
       "47           2\n",
       "52           1\n",
       "46           1\n",
       "42           1\n",
       "41           1\n",
       "37           1\n",
       "32           1"
      ]
     },
     "execution_count": 128,
     "metadata": {},
     "output_type": "execute_result"
    }
   ],
   "source": [
    "df_stroke.groupby(['Age'])[[\"PatientID\"]].count().sort_values(by=\"PatientID\",ascending=False)#.head(3)\n"
   ]
  },
  {
   "cell_type": "markdown",
   "id": "321b2704",
   "metadata": {},
   "source": [
    " Patients in their  30's,40's and 50's are more prone to stroke"
   ]
  },
  {
   "cell_type": "markdown",
   "id": "da29a133",
   "metadata": {},
   "source": [
    "### 25.Plot a graph by counting the no. of patients in each department."
   ]
  },
  {
   "cell_type": "code",
   "execution_count": 158,
   "id": "11dc0626",
   "metadata": {},
   "outputs": [
    {
     "data": {
      "image/png": "[encoded data removed]",
      "text/plain": [
       "<Figure size 640x480 with 1 Axes>"
      ]
     },
     "metadata": {},
     "output_type": "display_data"
    }
   ],
   "source": [
    "df_AV.groupby([\"VisitDepartmentID\"])[\"PatientMRN\"].count().plot(kind='bar',color = 'c',ylabel='Count of Patients',xlabel='Department',title='No. of Patients in each department')\n",
    "plt.show()"
   ]
  },
  {
   "cell_type": "markdown",
   "id": "46f794bc",
   "metadata": {},
   "source": [
    "### 29.Calculate average LOS."
   ]
  },
  {
   "cell_type": "code",
   "execution_count": 166,
   "id": "55ca8d09",
   "metadata": {},
   "outputs": [
    {
     "data": {
      "text/plain": [
       "8.824589159156156"
      ]
     },
     "execution_count": 166,
     "metadata": {},
     "output_type": "execute_result"
    }
   ],
   "source": [
    "#approch-1 by using mean() function\n",
    "df_RR[\"ExpectedLOS\"].mean()\n"
   ]
  },
  {
   "cell_type": "code",
   "execution_count": 167,
   "id": "9731738c",
   "metadata": {},
   "outputs": [
    {
     "data": {
      "text/html": [
       "<div>\n",
       "<style scoped>\n",
       "    .dataframe tbody tr th:only-of-type {\n",
       "        vertical-align: middle;\n",
       "    }\n",
       "\n",
       "    .dataframe tbody tr th {\n",
       "        vertical-align: top;\n",
       "    }\n",
       "\n",
       "    .dataframe thead th {\n",
       "        text-align: right;\n",
       "    }\n",
       "</style>\n",
       "<table border=\"1\" class=\"dataframe\">\n",
       "  <thead>\n",
       "    <tr style=\"text-align: right;\">\n",
       "      <th></th>\n",
       "      <th>AdmissionID</th>\n",
       "      <th>PatientID</th>\n",
       "      <th>ExpectedLOS</th>\n",
       "      <th>ExpectedMortality</th>\n",
       "      <th>ReadmissionFlag</th>\n",
       "      <th>DaysToReadmission</th>\n",
       "      <th>EDVisitAfterDischargeFlag</th>\n",
       "    </tr>\n",
       "  </thead>\n",
       "  <tbody>\n",
       "    <tr>\n",
       "      <th>count</th>\n",
       "      <td>720.000000</td>\n",
       "      <td>720.000000</td>\n",
       "      <td>720.000000</td>\n",
       "      <td>720.000000</td>\n",
       "      <td>194.0</td>\n",
       "      <td>194.000000</td>\n",
       "      <td>341.0</td>\n",
       "    </tr>\n",
       "    <tr>\n",
       "      <th>mean</th>\n",
       "      <td>360.500000</td>\n",
       "      <td>366.158333</td>\n",
       "      <td>8.824589</td>\n",
       "      <td>0.338063</td>\n",
       "      <td>1.0</td>\n",
       "      <td>5.360825</td>\n",
       "      <td>1.0</td>\n",
       "    </tr>\n",
       "    <tr>\n",
       "      <th>std</th>\n",
       "      <td>207.990384</td>\n",
       "      <td>218.223501</td>\n",
       "      <td>4.034421</td>\n",
       "      <td>0.238868</td>\n",
       "      <td>0.0</td>\n",
       "      <td>3.866116</td>\n",
       "      <td>0.0</td>\n",
       "    </tr>\n",
       "    <tr>\n",
       "      <th>min</th>\n",
       "      <td>1.000000</td>\n",
       "      <td>1.000000</td>\n",
       "      <td>2.012974</td>\n",
       "      <td>0.000006</td>\n",
       "      <td>1.0</td>\n",
       "      <td>1.000000</td>\n",
       "      <td>1.0</td>\n",
       "    </tr>\n",
       "    <tr>\n",
       "      <th>25%</th>\n",
       "      <td>180.750000</td>\n",
       "      <td>175.750000</td>\n",
       "      <td>5.138501</td>\n",
       "      <td>0.139771</td>\n",
       "      <td>1.0</td>\n",
       "      <td>3.000000</td>\n",
       "      <td>1.0</td>\n",
       "    </tr>\n",
       "    <tr>\n",
       "      <th>50%</th>\n",
       "      <td>360.500000</td>\n",
       "      <td>353.500000</td>\n",
       "      <td>8.633825</td>\n",
       "      <td>0.297242</td>\n",
       "      <td>1.0</td>\n",
       "      <td>5.000000</td>\n",
       "      <td>1.0</td>\n",
       "    </tr>\n",
       "    <tr>\n",
       "      <th>75%</th>\n",
       "      <td>540.250000</td>\n",
       "      <td>557.250000</td>\n",
       "      <td>12.107623</td>\n",
       "      <td>0.496387</td>\n",
       "      <td>1.0</td>\n",
       "      <td>5.000000</td>\n",
       "      <td>1.0</td>\n",
       "    </tr>\n",
       "    <tr>\n",
       "      <th>max</th>\n",
       "      <td>720.000000</td>\n",
       "      <td>742.000000</td>\n",
       "      <td>16.998213</td>\n",
       "      <td>0.989945</td>\n",
       "      <td>1.0</td>\n",
       "      <td>19.000000</td>\n",
       "      <td>1.0</td>\n",
       "    </tr>\n",
       "  </tbody>\n",
       "</table>\n",
       "</div>"
      ],
      "text/plain": [
       "       AdmissionID   PatientID  ExpectedLOS  ExpectedMortality  \\\n",
       "count   720.000000  720.000000   720.000000         720.000000   \n",
       "mean    360.500000  366.158333     8.824589           0.338063   \n",
       "std     207.990384  218.223501     4.034421           0.238868   \n",
       "min       1.000000    1.000000     2.012974           0.000006   \n",
       "25%     180.750000  175.750000     5.138501           0.139771   \n",
       "50%     360.500000  353.500000     8.633825           0.297242   \n",
       "75%     540.250000  557.250000    12.107623           0.496387   \n",
       "max     720.000000  742.000000    16.998213           0.989945   \n",
       "\n",
       "       ReadmissionFlag  DaysToReadmission  EDVisitAfterDischargeFlag  \n",
       "count            194.0         194.000000                      341.0  \n",
       "mean               1.0           5.360825                        1.0  \n",
       "std                0.0           3.866116                        0.0  \n",
       "min                1.0           1.000000                        1.0  \n",
       "25%                1.0           3.000000                        1.0  \n",
       "50%                1.0           5.000000                        1.0  \n",
       "75%                1.0           5.000000                        1.0  \n",
       "max                1.0          19.000000                        1.0  "
      ]
     },
     "execution_count": 167,
     "metadata": {},
     "output_type": "execute_result"
    }
   ],
   "source": [
    "#approach-2 by using describe() method to get summary statistics of a dataframe\n",
    "df_RR.describe()"
   ]
  },
  {
   "cell_type": "markdown",
   "id": "6b730eec",
   "metadata": {},
   "source": [
    "### 33. Using a bar chart, which Service had the lowest count of Expected Mortality?"
   ]
  },
  {
   "cell_type": "code",
   "execution_count": 207,
   "id": "ce2b91a3",
   "metadata": {},
   "outputs": [
    {
     "data": {
      "image/png": "[encoded data removed]",
      "text/plain": [
       "<Figure size 640x480 with 1 Axes>"
      ]
     },
     "metadata": {},
     "output_type": "display_data"
    }
   ],
   "source": [
    "df_D.groupby([\"Service\"])[[\"ExpectedMortality\"]].count().sort_values(\"ExpectedMortality\").plot(kind='bar',ylabel='count of ExpectedMortality',color='hotpink')\n",
    "plt.show()\n",
    "\n"
   ]
  },
  {
   "cell_type": "markdown",
   "id": "ee0f498b",
   "metadata": {},
   "source": [
    "'Orthopeadics' had the least count of Expected Mortality"
   ]
  },
  {
   "cell_type": "markdown",
   "id": "f1754586",
   "metadata": {},
   "source": [
    "### 37.Write a function to print all the upper case letter of a given sentence."
   ]
  },
  {
   "cell_type": "code",
   "execution_count": 209,
   "id": "d6b7023e",
   "metadata": {},
   "outputs": [
    {
     "name": "stdout",
     "output_type": "stream",
     "text": [
      "Enter any string: I am SoNal\n",
      "Uppercase characters: ISN\n"
     ]
    }
   ],
   "source": [
    "# take input\n",
    "string = input('Enter any string: ')\n",
    "upper = ''\n",
    "for char in string:\n",
    "    #check uppercase characters\n",
    "    if char.isupper():\n",
    "        upper += char\n",
    "\n",
    "# print uppercase characters\n",
    "print('Uppercase characters:', upper)"
   ]
  },
  {
   "cell_type": "markdown",
   "id": "81d0212f",
   "metadata": {},
   "source": [
    "### 41. Find the visit type with maximum 'No Show'."
   ]
  },
  {
   "cell_type": "code",
   "execution_count": 256,
   "id": "7a5f35b4",
   "metadata": {},
   "outputs": [
    {
     "data": {
      "text/html": [
       "<div>\n",
       "<style scoped>\n",
       "    .dataframe tbody tr th:only-of-type {\n",
       "        vertical-align: middle;\n",
       "    }\n",
       "\n",
       "    .dataframe tbody tr th {\n",
       "        vertical-align: top;\n",
       "    }\n",
       "\n",
       "    .dataframe thead th {\n",
       "        text-align: right;\n",
       "    }\n",
       "</style>\n",
       "<table border=\"1\" class=\"dataframe\">\n",
       "  <thead>\n",
       "    <tr style=\"text-align: right;\">\n",
       "      <th></th>\n",
       "      <th>VisitType</th>\n",
       "      <th>count of No-Show</th>\n",
       "    </tr>\n",
       "  </thead>\n",
       "  <tbody>\n",
       "    <tr>\n",
       "      <th>3</th>\n",
       "      <td>Telemedicine</td>\n",
       "      <td>74</td>\n",
       "    </tr>\n",
       "  </tbody>\n",
       "</table>\n",
       "</div>"
      ],
      "text/plain": [
       "      VisitType  count of No-Show\n",
       "3  Telemedicine                74"
      ]
     },
     "execution_count": 256,
     "metadata": {},
     "output_type": "execute_result"
    }
   ],
   "source": [
    "#Approach -1\n",
    "#groupby 'VisitType' and count number of 'VisitStatus' equal to 'No Show'\n",
    "#used 'apply' and 'lambda'  to filter 'No Show' values\n",
    "max_no_show=df_AV.groupby(\"VisitType\")[\"VisitStatus\"].apply(lambda x: (x== 'No Show').sum()).reset_index(name='count of No-Show').sort_values(by=\"count of No-Show\",ascending=False).head(1)\n",
    "max_no_show"
   ]
  },
  {
   "cell_type": "code",
   "execution_count": 237,
   "id": "1aae0597",
   "metadata": {},
   "outputs": [
    {
     "data": {
      "text/plain": [
       "VisitType    Telemedicine\n",
       "dtype: object"
      ]
     },
     "execution_count": 237,
     "metadata": {},
     "output_type": "execute_result"
    }
   ],
   "source": [
    "#Approach-2\n",
    "show=df_AV[df_AV.VisitStatus == 'No Show']   #filterout no show from visit status\n",
    "show\n",
    "show.groupby(['VisitType'])[['VisitType']].count().idxmax()   #grouping visit type  with max  noshow using idxmax() "
   ]
  },
  {
   "cell_type": "markdown",
   "id": "31b37dd4",
   "metadata": {},
   "source": [
    "### 45.Calculate mortality by diagnosis."
   ]
  },
  {
   "cell_type": "code",
   "execution_count": 267,
   "id": "838b5ed1",
   "metadata": {},
   "outputs": [
    {
     "data": {
      "text/html": [
       "<div>\n",
       "<style scoped>\n",
       "    .dataframe tbody tr th:only-of-type {\n",
       "        vertical-align: middle;\n",
       "    }\n",
       "\n",
       "    .dataframe tbody tr th {\n",
       "        vertical-align: top;\n",
       "    }\n",
       "\n",
       "    .dataframe thead th {\n",
       "        text-align: right;\n",
       "    }\n",
       "</style>\n",
       "<table border=\"1\" class=\"dataframe\">\n",
       "  <thead>\n",
       "    <tr style=\"text-align: right;\">\n",
       "      <th></th>\n",
       "      <th>PrimaryDiagnosis</th>\n",
       "      <th>Mortality</th>\n",
       "    </tr>\n",
       "  </thead>\n",
       "  <tbody>\n",
       "    <tr>\n",
       "      <th>0</th>\n",
       "      <td>AMI</td>\n",
       "      <td>6</td>\n",
       "    </tr>\n",
       "    <tr>\n",
       "      <th>1</th>\n",
       "      <td>Afib</td>\n",
       "      <td>4</td>\n",
       "    </tr>\n",
       "    <tr>\n",
       "      <th>2</th>\n",
       "      <td>Broken Leg</td>\n",
       "      <td>3</td>\n",
       "    </tr>\n",
       "    <tr>\n",
       "      <th>3</th>\n",
       "      <td>Diabetes</td>\n",
       "      <td>9</td>\n",
       "    </tr>\n",
       "    <tr>\n",
       "      <th>4</th>\n",
       "      <td>Fever</td>\n",
       "      <td>4</td>\n",
       "    </tr>\n",
       "    <tr>\n",
       "      <th>5</th>\n",
       "      <td>Flu</td>\n",
       "      <td>11</td>\n",
       "    </tr>\n",
       "    <tr>\n",
       "      <th>6</th>\n",
       "      <td>Heart Failure</td>\n",
       "      <td>16</td>\n",
       "    </tr>\n",
       "    <tr>\n",
       "      <th>7</th>\n",
       "      <td>Hip Fracture</td>\n",
       "      <td>3</td>\n",
       "    </tr>\n",
       "    <tr>\n",
       "      <th>8</th>\n",
       "      <td>Hypertension</td>\n",
       "      <td>16</td>\n",
       "    </tr>\n",
       "    <tr>\n",
       "      <th>9</th>\n",
       "      <td>Kidney Failure</td>\n",
       "      <td>2</td>\n",
       "    </tr>\n",
       "    <tr>\n",
       "      <th>10</th>\n",
       "      <td>Knee Replacement</td>\n",
       "      <td>2</td>\n",
       "    </tr>\n",
       "    <tr>\n",
       "      <th>11</th>\n",
       "      <td>Laceration</td>\n",
       "      <td>2</td>\n",
       "    </tr>\n",
       "    <tr>\n",
       "      <th>12</th>\n",
       "      <td>Migraine</td>\n",
       "      <td>0</td>\n",
       "    </tr>\n",
       "    <tr>\n",
       "      <th>13</th>\n",
       "      <td>Pain</td>\n",
       "      <td>1</td>\n",
       "    </tr>\n",
       "    <tr>\n",
       "      <th>14</th>\n",
       "      <td>Pneumonia</td>\n",
       "      <td>16</td>\n",
       "    </tr>\n",
       "    <tr>\n",
       "      <th>15</th>\n",
       "      <td>Spinal Cord Injury</td>\n",
       "      <td>2</td>\n",
       "    </tr>\n",
       "    <tr>\n",
       "      <th>16</th>\n",
       "      <td>Stroke</td>\n",
       "      <td>7</td>\n",
       "    </tr>\n",
       "  </tbody>\n",
       "</table>\n",
       "</div>"
      ],
      "text/plain": [
       "      PrimaryDiagnosis  Mortality\n",
       "0                  AMI          6\n",
       "1                 Afib          4\n",
       "2           Broken Leg          3\n",
       "3             Diabetes          9\n",
       "4                Fever          4\n",
       "5                  Flu         11\n",
       "6        Heart Failure         16\n",
       "7         Hip Fracture          3\n",
       "8         Hypertension         16\n",
       "9       Kidney Failure          2\n",
       "10    Knee Replacement          2\n",
       "11          Laceration          2\n",
       "12            Migraine          0\n",
       "13                Pain          1\n",
       "14           Pneumonia         16\n",
       "15  Spinal Cord Injury          2\n",
       "16              Stroke          7"
      ]
     },
     "execution_count": 267,
     "metadata": {},
     "output_type": "execute_result"
    }
   ],
   "source": [
    "#groupby 'PrimaryDiagnosis' and count number of 'DischargeDisposition' equal to 'Expired'\n",
    "df_RR.groupby('PrimaryDiagnosis')[\"DischargeDisposition\"].apply(lambda x: (x=='Expired').sum()).reset_index(name='Mortality')"
   ]
  },
  {
   "cell_type": "markdown",
   "id": "620b0f3b",
   "metadata": {},
   "source": [
    "### 49.Retrieve the count of patients who are prone to hypertension crisis. (SBP>180 & DBP>120)"
   ]
  },
  {
   "cell_type": "code",
   "execution_count": null,
   "id": "ed6ade29",
   "metadata": {},
   "outputs": [],
   "source": [
    "#filtering the rows with SBP>180 and DBP>120\n",
    "SBP=df_AV['BloodPressureSystolic']>180\n",
    "DBP=df_AV['BloodPressureDiastolic']>120\n",
    "a=df_AV.loc[SBP & DBP]\n",
    "len(a.PatientMRN.drop_duplicates()) # len function is used to count number of rows "
   ]
  },
  {
   "cell_type": "markdown",
   "id": "a6581f17",
   "metadata": {},
   "source": [
    "### 53.Take the ReasonForVisit from user, find the number of patients admitted with that ReasonForVisit."
   ]
  },
  {
   "cell_type": "code",
   "execution_count": null,
   "id": "b363dc44",
   "metadata": {},
   "outputs": [],
   "source": [
    "#take input\n",
    "string=input('Reason For Visit: ')\n",
    "No._Of_Patients = ' ' \n",
    "if df_EDV['ReasonForVisit'] == 'Stomach Ache'    \n",
    "  No._Of_Patients = nunique('PatientID')\n",
    "print('Uppercase characters:', No._Of_Patients)"
   ]
  },
  {
   "cell_type": "code",
   "execution_count": null,
   "id": "2288c042",
   "metadata": {},
   "outputs": [],
   "source": [
    "df_EDV"
   ]
  },
  {
   "cell_type": "code",
   "execution_count": null,
   "id": "dd22ea45",
   "metadata": {},
   "outputs": [],
   "source": [
    "df_AV"
   ]
  },
  {
   "cell_type": "code",
   "execution_count": null,
   "id": "2b7c50b7",
   "metadata": {},
   "outputs": [],
   "source": []
  }
 ],
 "metadata": {
  "kernelspec": {
   "display_name": "Python 3 (ipykernel)",
   "language": "python",
   "name": "python3"
  },
  "language_info": {
   "codemirror_mode": {
    "name": "ipython",
    "version": 3
   },
   "file_extension": ".py",
   "mimetype": "text/x-python",
   "name": "python",
   "nbconvert_exporter": "python",
   "pygments_lexer": "ipython3",
   "version": "3.9.13"
  }
 },
 "nbformat": 4,
 "nbformat_minor": 5
}
