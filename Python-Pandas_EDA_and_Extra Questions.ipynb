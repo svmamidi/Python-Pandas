{
 "cells": [
  {
   "cell_type": "code",
   "execution_count": 3,
   "id": "ff1f5b44",
   "metadata": {},
   "outputs": [],
   "source": [
    "import pandas as pd\n",
    "import seaborn as sns\n",
    "import matplotlib.pyplot as plt\n",
    "import numpy as np\n",
    "from functools import reduce\n",
    "import re\n"
   ]
  },
  {
   "cell_type": "code",
   "execution_count": 2,
   "id": "79909b4d",
   "metadata": {},
   "outputs": [],
   "source": [
    "import os"
   ]
  },
  {
   "cell_type": "code",
   "execution_count": 3,
   "id": "34ce1659",
   "metadata": {},
   "outputs": [
    {
     "data": {
      "text/plain": [
       "'C:\\\\Users\\\\svani\\\\OneDrive\\\\Documents\\\\GitHub\\\\Python-Pandas'"
      ]
     },
     "execution_count": 3,
     "metadata": {},
     "output_type": "execute_result"
    }
   ],
   "source": [
    "os.getcwd()"
   ]
  },
  {
   "cell_type": "code",
   "execution_count": 5,
   "id": "b608295f",
   "metadata": {},
   "outputs": [],
   "source": [
    "#Reading the Dataset\n",
    "xls = pd.ExcelFile('HospitalDatabase .xlsx')\n",
    "#Reading the ReAdmissionRegistry sheet\n",
    "df_RR = pd.read_excel(xls, 'ReAdmissionRegistry')\n",
    "#Reading the Patients sheet\n",
    "df_PA = pd.read_excel(xls, 'Patients')\n",
    "#Reading the EDVisits sheet\n",
    "df_EDV= pd.read_excel(xls, 'EDVisits')\n",
    "#Reading the AmbulatoryVisits sheet\n",
    "df_AV = pd.read_excel(xls, 'AmbulatoryVisits')\n",
    "#Reading the Discharges sheet\n",
    "df_D = pd.read_excel(xls, 'Discharges')\n",
    "#Reading the Providers sheet\n",
    "df_P= pd.read_excel(xls, 'Providers')\n",
    "#Reading the EDUnique sheet\n",
    "df_EDU = pd.read_excel(xls, 'EDUnique')"
   ]
  },
  {
   "cell_type": "markdown",
   "id": "b4bbab03",
   "metadata": {},
   "source": [
    "# Exploratory Data Analysis"
   ]
  },
  {
   "cell_type": "markdown",
   "id": "dfabb118",
   "metadata": {},
   "source": [
    "## 1 Dimensions of all datasets "
   ]
  },
  {
   "cell_type": "code",
   "execution_count": 6,
   "id": "681eb0fc",
   "metadata": {
    "scrolled": false
   },
   "outputs": [
    {
     "name": "stdout",
     "output_type": "stream",
     "text": [
      "DataFrame: Readmission Registry\n",
      "(720, 12)\n",
      "DataFrame: Patients\n",
      "(945, 7)\n",
      "DataFrame: ED Visits\n",
      "(1199, 7)\n",
      "DataFrame: Ambulatory Visits\n",
      "(950, 11)\n",
      "DataFrame: Discharges\n",
      "(720, 9)\n",
      "DataFrame: Providers\n",
      "(40, 4)\n",
      "DataFrame: ED Unique\n",
      "(945, 7)\n"
     ]
    }
   ],
   "source": [
    "ls_df=[df_RR,df_PA,df_EDV,df_AV,df_D,df_P,df_EDU]\n",
    "ls_name = ['Readmission Registry','Patients','ED Visits' ,'Ambulatory Visits','Discharges','Providers','ED Unique']\n",
    "\n",
    "for i, value in enumerate(ls_name):\n",
    "        print(\"DataFrame:\",value)\n",
    "        df=pd.DataFrame(ls_df[i])\n",
    "        print(df.shape)\n"
   ]
  },
  {
   "cell_type": "code",
   "execution_count": null,
   "id": "681c93c6",
   "metadata": {},
   "outputs": [],
   "source": []
  },
  {
   "cell_type": "markdown",
   "id": "d671edd8",
   "metadata": {},
   "source": [
    "## 2 Information about Dataset"
   ]
  },
  {
   "cell_type": "code",
   "execution_count": 7,
   "id": "c873f09b",
   "metadata": {},
   "outputs": [
    {
     "name": "stdout",
     "output_type": "stream",
     "text": [
      "DataFrame: Readmission Registry\n",
      "<bound method DataFrame.info of      AdmissionID  PatientID AdmissionDate           DischargeDate  \\\n",
      "0            389          1    2018-01-01 2018-01-04 19:59:31.391   \n",
      "1            635          2    2018-01-01 2018-01-04 21:28:51.898   \n",
      "2            606          3    2018-01-01 2018-01-04 22:28:23.672   \n",
      "3            587          5    2018-01-01 2018-01-05 05:47:04.933   \n",
      "4            640          6    2018-01-01 2018-01-05 14:18:30.029   \n",
      "..           ...        ...           ...                     ...   \n",
      "715          521        738    2018-02-22 2018-03-07 21:22:10.061   \n",
      "716          548        739    2018-02-22 2018-03-08 02:43:18.749   \n",
      "717          509        740    2018-02-22 2018-03-08 09:27:18.377   \n",
      "718          605        741    2018-02-22 2018-03-10 06:06:12.068   \n",
      "719          710        742    2018-02-22 2018-03-10 20:38:30.568   \n",
      "\n",
      "    DischargeDisposition           Service PrimaryDiagnosis  ExpectedLOS  \\\n",
      "0                   Home       Hospitalist   Kidney Failure     6.717771   \n",
      "1                   Home  General Medicine              Flu     3.825969   \n",
      "2                   Home  General Medicine              Flu     3.382493   \n",
      "3                   Home  General Medicine              Flu     3.763352   \n",
      "4                   Home               ICU    Heart Failure    13.650953   \n",
      "..                   ...               ...              ...          ...   \n",
      "715                 Home        Cardiology              AMI    13.725405   \n",
      "716                 Home               ICU        Pneumonia    11.355456   \n",
      "717                 Home       Hospitalist        Pneumonia     4.819882   \n",
      "718                 Home  General Medicine              Flu     3.123064   \n",
      "719             Transfer  General Medicine         Diabetes     7.195441   \n",
      "\n",
      "     ExpectedMortality  ReadmissionFlag  DaysToReadmission  \\\n",
      "0             0.010046              NaN                NaN   \n",
      "1             0.604562              1.0                2.0   \n",
      "2             0.266137              1.0                3.0   \n",
      "3             0.307527              1.0                4.0   \n",
      "4             0.408898              NaN                NaN   \n",
      "..                 ...              ...                ...   \n",
      "715           0.388319              NaN                NaN   \n",
      "716           0.088518              NaN                NaN   \n",
      "717           0.503308              NaN                NaN   \n",
      "718           0.655870              NaN                NaN   \n",
      "719           0.286439              NaN                NaN   \n",
      "\n",
      "     EDVisitAfterDischargeFlag  \n",
      "0                          NaN  \n",
      "1                          1.0  \n",
      "2                          1.0  \n",
      "3                          1.0  \n",
      "4                          NaN  \n",
      "..                         ...  \n",
      "715                        NaN  \n",
      "716                        NaN  \n",
      "717                        NaN  \n",
      "718                        NaN  \n",
      "719                        NaN  \n",
      "\n",
      "[720 rows x 12 columns]>\n",
      "DataFrame: Patients\n",
      "<bound method DataFrame.info of      PatientID FirstName  LastName             DateOfBirth Gender  \\\n",
      "0            1     Lanni       Sue 1960-01-01 00:00:00.000   Male   \n",
      "1            2       Far     Myers 1985-11-15 02:08:42.090   Male   \n",
      "2            3   Devlin    Michael 1976-04-15 02:52:09.762   Male   \n",
      "3            4   Carmine     Texas 1968-10-15 03:32:13.635   Male   \n",
      "4            5     Tann       Bama 1962-05-01 19:12:58.950   Male   \n",
      "..         ...       ...       ...                     ...    ...   \n",
      "940        941       Wat   Fideler 1986-05-26 00:01:19.761   Male   \n",
      "941        942    Wandie  Baythrop 1970-06-10 21:41:03.814   Male   \n",
      "942        943   Diahann   Smeeton 1983-01-08 21:49:27.884   Male   \n",
      "943        944  Panchito   Sharple 1963-06-05 07:57:05.569   Male   \n",
      "944        945     Walsh    Calvie 1972-08-06 03:40:03.454   Male   \n",
      "\n",
      "                       Race Language  \n",
      "0                     White  English  \n",
      "1                     White  English  \n",
      "2                     White  English  \n",
      "3                     White  English  \n",
      "4                     White  English  \n",
      "..                      ...      ...  \n",
      "940  Black/African-American  English  \n",
      "941  Black/African-American  English  \n",
      "942  Black/African-American  English  \n",
      "943  Black/African-American  English  \n",
      "944  Black/African-American  English  \n",
      "\n",
      "[945 rows x 7 columns]>\n",
      "DataFrame: ED Visits\n",
      "<bound method DataFrame.info of       EDVisitID  PatientID               VisitDate         EDDischargeTime  \\\n",
      "0             1          1 2020-01-01 00:00:00.000 2020-01-01 11:20:22.924   \n",
      "1            12         12 2020-01-01 02:45:40.302 2020-01-02 02:00:00.517   \n",
      "2            13         13 2020-01-01 03:09:24.701 2020-01-01 05:00:20.852   \n",
      "3            14         14 2020-01-01 03:12:19.349 2020-01-01 04:32:29.142   \n",
      "4            15         15 2020-01-01 03:46:32.698 2020-01-01 06:24:52.741   \n",
      "...         ...        ...                     ...                     ...   \n",
      "1194       1183        929 2020-01-15 10:38:42.570 2020-01-16 02:31:52.023   \n",
      "1195       1186        932 2020-01-15 11:52:37.540 2020-01-16 10:19:41.570   \n",
      "1196       1187        933 2020-01-15 12:11:11.678 2020-01-15 16:41:15.223   \n",
      "1197       1188        934 2020-01-15 12:21:46.006 2020-01-15 18:32:21.060   \n",
      "1198       1189        935 2020-01-15 12:51:14.875 2020-01-15 23:40:41.456   \n",
      "\n",
      "      Acuity ReasonForVisit EDDisposition  \n",
      "0          1   Stomach Ache      Admitted  \n",
      "1          2       Migraine      Admitted  \n",
      "2          3   Stomach Ache      Admitted  \n",
      "3          3       Migraine      Admitted  \n",
      "4          3     Chest Pain      Admitted  \n",
      "...      ...            ...           ...  \n",
      "1194       4     Chest Pain    Discharged  \n",
      "1195       1      Pneumonia    Discharged  \n",
      "1196       1      Pneumonia    Discharged  \n",
      "1197       1      Pneumonia    Discharged  \n",
      "1198       1      Pneumonia    Discharged  \n",
      "\n",
      "[1199 rows x 7 columns]>\n",
      "DataFrame: Ambulatory Visits\n",
      "<bound method DataFrame.info of      VisitID  PatientMRN  ProviderID DateofVisit           DateScheduled  \\\n",
      "0        202         840          29  2019-03-19 2019-03-13 07:59:24.000   \n",
      "1        436         820          25  2019-03-19 2019-02-24 07:10:31.043   \n",
      "2        794         879          30  2019-04-02 2019-03-19 01:41:55.656   \n",
      "3        799         884          37  2019-03-03 2019-02-25 01:25:39.696   \n",
      "4        515          32          26  2019-03-16 2019-02-20 06:44:59.617   \n",
      "..       ...         ...         ...         ...                     ...   \n",
      "945      788         873           1  2019-03-27 2019-03-10 17:19:48.264   \n",
      "946      703         855          36  2019-03-12 2019-02-19 02:27:52.664   \n",
      "947      481         865          13  2019-05-03 2019-04-25 13:37:57.501   \n",
      "948      398         635          10  2019-02-09 2019-02-08 11:40:35.137   \n",
      "949      695         847          24  2019-03-04 2019-02-05 05:29:30.587   \n",
      "\n",
      "     VisitDepartmentID     VisitType  BloodPressureSystolic  \\\n",
      "0                   10      Physical                  188.0   \n",
      "1                    3     Follow Up                  179.0   \n",
      "2                   11  Telemedicine                  133.0   \n",
      "3                    4  Telemedicine                  132.0   \n",
      "4                   11  Telemedicine                  131.0   \n",
      "..                 ...           ...                    ...   \n",
      "945                  5  Telemedicine                  187.0   \n",
      "946                 10     Follow Up                  182.0   \n",
      "947                 12           New                  150.0   \n",
      "948                  1      Physical                  177.0   \n",
      "949                 12     Follow Up                  165.0   \n",
      "\n",
      "     BloodPressureDiastolic      Pulse VisitStatus  \n",
      "0                144.143427  83.044920     No Show  \n",
      "1                118.876808  90.309544     No Show  \n",
      "2                 98.749563  80.859776     No Show  \n",
      "3                 98.001270  82.184737     No Show  \n",
      "4                 85.115632  89.192362     No Show  \n",
      "..                      ...        ...         ...  \n",
      "945              126.695141  70.049167    Canceled  \n",
      "946              140.703502  73.380812    Canceled  \n",
      "947               84.841197  61.625454    Canceled  \n",
      "948              125.037534  53.287036    Canceled  \n",
      "949              116.879318  56.180317    Canceled  \n",
      "\n",
      "[950 rows x 11 columns]>\n",
      "DataFrame: Discharges\n",
      "<bound method DataFrame.info of      AdmissionID  PatientID AdmissionDate           DischargeDate  \\\n",
      "0              1          9    2018-01-01 2018-01-07 18:06:06.408   \n",
      "1            257         93    2018-01-06 2018-01-18 02:59:04.667   \n",
      "2            152        101    2018-01-07 2018-01-11 16:16:06.782   \n",
      "3            361        102    2018-01-07 2018-01-15 04:48:33.134   \n",
      "4            258        103    2018-01-07 2018-01-15 13:32:36.157   \n",
      "..           ...        ...           ...                     ...   \n",
      "715          715        716    2018-02-21 2018-03-06 03:31:05.262   \n",
      "716          698        723    2018-02-22 2018-02-26 15:09:02.584   \n",
      "717          704        724    2018-02-22 2018-02-27 07:59:32.385   \n",
      "718          716        733    2018-02-22 2018-03-05 12:31:55.958   \n",
      "719          710        742    2018-02-22 2018-03-10 20:38:30.568   \n",
      "\n",
      "    DischargeDisposition           Service PrimaryDiagnosis  ExpectedLOS  \\\n",
      "0                Expired        Cardiology              AMI     9.646857   \n",
      "1                Expired        Cardiology       Broken Leg     6.816558   \n",
      "2                Expired        Cardiology   Kidney Failure     6.580273   \n",
      "3                Expired        Cardiology             Afib    12.794536   \n",
      "4                Expired        Cardiology       Broken Leg     2.639297   \n",
      "..                   ...               ...              ...          ...   \n",
      "715             Transfer               ICU    Heart Failure    11.362095   \n",
      "716             Transfer               ICU    Heart Failure    10.262312   \n",
      "717             Transfer  General Medicine        Pneumonia     6.036234   \n",
      "718             Transfer               ICU    Heart Failure    13.323413   \n",
      "719             Transfer  General Medicine         Diabetes     7.195441   \n",
      "\n",
      "     ExpectedMortality  \n",
      "0             0.061540  \n",
      "1             0.628827  \n",
      "2             0.573887  \n",
      "3             0.222163  \n",
      "4             0.055468  \n",
      "..                 ...  \n",
      "715           0.370695  \n",
      "716           0.812930  \n",
      "717           0.094128  \n",
      "718           0.490892  \n",
      "719           0.286439  \n",
      "\n",
      "[720 rows x 9 columns]>\n",
      "DataFrame: Providers\n",
      "<bound method DataFrame.info of     ProviderID     ProviderName ProviderSpecialty     ProviderDateOnStaff\n",
      "0            1        Sally Sue        Pediatrics 1993-01-01 00:00:00.000\n",
      "1            2       Mike Myers        Pediatrics 1993-05-02 00:00:17.695\n",
      "2            3   Jordan Michael        Pediatrics 1993-06-24 21:31:46.687\n",
      "3            4        Ted Texas        Pediatrics 1993-12-23 21:33:52.299\n",
      "4            5         Ala Bama        Pediatrics 1995-01-10 02:53:47.838\n",
      "5            6       Harry Kane        Pediatrics 1995-07-21 03:49:03.310\n",
      "6            7        Barry Bar        Pediatrics 1995-11-21 19:30:38.759\n",
      "7            8        Ted Green        Pediatrics 1996-05-30 06:14:52.539\n",
      "8            9        Ted Black        Pediatrics 1997-02-20 08:01:10.211\n",
      "9           10         Fred Man           Surgery 1998-03-17 01:47:18.794\n",
      "10          11     Kim Kimberly           Surgery 1998-05-10 14:47:29.468\n",
      "11          12         Sarah Ab           Surgery 1998-08-18 05:22:40.762\n",
      "12          13  Abigail Marriot           Surgery 1998-11-08 12:25:45.705\n",
      "13          14          Dave Yu           Surgery 1999-06-26 16:18:57.436\n",
      "14          15  Christian Saint           Surgery 2000-08-27 00:12:40.326\n",
      "15          16     Perry Pardon           Surgery 2001-02-13 11:49:17.862\n",
      "16          17     Kent Kendall        Cardiology 2001-12-22 11:18:32.919\n",
      "17          18       Ryan Kevin        Cardiology 2003-01-14 21:16:34.778\n",
      "18          19     Tyler Conner        Cardiology 2003-07-09 02:41:40.410\n",
      "19          20    Bailey Barret        Cardiology 2003-08-20 16:05:50.179\n",
      "20          21      Megan Bonco        Cardiology 2004-02-17 21:22:30.546\n",
      "21          22    Joesph Walter        Cardiology 2005-02-04 11:40:44.121\n",
      "22          23      Walter King        Cardiology 2006-03-12 22:11:58.070\n",
      "23          24        Luke Long        Cardiology 2006-04-28 00:16:36.762\n",
      "24          25      Justin Time       PrimaryCare 2006-06-21 04:46:36.838\n",
      "25          26      Mike Joseph       PrimaryCare 2006-12-29 16:26:41.085\n",
      "26          27   Bridget Brenda       PrimaryCare 2007-06-30 05:53:46.143\n",
      "27          28      Brenda Bing       PrimaryCare 2007-11-18 22:33:55.792\n",
      "28          29    Chandler Bing       PrimaryCare 2007-12-07 23:50:10.442\n",
      "29          30      Joesph Ross       PrimaryCare 2008-11-08 18:06:32.983\n",
      "30          31     Dwight Scott       PrimaryCare 2009-04-18 19:15:44.587\n",
      "31          32  Michael Halpert       PrimaryCare 2009-09-02 00:14:41.441\n",
      "32          33      Pamela Ding       PrimaryCare 2009-11-12 03:59:49.655\n",
      "33          34       Tony Creed       PrimaryCare 2010-04-28 14:11:26.802\n",
      "34          35  Phyllis Stanley       PrimaryCare 2011-05-05 16:06:03.222\n",
      "35          36        Holly Hue       PrimaryCare 2012-06-24 06:55:22.021\n",
      "36          37        Trent Tye       PrimaryCare 2013-01-12 15:32:21.137\n",
      "37          38    Kimberly Cone       PrimaryCare 2013-05-23 05:17:19.360\n",
      "38          39       Harry West       PrimaryCare 2013-07-14 00:22:03.151\n",
      "39          40     Rosie Renter       PrimaryCare 2013-09-11 12:07:55.584>\n",
      "DataFrame: ED Unique\n",
      "<bound method DataFrame.info of      EDVisitID  PatientID               VisitDate         EDDischargeTime  \\\n",
      "0            1          1 2020-01-01 00:00:00.000 2020-01-01 11:20:22.924   \n",
      "1           12         12 2020-01-01 02:45:40.302 2020-01-02 02:00:00.517   \n",
      "2           13         13 2020-01-01 03:09:24.701 2020-01-01 05:00:20.852   \n",
      "3           14         14 2020-01-01 03:12:19.349 2020-01-01 04:32:29.142   \n",
      "4           15         15 2020-01-01 03:46:32.698 2020-01-01 06:24:52.741   \n",
      "..         ...        ...                     ...                     ...   \n",
      "940       1183        929 2020-01-15 10:38:42.570 2020-01-16 02:31:52.023   \n",
      "941       1186        932 2020-01-15 11:52:37.540 2020-01-16 10:19:41.570   \n",
      "942       1187        933 2020-01-15 12:11:11.678 2020-01-15 16:41:15.223   \n",
      "943       1188        934 2020-01-15 12:21:46.006 2020-01-15 18:32:21.060   \n",
      "944       1189        935 2020-01-15 12:51:14.875 2020-01-15 23:40:41.456   \n",
      "\n",
      "     Acuity ReasonForVisit EDDisposition  \n",
      "0         1   Stomach Ache      Admitted  \n",
      "1         2       Migraine      Admitted  \n",
      "2         3   Stomach Ache      Admitted  \n",
      "3         3       Migraine      Admitted  \n",
      "4         3     Chest Pain      Admitted  \n",
      "..      ...            ...           ...  \n",
      "940       4     Chest Pain    discharged  \n",
      "941       1      Pneumonia    discharged  \n",
      "942       1      Pneumonia    discharged  \n",
      "943       1      Pneumonia    discharged  \n",
      "944       1      Pneumonia    discharged  \n",
      "\n",
      "[945 rows x 7 columns]>\n"
     ]
    }
   ],
   "source": [
    "for i, value in enumerate(ls_name):\n",
    "        print(\"DataFrame:\",value)\n",
    "        df=pd.DataFrame(ls_df[i])\n",
    "        print(df.info)\n"
   ]
  },
  {
   "cell_type": "markdown",
   "id": "88e4a170",
   "metadata": {},
   "source": [
    "##  3 first 5 and last  5 rows of Dataset "
   ]
  },
  {
   "cell_type": "code",
   "execution_count": 8,
   "id": "8432972c",
   "metadata": {
    "scrolled": false
   },
   "outputs": [
    {
     "name": "stdout",
     "output_type": "stream",
     "text": [
      "DataFrame: Readmission Registry\n",
      "<bound method NDFrame.head of      AdmissionID  PatientID AdmissionDate           DischargeDate  \\\n",
      "0            389          1    2018-01-01 2018-01-04 19:59:31.391   \n",
      "1            635          2    2018-01-01 2018-01-04 21:28:51.898   \n",
      "2            606          3    2018-01-01 2018-01-04 22:28:23.672   \n",
      "3            587          5    2018-01-01 2018-01-05 05:47:04.933   \n",
      "4            640          6    2018-01-01 2018-01-05 14:18:30.029   \n",
      "..           ...        ...           ...                     ...   \n",
      "715          521        738    2018-02-22 2018-03-07 21:22:10.061   \n",
      "716          548        739    2018-02-22 2018-03-08 02:43:18.749   \n",
      "717          509        740    2018-02-22 2018-03-08 09:27:18.377   \n",
      "718          605        741    2018-02-22 2018-03-10 06:06:12.068   \n",
      "719          710        742    2018-02-22 2018-03-10 20:38:30.568   \n",
      "\n",
      "    DischargeDisposition           Service PrimaryDiagnosis  ExpectedLOS  \\\n",
      "0                   Home       Hospitalist   Kidney Failure     6.717771   \n",
      "1                   Home  General Medicine              Flu     3.825969   \n",
      "2                   Home  General Medicine              Flu     3.382493   \n",
      "3                   Home  General Medicine              Flu     3.763352   \n",
      "4                   Home               ICU    Heart Failure    13.650953   \n",
      "..                   ...               ...              ...          ...   \n",
      "715                 Home        Cardiology              AMI    13.725405   \n",
      "716                 Home               ICU        Pneumonia    11.355456   \n",
      "717                 Home       Hospitalist        Pneumonia     4.819882   \n",
      "718                 Home  General Medicine              Flu     3.123064   \n",
      "719             Transfer  General Medicine         Diabetes     7.195441   \n",
      "\n",
      "     ExpectedMortality  ReadmissionFlag  DaysToReadmission  \\\n",
      "0             0.010046              NaN                NaN   \n",
      "1             0.604562              1.0                2.0   \n",
      "2             0.266137              1.0                3.0   \n",
      "3             0.307527              1.0                4.0   \n",
      "4             0.408898              NaN                NaN   \n",
      "..                 ...              ...                ...   \n",
      "715           0.388319              NaN                NaN   \n",
      "716           0.088518              NaN                NaN   \n",
      "717           0.503308              NaN                NaN   \n",
      "718           0.655870              NaN                NaN   \n",
      "719           0.286439              NaN                NaN   \n",
      "\n",
      "     EDVisitAfterDischargeFlag  \n",
      "0                          NaN  \n",
      "1                          1.0  \n",
      "2                          1.0  \n",
      "3                          1.0  \n",
      "4                          NaN  \n",
      "..                         ...  \n",
      "715                        NaN  \n",
      "716                        NaN  \n",
      "717                        NaN  \n",
      "718                        NaN  \n",
      "719                        NaN  \n",
      "\n",
      "[720 rows x 12 columns]>\n",
      "DataFrame: Patients\n",
      "<bound method NDFrame.head of      PatientID FirstName  LastName             DateOfBirth Gender  \\\n",
      "0            1     Lanni       Sue 1960-01-01 00:00:00.000   Male   \n",
      "1            2       Far     Myers 1985-11-15 02:08:42.090   Male   \n",
      "2            3   Devlin    Michael 1976-04-15 02:52:09.762   Male   \n",
      "3            4   Carmine     Texas 1968-10-15 03:32:13.635   Male   \n",
      "4            5     Tann       Bama 1962-05-01 19:12:58.950   Male   \n",
      "..         ...       ...       ...                     ...    ...   \n",
      "940        941       Wat   Fideler 1986-05-26 00:01:19.761   Male   \n",
      "941        942    Wandie  Baythrop 1970-06-10 21:41:03.814   Male   \n",
      "942        943   Diahann   Smeeton 1983-01-08 21:49:27.884   Male   \n",
      "943        944  Panchito   Sharple 1963-06-05 07:57:05.569   Male   \n",
      "944        945     Walsh    Calvie 1972-08-06 03:40:03.454   Male   \n",
      "\n",
      "                       Race Language  \n",
      "0                     White  English  \n",
      "1                     White  English  \n",
      "2                     White  English  \n",
      "3                     White  English  \n",
      "4                     White  English  \n",
      "..                      ...      ...  \n",
      "940  Black/African-American  English  \n",
      "941  Black/African-American  English  \n",
      "942  Black/African-American  English  \n",
      "943  Black/African-American  English  \n",
      "944  Black/African-American  English  \n",
      "\n",
      "[945 rows x 7 columns]>\n",
      "DataFrame: ED Visits\n",
      "<bound method NDFrame.head of       EDVisitID  PatientID               VisitDate         EDDischargeTime  \\\n",
      "0             1          1 2020-01-01 00:00:00.000 2020-01-01 11:20:22.924   \n",
      "1            12         12 2020-01-01 02:45:40.302 2020-01-02 02:00:00.517   \n",
      "2            13         13 2020-01-01 03:09:24.701 2020-01-01 05:00:20.852   \n",
      "3            14         14 2020-01-01 03:12:19.349 2020-01-01 04:32:29.142   \n",
      "4            15         15 2020-01-01 03:46:32.698 2020-01-01 06:24:52.741   \n",
      "...         ...        ...                     ...                     ...   \n",
      "1194       1183        929 2020-01-15 10:38:42.570 2020-01-16 02:31:52.023   \n",
      "1195       1186        932 2020-01-15 11:52:37.540 2020-01-16 10:19:41.570   \n",
      "1196       1187        933 2020-01-15 12:11:11.678 2020-01-15 16:41:15.223   \n",
      "1197       1188        934 2020-01-15 12:21:46.006 2020-01-15 18:32:21.060   \n",
      "1198       1189        935 2020-01-15 12:51:14.875 2020-01-15 23:40:41.456   \n",
      "\n",
      "      Acuity ReasonForVisit EDDisposition  \n",
      "0          1   Stomach Ache      Admitted  \n",
      "1          2       Migraine      Admitted  \n",
      "2          3   Stomach Ache      Admitted  \n",
      "3          3       Migraine      Admitted  \n",
      "4          3     Chest Pain      Admitted  \n",
      "...      ...            ...           ...  \n",
      "1194       4     Chest Pain    Discharged  \n",
      "1195       1      Pneumonia    Discharged  \n",
      "1196       1      Pneumonia    Discharged  \n",
      "1197       1      Pneumonia    Discharged  \n",
      "1198       1      Pneumonia    Discharged  \n",
      "\n",
      "[1199 rows x 7 columns]>\n",
      "DataFrame: Ambulatory Visits\n",
      "<bound method NDFrame.head of      VisitID  PatientMRN  ProviderID DateofVisit           DateScheduled  \\\n",
      "0        202         840          29  2019-03-19 2019-03-13 07:59:24.000   \n",
      "1        436         820          25  2019-03-19 2019-02-24 07:10:31.043   \n",
      "2        794         879          30  2019-04-02 2019-03-19 01:41:55.656   \n",
      "3        799         884          37  2019-03-03 2019-02-25 01:25:39.696   \n",
      "4        515          32          26  2019-03-16 2019-02-20 06:44:59.617   \n",
      "..       ...         ...         ...         ...                     ...   \n",
      "945      788         873           1  2019-03-27 2019-03-10 17:19:48.264   \n",
      "946      703         855          36  2019-03-12 2019-02-19 02:27:52.664   \n",
      "947      481         865          13  2019-05-03 2019-04-25 13:37:57.501   \n",
      "948      398         635          10  2019-02-09 2019-02-08 11:40:35.137   \n",
      "949      695         847          24  2019-03-04 2019-02-05 05:29:30.587   \n",
      "\n",
      "     VisitDepartmentID     VisitType  BloodPressureSystolic  \\\n",
      "0                   10      Physical                  188.0   \n",
      "1                    3     Follow Up                  179.0   \n",
      "2                   11  Telemedicine                  133.0   \n",
      "3                    4  Telemedicine                  132.0   \n",
      "4                   11  Telemedicine                  131.0   \n",
      "..                 ...           ...                    ...   \n",
      "945                  5  Telemedicine                  187.0   \n",
      "946                 10     Follow Up                  182.0   \n",
      "947                 12           New                  150.0   \n",
      "948                  1      Physical                  177.0   \n",
      "949                 12     Follow Up                  165.0   \n",
      "\n",
      "     BloodPressureDiastolic      Pulse VisitStatus  \n",
      "0                144.143427  83.044920     No Show  \n",
      "1                118.876808  90.309544     No Show  \n",
      "2                 98.749563  80.859776     No Show  \n",
      "3                 98.001270  82.184737     No Show  \n",
      "4                 85.115632  89.192362     No Show  \n",
      "..                      ...        ...         ...  \n",
      "945              126.695141  70.049167    Canceled  \n",
      "946              140.703502  73.380812    Canceled  \n",
      "947               84.841197  61.625454    Canceled  \n",
      "948              125.037534  53.287036    Canceled  \n",
      "949              116.879318  56.180317    Canceled  \n",
      "\n",
      "[950 rows x 11 columns]>\n",
      "DataFrame: Discharges\n",
      "<bound method NDFrame.head of      AdmissionID  PatientID AdmissionDate           DischargeDate  \\\n",
      "0              1          9    2018-01-01 2018-01-07 18:06:06.408   \n",
      "1            257         93    2018-01-06 2018-01-18 02:59:04.667   \n",
      "2            152        101    2018-01-07 2018-01-11 16:16:06.782   \n",
      "3            361        102    2018-01-07 2018-01-15 04:48:33.134   \n",
      "4            258        103    2018-01-07 2018-01-15 13:32:36.157   \n",
      "..           ...        ...           ...                     ...   \n",
      "715          715        716    2018-02-21 2018-03-06 03:31:05.262   \n",
      "716          698        723    2018-02-22 2018-02-26 15:09:02.584   \n",
      "717          704        724    2018-02-22 2018-02-27 07:59:32.385   \n",
      "718          716        733    2018-02-22 2018-03-05 12:31:55.958   \n",
      "719          710        742    2018-02-22 2018-03-10 20:38:30.568   \n",
      "\n",
      "    DischargeDisposition           Service PrimaryDiagnosis  ExpectedLOS  \\\n",
      "0                Expired        Cardiology              AMI     9.646857   \n",
      "1                Expired        Cardiology       Broken Leg     6.816558   \n",
      "2                Expired        Cardiology   Kidney Failure     6.580273   \n",
      "3                Expired        Cardiology             Afib    12.794536   \n",
      "4                Expired        Cardiology       Broken Leg     2.639297   \n",
      "..                   ...               ...              ...          ...   \n",
      "715             Transfer               ICU    Heart Failure    11.362095   \n",
      "716             Transfer               ICU    Heart Failure    10.262312   \n",
      "717             Transfer  General Medicine        Pneumonia     6.036234   \n",
      "718             Transfer               ICU    Heart Failure    13.323413   \n",
      "719             Transfer  General Medicine         Diabetes     7.195441   \n",
      "\n",
      "     ExpectedMortality  \n",
      "0             0.061540  \n",
      "1             0.628827  \n",
      "2             0.573887  \n",
      "3             0.222163  \n",
      "4             0.055468  \n",
      "..                 ...  \n",
      "715           0.370695  \n",
      "716           0.812930  \n",
      "717           0.094128  \n",
      "718           0.490892  \n",
      "719           0.286439  \n",
      "\n",
      "[720 rows x 9 columns]>\n",
      "DataFrame: Providers\n",
      "<bound method NDFrame.head of     ProviderID     ProviderName ProviderSpecialty     ProviderDateOnStaff\n",
      "0            1        Sally Sue        Pediatrics 1993-01-01 00:00:00.000\n",
      "1            2       Mike Myers        Pediatrics 1993-05-02 00:00:17.695\n",
      "2            3   Jordan Michael        Pediatrics 1993-06-24 21:31:46.687\n",
      "3            4        Ted Texas        Pediatrics 1993-12-23 21:33:52.299\n",
      "4            5         Ala Bama        Pediatrics 1995-01-10 02:53:47.838\n",
      "5            6       Harry Kane        Pediatrics 1995-07-21 03:49:03.310\n",
      "6            7        Barry Bar        Pediatrics 1995-11-21 19:30:38.759\n",
      "7            8        Ted Green        Pediatrics 1996-05-30 06:14:52.539\n",
      "8            9        Ted Black        Pediatrics 1997-02-20 08:01:10.211\n",
      "9           10         Fred Man           Surgery 1998-03-17 01:47:18.794\n",
      "10          11     Kim Kimberly           Surgery 1998-05-10 14:47:29.468\n",
      "11          12         Sarah Ab           Surgery 1998-08-18 05:22:40.762\n",
      "12          13  Abigail Marriot           Surgery 1998-11-08 12:25:45.705\n",
      "13          14          Dave Yu           Surgery 1999-06-26 16:18:57.436\n",
      "14          15  Christian Saint           Surgery 2000-08-27 00:12:40.326\n",
      "15          16     Perry Pardon           Surgery 2001-02-13 11:49:17.862\n",
      "16          17     Kent Kendall        Cardiology 2001-12-22 11:18:32.919\n",
      "17          18       Ryan Kevin        Cardiology 2003-01-14 21:16:34.778\n",
      "18          19     Tyler Conner        Cardiology 2003-07-09 02:41:40.410\n",
      "19          20    Bailey Barret        Cardiology 2003-08-20 16:05:50.179\n",
      "20          21      Megan Bonco        Cardiology 2004-02-17 21:22:30.546\n",
      "21          22    Joesph Walter        Cardiology 2005-02-04 11:40:44.121\n",
      "22          23      Walter King        Cardiology 2006-03-12 22:11:58.070\n",
      "23          24        Luke Long        Cardiology 2006-04-28 00:16:36.762\n",
      "24          25      Justin Time       PrimaryCare 2006-06-21 04:46:36.838\n",
      "25          26      Mike Joseph       PrimaryCare 2006-12-29 16:26:41.085\n",
      "26          27   Bridget Brenda       PrimaryCare 2007-06-30 05:53:46.143\n",
      "27          28      Brenda Bing       PrimaryCare 2007-11-18 22:33:55.792\n",
      "28          29    Chandler Bing       PrimaryCare 2007-12-07 23:50:10.442\n",
      "29          30      Joesph Ross       PrimaryCare 2008-11-08 18:06:32.983\n",
      "30          31     Dwight Scott       PrimaryCare 2009-04-18 19:15:44.587\n",
      "31          32  Michael Halpert       PrimaryCare 2009-09-02 00:14:41.441\n",
      "32          33      Pamela Ding       PrimaryCare 2009-11-12 03:59:49.655\n",
      "33          34       Tony Creed       PrimaryCare 2010-04-28 14:11:26.802\n",
      "34          35  Phyllis Stanley       PrimaryCare 2011-05-05 16:06:03.222\n",
      "35          36        Holly Hue       PrimaryCare 2012-06-24 06:55:22.021\n",
      "36          37        Trent Tye       PrimaryCare 2013-01-12 15:32:21.137\n",
      "37          38    Kimberly Cone       PrimaryCare 2013-05-23 05:17:19.360\n",
      "38          39       Harry West       PrimaryCare 2013-07-14 00:22:03.151\n",
      "39          40     Rosie Renter       PrimaryCare 2013-09-11 12:07:55.584>\n",
      "DataFrame: ED Unique\n",
      "<bound method NDFrame.head of      EDVisitID  PatientID               VisitDate         EDDischargeTime  \\\n",
      "0            1          1 2020-01-01 00:00:00.000 2020-01-01 11:20:22.924   \n",
      "1           12         12 2020-01-01 02:45:40.302 2020-01-02 02:00:00.517   \n",
      "2           13         13 2020-01-01 03:09:24.701 2020-01-01 05:00:20.852   \n",
      "3           14         14 2020-01-01 03:12:19.349 2020-01-01 04:32:29.142   \n",
      "4           15         15 2020-01-01 03:46:32.698 2020-01-01 06:24:52.741   \n",
      "..         ...        ...                     ...                     ...   \n",
      "940       1183        929 2020-01-15 10:38:42.570 2020-01-16 02:31:52.023   \n",
      "941       1186        932 2020-01-15 11:52:37.540 2020-01-16 10:19:41.570   \n",
      "942       1187        933 2020-01-15 12:11:11.678 2020-01-15 16:41:15.223   \n",
      "943       1188        934 2020-01-15 12:21:46.006 2020-01-15 18:32:21.060   \n",
      "944       1189        935 2020-01-15 12:51:14.875 2020-01-15 23:40:41.456   \n",
      "\n",
      "     Acuity ReasonForVisit EDDisposition  \n",
      "0         1   Stomach Ache      Admitted  \n",
      "1         2       Migraine      Admitted  \n",
      "2         3   Stomach Ache      Admitted  \n",
      "3         3       Migraine      Admitted  \n",
      "4         3     Chest Pain      Admitted  \n",
      "..      ...            ...           ...  \n",
      "940       4     Chest Pain    discharged  \n",
      "941       1      Pneumonia    discharged  \n",
      "942       1      Pneumonia    discharged  \n",
      "943       1      Pneumonia    discharged  \n",
      "944       1      Pneumonia    discharged  \n",
      "\n",
      "[945 rows x 7 columns]>\n"
     ]
    }
   ],
   "source": [
    "for i, value in enumerate(ls_name):\n",
    "        print(\"DataFrame:\",value)\n",
    "        df=pd.DataFrame(ls_df[i])\n",
    "        print(df.head)\n"
   ]
  },
  {
   "cell_type": "markdown",
   "id": "c889318c",
   "metadata": {},
   "source": [
    "## 4 Describe the dataset"
   ]
  },
  {
   "cell_type": "code",
   "execution_count": 9,
   "id": "4a119307",
   "metadata": {
    "scrolled": true
   },
   "outputs": [
    {
     "name": "stdout",
     "output_type": "stream",
     "text": [
      "DataFrame: Readmission Registry\n",
      "       AdmissionID   PatientID  ExpectedLOS  ExpectedMortality  \\\n",
      "count   720.000000  720.000000   720.000000         720.000000   \n",
      "mean    360.500000  366.158333     8.824589           0.338063   \n",
      "std     207.990384  218.223501     4.034421           0.238868   \n",
      "min       1.000000    1.000000     2.012974           0.000006   \n",
      "25%     180.750000  175.750000     5.138501           0.139771   \n",
      "50%     360.500000  353.500000     8.633825           0.297242   \n",
      "75%     540.250000  557.250000    12.107623           0.496387   \n",
      "max     720.000000  742.000000    16.998213           0.989945   \n",
      "\n",
      "       ReadmissionFlag  DaysToReadmission  EDVisitAfterDischargeFlag  \n",
      "count            194.0         194.000000                      341.0  \n",
      "mean               1.0           5.360825                        1.0  \n",
      "std                0.0           3.866116                        0.0  \n",
      "min                1.0           1.000000                        1.0  \n",
      "25%                1.0           3.000000                        1.0  \n",
      "50%                1.0           5.000000                        1.0  \n",
      "75%                1.0           5.000000                        1.0  \n",
      "max                1.0          19.000000                        1.0  \n",
      "DataFrame: Patients\n",
      "        PatientID\n",
      "count  945.000000\n",
      "mean   473.000000\n",
      "std    272.942302\n",
      "min      1.000000\n",
      "25%    237.000000\n",
      "50%    473.000000\n",
      "75%    709.000000\n",
      "max    945.000000\n",
      "DataFrame: ED Visits\n",
      "         EDVisitID    PatientID       Acuity\n",
      "count  1199.000000  1199.000000  1199.000000\n",
      "mean    600.000000   405.615513     2.326939\n",
      "std     346.265794   279.829613     1.575014\n",
      "min       1.000000     1.000000     1.000000\n",
      "25%     300.500000   164.500000     1.000000\n",
      "50%     600.000000   346.000000     2.000000\n",
      "75%     899.500000   645.500000     4.000000\n",
      "max    1199.000000   945.000000     5.000000\n",
      "DataFrame: Ambulatory Visits\n",
      "          VisitID  PatientMRN  ProviderID  VisitDepartmentID  \\\n",
      "count  950.000000  950.000000  950.000000         950.000000   \n",
      "mean   475.500000  592.648421   18.638947           7.252632   \n",
      "std    274.385677  345.126034   11.392470           3.262549   \n",
      "min      1.000000    4.000000    1.000000           1.000000   \n",
      "25%    238.250000   93.250000    9.000000           5.000000   \n",
      "50%    475.500000  813.500000   18.000000           7.000000   \n",
      "75%    712.750000  871.000000   29.000000          10.000000   \n",
      "max    950.000000  917.000000   40.000000          12.000000   \n",
      "\n",
      "       BloodPressureSystolic  BloodPressureDiastolic       Pulse  \n",
      "count             826.000000              826.000000  826.000000  \n",
      "mean              155.815981              106.841232   74.464751  \n",
      "std                20.508743               23.219744   14.419596  \n",
      "min               120.000000               51.695653   50.072068  \n",
      "25%               137.000000               88.066185   62.282399  \n",
      "50%               156.000000              107.460231   73.642034  \n",
      "75%               174.000000              123.740114   86.417593  \n",
      "max               190.000000              157.296683   99.986463  \n",
      "DataFrame: Discharges\n",
      "       AdmissionID   PatientID  ExpectedLOS  ExpectedMortality\n",
      "count   720.000000  720.000000   720.000000         720.000000\n",
      "mean    360.500000  366.158333     8.824589           0.338063\n",
      "std     207.990384  218.223501     4.034421           0.238868\n",
      "min       1.000000    1.000000     2.012974           0.000006\n",
      "25%     180.750000  175.750000     5.138501           0.139771\n",
      "50%     360.500000  353.500000     8.633825           0.297242\n",
      "75%     540.250000  557.250000    12.107623           0.496387\n",
      "max     720.000000  742.000000    16.998213           0.989945\n",
      "DataFrame: Providers\n",
      "       ProviderID\n",
      "count   40.000000\n",
      "mean    20.500000\n",
      "std     11.690452\n",
      "min      1.000000\n",
      "25%     10.750000\n",
      "50%     20.500000\n",
      "75%     30.250000\n",
      "max     40.000000\n",
      "DataFrame: ED Unique\n",
      "         EDVisitID   PatientID      Acuity\n",
      "count   945.000000  945.000000  945.000000\n",
      "mean    669.352381  473.000000    2.464550\n",
      "std     346.115177  272.942302    1.608723\n",
      "min       1.000000    1.000000    1.000000\n",
      "25%     338.000000  237.000000    1.000000\n",
      "50%     727.000000  473.000000    2.000000\n",
      "75%     963.000000  709.000000    4.000000\n",
      "max    1199.000000  945.000000    5.000000\n"
     ]
    }
   ],
   "source": [
    "for i, value in enumerate(ls_name):\n",
    "        print(\"DataFrame:\",value)\n",
    "        df=pd.DataFrame(ls_df[i])\n",
    "        print(df.describe())\n"
   ]
  },
  {
   "cell_type": "markdown",
   "id": "70de90f1",
   "metadata": {},
   "source": [
    "## 5 Columns of all datasets"
   ]
  },
  {
   "cell_type": "code",
   "execution_count": 10,
   "id": "32811f08",
   "metadata": {
    "scrolled": true
   },
   "outputs": [
    {
     "name": "stdout",
     "output_type": "stream",
     "text": [
      "DataFrame: Readmission Registry\n",
      "Index(['AdmissionID', 'PatientID', 'AdmissionDate', 'DischargeDate',\n",
      "       'DischargeDisposition', 'Service', 'PrimaryDiagnosis', 'ExpectedLOS',\n",
      "       'ExpectedMortality', 'ReadmissionFlag', 'DaysToReadmission',\n",
      "       'EDVisitAfterDischargeFlag'],\n",
      "      dtype='object')\n",
      "DataFrame: Patients\n",
      "Index(['PatientID', 'FirstName', 'LastName', 'DateOfBirth', 'Gender', 'Race',\n",
      "       'Language'],\n",
      "      dtype='object')\n",
      "DataFrame: ED Visits\n",
      "Index(['EDVisitID', 'PatientID', 'VisitDate', 'EDDischargeTime', 'Acuity',\n",
      "       'ReasonForVisit', 'EDDisposition'],\n",
      "      dtype='object')\n",
      "DataFrame: Ambulatory Visits\n",
      "Index(['VisitID', 'PatientMRN', 'ProviderID', 'DateofVisit', 'DateScheduled',\n",
      "       'VisitDepartmentID', 'VisitType', 'BloodPressureSystolic',\n",
      "       'BloodPressureDiastolic', 'Pulse', 'VisitStatus'],\n",
      "      dtype='object')\n",
      "DataFrame: Discharges\n",
      "Index(['AdmissionID', 'PatientID', 'AdmissionDate', 'DischargeDate',\n",
      "       'DischargeDisposition', 'Service', 'PrimaryDiagnosis', 'ExpectedLOS',\n",
      "       'ExpectedMortality'],\n",
      "      dtype='object')\n",
      "DataFrame: Providers\n",
      "Index(['ProviderID', 'ProviderName', 'ProviderSpecialty',\n",
      "       'ProviderDateOnStaff'],\n",
      "      dtype='object')\n",
      "DataFrame: ED Unique\n",
      "Index(['EDVisitID', 'PatientID', 'VisitDate', 'EDDischargeTime', 'Acuity',\n",
      "       'ReasonForVisit', 'EDDisposition'],\n",
      "      dtype='object')\n"
     ]
    }
   ],
   "source": [
    "for i, value in enumerate(ls_name):\n",
    "        print(\"DataFrame:\",value)\n",
    "        df=pd.DataFrame(ls_df[i])\n",
    "        print(df.columns)"
   ]
  },
  {
   "cell_type": "markdown",
   "id": "7ca71db9",
   "metadata": {},
   "source": [
    "## 5 missing values using heatmaps"
   ]
  },
  {
   "cell_type": "code",
   "execution_count": 15,
   "id": "1bfc40e4",
   "metadata": {},
   "outputs": [
    {
     "data": {
      "text/plain": [
       "<AxesSubplot:>"
      ]
     },
     "execution_count": 15,
     "metadata": {},
     "output_type": "execute_result"
    },
    {
     "data": {
      "image/png": "[encoded data removed]",
      "text/plain": [
       "<Figure size 432x288 with 1 Axes>"
      ]
     },
     "metadata": {
      "needs_background": "light"
     },
     "output_type": "display_data"
    }
   ],
   "source": [
    "sns.heatmap(df_RR.isnull(),yticklabels=False,cbar=False,cmap='viridis')"
   ]
  },
  {
   "cell_type": "code",
   "execution_count": 19,
   "id": "05d2af67",
   "metadata": {},
   "outputs": [
    {
     "data": {
      "text/plain": [
       "<AxesSubplot:>"
      ]
     },
     "execution_count": 19,
     "metadata": {},
     "output_type": "execute_result"
    },
    {
     "data": {
      "image/png": "[encoded data removed]",
      "text/plain": [
       "<Figure size 432x288 with 1 Axes>"
      ]
     },
     "metadata": {
      "needs_background": "light"
     },
     "output_type": "display_data"
    }
   ],
   "source": [
    "sns.heatmap(df_PA.isnull(),yticklabels=False,cbar=False,cmap='viridis')"
   ]
  },
  {
   "cell_type": "code",
   "execution_count": 20,
   "id": "f4ed395b",
   "metadata": {},
   "outputs": [
    {
     "data": {
      "text/plain": [
       "<AxesSubplot:>"
      ]
     },
     "execution_count": 20,
     "metadata": {},
     "output_type": "execute_result"
    },
    {
     "data": {
      "image/png": "[encoded data removed]",
      "text/plain": [
       "<Figure size 432x288 with 1 Axes>"
      ]
     },
     "metadata": {
      "needs_background": "light"
     },
     "output_type": "display_data"
    }
   ],
   "source": [
    "sns.heatmap(df_AV.isnull(),yticklabels=False,cbar=False,cmap='viridis')"
   ]
  },
  {
   "cell_type": "code",
   "execution_count": 21,
   "id": "f9738ddd",
   "metadata": {},
   "outputs": [
    {
     "data": {
      "text/plain": [
       "<AxesSubplot:>"
      ]
     },
     "execution_count": 21,
     "metadata": {},
     "output_type": "execute_result"
    },
    {
     "data": {
      "image/png": "[encoded data removed]",
      "text/plain": [
       "<Figure size 432x288 with 1 Axes>"
      ]
     },
     "metadata": {
      "needs_background": "light"
     },
     "output_type": "display_data"
    }
   ],
   "source": [
    "sns.heatmap(df_P.isnull(),yticklabels=False,cbar=False,cmap='viridis')"
   ]
  },
  {
   "cell_type": "code",
   "execution_count": 23,
   "id": "99c7584f",
   "metadata": {},
   "outputs": [
    {
     "data": {
      "text/plain": [
       "<AxesSubplot:>"
      ]
     },
     "execution_count": 23,
     "metadata": {},
     "output_type": "execute_result"
    },
    {
     "data": {
      "image/png": "[encoded data removed]",
      "text/plain": [
       "<Figure size 432x288 with 1 Axes>"
      ]
     },
     "metadata": {
      "needs_background": "light"
     },
     "output_type": "display_data"
    }
   ],
   "source": [
    "sns.heatmap(df_EDV.isnull(),yticklabels=False,cbar=False,cmap='viridis')"
   ]
  },
  {
   "cell_type": "code",
   "execution_count": 24,
   "id": "fae13531",
   "metadata": {},
   "outputs": [
    {
     "data": {
      "text/plain": [
       "<AxesSubplot:>"
      ]
     },
     "execution_count": 24,
     "metadata": {},
     "output_type": "execute_result"
    },
    {
     "data": {
      "image/png": "[encoded data removed]",
      "text/plain": [
       "<Figure size 432x288 with 1 Axes>"
      ]
     },
     "metadata": {
      "needs_background": "light"
     },
     "output_type": "display_data"
    }
   ],
   "source": [
    "sns.heatmap(df_EDU.isnull(),yticklabels=False,cbar=False,cmap='viridis')"
   ]
  },
  {
   "cell_type": "code",
   "execution_count": 25,
   "id": "f33b3094",
   "metadata": {},
   "outputs": [
    {
     "data": {
      "text/plain": [
       "<AxesSubplot:>"
      ]
     },
     "execution_count": 25,
     "metadata": {},
     "output_type": "execute_result"
    },
    {
     "data": {
      "image/png": "[encoded data removed]",
      "text/plain": [
       "<Figure size 432x288 with 1 Axes>"
      ]
     },
     "metadata": {
      "needs_background": "light"
     },
     "output_type": "display_data"
    }
   ],
   "source": [
    "sns.heatmap(df_D.isnull(),yticklabels=False,cbar=False,cmap='viridis')"
   ]
  },
  {
   "cell_type": "markdown",
   "id": "6f6db6bb",
   "metadata": {},
   "source": [
    "## 6 Finding Missing values in each column of all datasets"
   ]
  },
  {
   "cell_type": "code",
   "execution_count": 16,
   "id": "855d31d0",
   "metadata": {
    "scrolled": true
   },
   "outputs": [
    {
     "name": "stdout",
     "output_type": "stream",
     "text": [
      "DataFrame: Readmission Registry\n",
      "AdmissionID                    0\n",
      "PatientID                      0\n",
      "AdmissionDate                  0\n",
      "DischargeDate                  0\n",
      "DischargeDisposition           0\n",
      "Service                        0\n",
      "PrimaryDiagnosis               0\n",
      "ExpectedLOS                    0\n",
      "ExpectedMortality              0\n",
      "ReadmissionFlag              526\n",
      "DaysToReadmission            526\n",
      "EDVisitAfterDischargeFlag    379\n",
      "dtype: int64\n",
      "DataFrame: Patients\n",
      "PatientID      0\n",
      "FirstName      0\n",
      "LastName       0\n",
      "DateOfBirth    0\n",
      "Gender         0\n",
      "Race           0\n",
      "Language       8\n",
      "dtype: int64\n",
      "DataFrame: ED Visits\n",
      "EDVisitID          0\n",
      "PatientID          0\n",
      "VisitDate          0\n",
      "EDDischargeTime    0\n",
      "Acuity             0\n",
      "ReasonForVisit     0\n",
      "EDDisposition      0\n",
      "dtype: int64\n",
      "DataFrame: Ambulatory Visits\n",
      "VisitID                     0\n",
      "PatientMRN                  0\n",
      "ProviderID                  0\n",
      "DateofVisit                 0\n",
      "DateScheduled               0\n",
      "VisitDepartmentID           0\n",
      "VisitType                   0\n",
      "BloodPressureSystolic     124\n",
      "BloodPressureDiastolic    124\n",
      "Pulse                     124\n",
      "VisitStatus                 0\n",
      "dtype: int64\n",
      "DataFrame: Discharges\n",
      "AdmissionID             0\n",
      "PatientID               0\n",
      "AdmissionDate           0\n",
      "DischargeDate           0\n",
      "DischargeDisposition    0\n",
      "Service                 0\n",
      "PrimaryDiagnosis        0\n",
      "ExpectedLOS             0\n",
      "ExpectedMortality       0\n",
      "dtype: int64\n",
      "DataFrame: Providers\n",
      "ProviderID             0\n",
      "ProviderName           0\n",
      "ProviderSpecialty      0\n",
      "ProviderDateOnStaff    0\n",
      "dtype: int64\n",
      "DataFrame: ED Unique\n",
      "EDVisitID          0\n",
      "PatientID          0\n",
      "VisitDate          0\n",
      "EDDischargeTime    0\n",
      "Acuity             0\n",
      "ReasonForVisit     0\n",
      "EDDisposition      0\n",
      "dtype: int64\n"
     ]
    }
   ],
   "source": [
    "for i, value in enumerate(ls_name):\n",
    "        print(\"DataFrame:\",value)\n",
    "        df=pd.DataFrame(ls_df[i])\n",
    "        print(df.isnull().sum())   ## checking  for missing values"
   ]
  },
  {
   "cell_type": "markdown",
   "id": "89c607c1",
   "metadata": {},
   "source": [
    "## 7 Finding Datatype of all columns in all datasets"
   ]
  },
  {
   "cell_type": "code",
   "execution_count": 17,
   "id": "bf2fc8ce",
   "metadata": {
    "scrolled": true
   },
   "outputs": [
    {
     "name": "stdout",
     "output_type": "stream",
     "text": [
      "DataFrame: Readmission Registry\n",
      "AdmissionID                           int64\n",
      "PatientID                             int64\n",
      "AdmissionDate                datetime64[ns]\n",
      "DischargeDate                datetime64[ns]\n",
      "DischargeDisposition                 object\n",
      "Service                              object\n",
      "PrimaryDiagnosis                     object\n",
      "ExpectedLOS                         float64\n",
      "ExpectedMortality                   float64\n",
      "ReadmissionFlag                     float64\n",
      "DaysToReadmission                   float64\n",
      "EDVisitAfterDischargeFlag           float64\n",
      "dtype: object\n",
      "DataFrame: Patients\n",
      "PatientID               int64\n",
      "FirstName              object\n",
      "LastName               object\n",
      "DateOfBirth    datetime64[ns]\n",
      "Gender                 object\n",
      "Race                   object\n",
      "Language               object\n",
      "dtype: object\n",
      "DataFrame: ED Visits\n",
      "EDVisitID                   int64\n",
      "PatientID                   int64\n",
      "VisitDate          datetime64[ns]\n",
      "EDDischargeTime    datetime64[ns]\n",
      "Acuity                      int64\n",
      "ReasonForVisit             object\n",
      "EDDisposition              object\n",
      "dtype: object\n",
      "DataFrame: Ambulatory Visits\n",
      "VisitID                            int64\n",
      "PatientMRN                         int64\n",
      "ProviderID                         int64\n",
      "DateofVisit               datetime64[ns]\n",
      "DateScheduled             datetime64[ns]\n",
      "VisitDepartmentID                  int64\n",
      "VisitType                         object\n",
      "BloodPressureSystolic            float64\n",
      "BloodPressureDiastolic           float64\n",
      "Pulse                            float64\n",
      "VisitStatus                       object\n",
      "dtype: object\n",
      "DataFrame: Discharges\n",
      "AdmissionID                      int64\n",
      "PatientID                        int64\n",
      "AdmissionDate           datetime64[ns]\n",
      "DischargeDate           datetime64[ns]\n",
      "DischargeDisposition            object\n",
      "Service                         object\n",
      "PrimaryDiagnosis                object\n",
      "ExpectedLOS                    float64\n",
      "ExpectedMortality              float64\n",
      "dtype: object\n",
      "DataFrame: Providers\n",
      "ProviderID                      int64\n",
      "ProviderName                   object\n",
      "ProviderSpecialty              object\n",
      "ProviderDateOnStaff    datetime64[ns]\n",
      "dtype: object\n",
      "DataFrame: ED Unique\n",
      "EDVisitID                   int64\n",
      "PatientID                   int64\n",
      "VisitDate          datetime64[ns]\n",
      "EDDischargeTime    datetime64[ns]\n",
      "Acuity                      int64\n",
      "ReasonForVisit             object\n",
      "EDDisposition              object\n",
      "dtype: object\n"
     ]
    }
   ],
   "source": [
    "for i, value in enumerate(ls_name):\n",
    "        print(\"DataFrame:\",value)\n",
    "        df=pd.DataFrame(ls_df[i])\n",
    "        print(df.dtypes)\n"
   ]
  },
  {
   "cell_type": "markdown",
   "id": "2f18272e",
   "metadata": {},
   "source": [
    "## 8  Correction of all variable in all datasets"
   ]
  },
  {
   "cell_type": "code",
   "execution_count": 18,
   "id": "8d922476",
   "metadata": {},
   "outputs": [
    {
     "name": "stdout",
     "output_type": "stream",
     "text": [
      "DataFrame: Readmission Registry\n",
      "                           AdmissionID  PatientID  ExpectedLOS  \\\n",
      "AdmissionID                   1.000000   0.302079    -0.070080   \n",
      "PatientID                     0.302079   1.000000    -0.015485   \n",
      "ExpectedLOS                  -0.070080  -0.015485     1.000000   \n",
      "ExpectedMortality             0.034083   0.008014     0.220725   \n",
      "ReadmissionFlag                    NaN        NaN          NaN   \n",
      "DaysToReadmission             0.049632   0.001710     0.010294   \n",
      "EDVisitAfterDischargeFlag          NaN        NaN          NaN   \n",
      "\n",
      "                           ExpectedMortality  ReadmissionFlag  \\\n",
      "AdmissionID                         0.034083              NaN   \n",
      "PatientID                           0.008014              NaN   \n",
      "ExpectedLOS                         0.220725              NaN   \n",
      "ExpectedMortality                   1.000000              NaN   \n",
      "ReadmissionFlag                          NaN              NaN   \n",
      "DaysToReadmission                  -0.052563              NaN   \n",
      "EDVisitAfterDischargeFlag                NaN              NaN   \n",
      "\n",
      "                           DaysToReadmission  EDVisitAfterDischargeFlag  \n",
      "AdmissionID                         0.049632                        NaN  \n",
      "PatientID                           0.001710                        NaN  \n",
      "ExpectedLOS                         0.010294                        NaN  \n",
      "ExpectedMortality                  -0.052563                        NaN  \n",
      "ReadmissionFlag                          NaN                        NaN  \n",
      "DaysToReadmission                   1.000000                        NaN  \n",
      "EDVisitAfterDischargeFlag                NaN                        NaN  \n",
      "DataFrame: Patients\n",
      "           PatientID\n",
      "PatientID        1.0\n",
      "DataFrame: ED Visits\n",
      "           EDVisitID  PatientID    Acuity\n",
      "EDVisitID   1.000000   0.975477  0.005813\n",
      "PatientID   0.975477   1.000000  0.003545\n",
      "Acuity      0.005813   0.003545  1.000000\n",
      "DataFrame: Ambulatory Visits\n",
      "                         VisitID  PatientMRN  ProviderID  VisitDepartmentID  \\\n",
      "VisitID                 1.000000    0.519586   -0.039377           0.131367   \n",
      "PatientMRN              0.519586    1.000000    0.020446           0.011503   \n",
      "ProviderID             -0.039377    0.020446    1.000000           0.016292   \n",
      "VisitDepartmentID       0.131367    0.011503    0.016292           1.000000   \n",
      "BloodPressureSystolic  -0.015248   -0.032377    0.000766           0.023426   \n",
      "BloodPressureDiastolic -0.010427   -0.021439    0.007212           0.041818   \n",
      "Pulse                   0.004948    0.030192   -0.102517           0.009064   \n",
      "\n",
      "                        BloodPressureSystolic  BloodPressureDiastolic  \\\n",
      "VisitID                             -0.015248               -0.010427   \n",
      "PatientMRN                          -0.032377               -0.021439   \n",
      "ProviderID                           0.000766                0.007212   \n",
      "VisitDepartmentID                    0.023426                0.041818   \n",
      "BloodPressureSystolic                1.000000                0.864880   \n",
      "BloodPressureDiastolic               0.864880                1.000000   \n",
      "Pulse                                0.044034                0.046617   \n",
      "\n",
      "                           Pulse  \n",
      "VisitID                 0.004948  \n",
      "PatientMRN              0.030192  \n",
      "ProviderID             -0.102517  \n",
      "VisitDepartmentID       0.009064  \n",
      "BloodPressureSystolic   0.044034  \n",
      "BloodPressureDiastolic  0.046617  \n",
      "Pulse                   1.000000  \n",
      "DataFrame: Discharges\n",
      "                   AdmissionID  PatientID  ExpectedLOS  ExpectedMortality\n",
      "AdmissionID           1.000000   0.302079    -0.070080           0.034083\n",
      "PatientID             0.302079   1.000000    -0.015485           0.008014\n",
      "ExpectedLOS          -0.070080  -0.015485     1.000000           0.220725\n",
      "ExpectedMortality     0.034083   0.008014     0.220725           1.000000\n",
      "DataFrame: Providers\n",
      "            ProviderID\n",
      "ProviderID         1.0\n",
      "DataFrame: ED Unique\n",
      "           EDVisitID  PatientID    Acuity\n",
      "EDVisitID   1.000000   0.988045 -0.085414\n",
      "PatientID   0.988045   1.000000 -0.087616\n",
      "Acuity     -0.085414  -0.087616  1.000000\n"
     ]
    }
   ],
   "source": [
    "for i, value in enumerate(ls_name):\n",
    "        print(\"DataFrame:\",value)\n",
    "        df=pd.DataFrame(ls_df[i])\n",
    "        print(df.corr())"
   ]
  },
  {
   "cell_type": "markdown",
   "id": "6cc860a2",
   "metadata": {},
   "source": [
    "## 9 Correlation using heatmaps"
   ]
  },
  {
   "cell_type": "code",
   "execution_count": 31,
   "id": "37bb1a23",
   "metadata": {},
   "outputs": [
    {
     "name": "stdout",
     "output_type": "stream",
     "text": [
      "DataFrame: Readmission Registry\n"
     ]
    },
    {
     "data": {
      "image/png": "[encoded data removed]",
      "text/plain": [
       "<Figure size 864x720 with 2 Axes>"
      ]
     },
     "metadata": {
      "needs_background": "light"
     },
     "output_type": "display_data"
    },
    {
     "name": "stdout",
     "output_type": "stream",
     "text": [
      "DataFrame: Patients\n"
     ]
    },
    {
     "data": {
      "image/png": "[encoded data removed]",
      "text/plain": [
       "<Figure size 432x288 with 2 Axes>"
      ]
     },
     "metadata": {
      "needs_background": "light"
     },
     "output_type": "display_data"
    },
    {
     "name": "stdout",
     "output_type": "stream",
     "text": [
      "DataFrame: ED Visits\n"
     ]
    },
    {
     "data": {
      "image/png": "[encoded data removed]",
      "text/plain": [
       "<Figure size 432x288 with 2 Axes>"
      ]
     },
     "metadata": {
      "needs_background": "light"
     },
     "output_type": "display_data"
    },
    {
     "name": "stdout",
     "output_type": "stream",
     "text": [
      "DataFrame: Ambulatory Visits\n"
     ]
    },
    {
     "data": {
      "image/png": "[encoded data removed]",
      "text/plain": [
       "<Figure size 432x288 with 2 Axes>"
      ]
     },
     "metadata": {
      "needs_background": "light"
     },
     "output_type": "display_data"
    },
    {
     "name": "stdout",
     "output_type": "stream",
     "text": [
      "DataFrame: Discharges\n"
     ]
    },
    {
     "data": {
      "image/png": "[encoded data removed]",
      "text/plain": [
       "<Figure size 432x288 with 2 Axes>"
      ]
     },
     "metadata": {
      "needs_background": "light"
     },
     "output_type": "display_data"
    },
    {
     "name": "stdout",
     "output_type": "stream",
     "text": [
      "DataFrame: Providers\n"
     ]
    },
    {
     "data": {
      "image/png": "[encoded data removed]",
      "text/plain": [
       "<Figure size 432x288 with 2 Axes>"
      ]
     },
     "metadata": {
      "needs_background": "light"
     },
     "output_type": "display_data"
    },
    {
     "name": "stdout",
     "output_type": "stream",
     "text": [
      "DataFrame: ED Unique\n"
     ]
    },
    {
     "data": {
      "image/png": "[encoded data removed]",
      "text/plain": [
       "<Figure size 432x288 with 2 Axes>"
      ]
     },
     "metadata": {
      "needs_background": "light"
     },
     "output_type": "display_data"
    }
   ],
   "source": [
    "plt.figure(figsize=(12,10))\n",
    "for i, value in enumerate(ls_name):\n",
    "        print(\"DataFrame:\",value)\n",
    "        df=pd.DataFrame(ls_df[i])\n",
    "        cor = df.corr()\n",
    "        sns.heatmap(cor, annot=True, cmap=plt.cm.BrBG_r)\n",
    "        plt.show()"
   ]
  },
  {
   "cell_type": "markdown",
   "id": "f76566e6",
   "metadata": {},
   "source": [
    "## 10 finding count of patients based on ReasonForVisit "
   ]
  },
  {
   "cell_type": "code",
   "execution_count": 35,
   "id": "7c1d8366",
   "metadata": {},
   "outputs": [
    {
     "data": {
      "text/html": [
       "<div>\n",
       "<style scoped>\n",
       "    .dataframe tbody tr th:only-of-type {\n",
       "        vertical-align: middle;\n",
       "    }\n",
       "\n",
       "    .dataframe tbody tr th {\n",
       "        vertical-align: top;\n",
       "    }\n",
       "\n",
       "    .dataframe thead th {\n",
       "        text-align: right;\n",
       "    }\n",
       "</style>\n",
       "<table border=\"1\" class=\"dataframe\">\n",
       "  <thead>\n",
       "    <tr style=\"text-align: right;\">\n",
       "      <th></th>\n",
       "      <th>EDVisitID</th>\n",
       "      <th>PatientID</th>\n",
       "      <th>VisitDate</th>\n",
       "      <th>EDDischargeTime</th>\n",
       "      <th>Acuity</th>\n",
       "      <th>EDDisposition</th>\n",
       "    </tr>\n",
       "    <tr>\n",
       "      <th>ReasonForVisit</th>\n",
       "      <th></th>\n",
       "      <th></th>\n",
       "      <th></th>\n",
       "      <th></th>\n",
       "      <th></th>\n",
       "      <th></th>\n",
       "    </tr>\n",
       "  </thead>\n",
       "  <tbody>\n",
       "    <tr>\n",
       "      <th>Accident</th>\n",
       "      <td>39</td>\n",
       "      <td>39</td>\n",
       "      <td>39</td>\n",
       "      <td>39</td>\n",
       "      <td>39</td>\n",
       "      <td>39</td>\n",
       "    </tr>\n",
       "    <tr>\n",
       "      <th>Bleeding</th>\n",
       "      <td>31</td>\n",
       "      <td>31</td>\n",
       "      <td>31</td>\n",
       "      <td>31</td>\n",
       "      <td>31</td>\n",
       "      <td>31</td>\n",
       "    </tr>\n",
       "    <tr>\n",
       "      <th>Car Accident</th>\n",
       "      <td>17</td>\n",
       "      <td>17</td>\n",
       "      <td>17</td>\n",
       "      <td>17</td>\n",
       "      <td>17</td>\n",
       "      <td>17</td>\n",
       "    </tr>\n",
       "    <tr>\n",
       "      <th>Chest Pain</th>\n",
       "      <td>109</td>\n",
       "      <td>109</td>\n",
       "      <td>109</td>\n",
       "      <td>109</td>\n",
       "      <td>109</td>\n",
       "      <td>109</td>\n",
       "    </tr>\n",
       "    <tr>\n",
       "      <th>Cough</th>\n",
       "      <td>1</td>\n",
       "      <td>1</td>\n",
       "      <td>1</td>\n",
       "      <td>1</td>\n",
       "      <td>1</td>\n",
       "      <td>1</td>\n",
       "    </tr>\n",
       "    <tr>\n",
       "      <th>Fever</th>\n",
       "      <td>234</td>\n",
       "      <td>234</td>\n",
       "      <td>234</td>\n",
       "      <td>234</td>\n",
       "      <td>234</td>\n",
       "      <td>234</td>\n",
       "    </tr>\n",
       "    <tr>\n",
       "      <th>Gun Shot</th>\n",
       "      <td>16</td>\n",
       "      <td>16</td>\n",
       "      <td>16</td>\n",
       "      <td>16</td>\n",
       "      <td>16</td>\n",
       "      <td>16</td>\n",
       "    </tr>\n",
       "    <tr>\n",
       "      <th>Intoxication</th>\n",
       "      <td>30</td>\n",
       "      <td>30</td>\n",
       "      <td>30</td>\n",
       "      <td>30</td>\n",
       "      <td>30</td>\n",
       "      <td>30</td>\n",
       "    </tr>\n",
       "    <tr>\n",
       "      <th>Laceration</th>\n",
       "      <td>30</td>\n",
       "      <td>30</td>\n",
       "      <td>30</td>\n",
       "      <td>30</td>\n",
       "      <td>30</td>\n",
       "      <td>30</td>\n",
       "    </tr>\n",
       "    <tr>\n",
       "      <th>Migraine</th>\n",
       "      <td>156</td>\n",
       "      <td>156</td>\n",
       "      <td>156</td>\n",
       "      <td>156</td>\n",
       "      <td>156</td>\n",
       "      <td>156</td>\n",
       "    </tr>\n",
       "    <tr>\n",
       "      <th>Pneumonia</th>\n",
       "      <td>201</td>\n",
       "      <td>201</td>\n",
       "      <td>201</td>\n",
       "      <td>201</td>\n",
       "      <td>201</td>\n",
       "      <td>201</td>\n",
       "    </tr>\n",
       "    <tr>\n",
       "      <th>Shortness of Breath</th>\n",
       "      <td>149</td>\n",
       "      <td>149</td>\n",
       "      <td>149</td>\n",
       "      <td>149</td>\n",
       "      <td>149</td>\n",
       "      <td>149</td>\n",
       "    </tr>\n",
       "    <tr>\n",
       "      <th>Stomach Ache</th>\n",
       "      <td>186</td>\n",
       "      <td>186</td>\n",
       "      <td>186</td>\n",
       "      <td>186</td>\n",
       "      <td>186</td>\n",
       "      <td>186</td>\n",
       "    </tr>\n",
       "  </tbody>\n",
       "</table>\n",
       "</div>"
      ],
      "text/plain": [
       "                     EDVisitID  PatientID  VisitDate  EDDischargeTime  Acuity  \\\n",
       "ReasonForVisit                                                                  \n",
       "Accident                    39         39         39               39      39   \n",
       "Bleeding                    31         31         31               31      31   \n",
       "Car Accident                17         17         17               17      17   \n",
       "Chest Pain                 109        109        109              109     109   \n",
       "Cough                        1          1          1                1       1   \n",
       "Fever                      234        234        234              234     234   \n",
       "Gun Shot                    16         16         16               16      16   \n",
       "Intoxication                30         30         30               30      30   \n",
       "Laceration                  30         30         30               30      30   \n",
       "Migraine                   156        156        156              156     156   \n",
       "Pneumonia                  201        201        201              201     201   \n",
       "Shortness of Breath        149        149        149              149     149   \n",
       "Stomach Ache               186        186        186              186     186   \n",
       "\n",
       "                     EDDisposition  \n",
       "ReasonForVisit                      \n",
       "Accident                        39  \n",
       "Bleeding                        31  \n",
       "Car Accident                    17  \n",
       "Chest Pain                     109  \n",
       "Cough                            1  \n",
       "Fever                          234  \n",
       "Gun Shot                        16  \n",
       "Intoxication                    30  \n",
       "Laceration                      30  \n",
       "Migraine                       156  \n",
       "Pneumonia                      201  \n",
       "Shortness of Breath            149  \n",
       "Stomach Ache                   186  "
      ]
     },
     "execution_count": 35,
     "metadata": {},
     "output_type": "execute_result"
    }
   ],
   "source": [
    "df_EDV.groupby(['ReasonForVisit']).count()\n"
   ]
  },
  {
   "cell_type": "markdown",
   "id": "acf43721",
   "metadata": {},
   "source": [
    "## 11 Age distribution in Patients"
   ]
  },
  {
   "cell_type": "code",
   "execution_count": 55,
   "id": "9806d0be",
   "metadata": {},
   "outputs": [
    {
     "name": "stderr",
     "output_type": "stream",
     "text": [
      "C:\\Users\\svani\\anaconda3\\lib\\site-packages\\seaborn\\distributions.py:2557: FutureWarning: `distplot` is a deprecated function and will be removed in a future version. Please adapt your code to use either `displot` (a figure-level function with similar flexibility) or `histplot` (an axes-level function for histograms).\n",
      "  warnings.warn(msg, FutureWarning)\n"
     ]
    },
    {
     "name": "stdout",
     "output_type": "stream",
     "text": [
      "0.020371302535764937\n"
     ]
    },
    {
     "data": {
      "image/png": "[encoded data removed]",
      "text/plain": [
       "<Figure size 432x288 with 1 Axes>"
      ]
     },
     "metadata": {
      "needs_background": "light"
     },
     "output_type": "display_data"
    }
   ],
   "source": [
    "from datetime import date\n",
    "df_PT=df_PA\n",
    "df_PT['Age'] = 1\n",
    "df_PT\n",
    "def calculate_age(birthdate):\n",
    "    today = date.today()\n",
    "    return today.year - birthdate.year - ((today.month, today.day) < (birthdate.month, birthdate.day))\n",
    "\n",
    "df_PT['Age'] = df_PT['DateOfBirth'].apply(calculate_age)\n",
    "\n",
    "sns.distplot(df_PT.Age)\n",
    "print(df_PT.Age.skew())"
   ]
  },
  {
   "cell_type": "markdown",
   "id": "d576ca33",
   "metadata": {},
   "source": [
    "## 12 Drawing the line for mean and median on the distribution plot and identify the type of skewness for ExpectedMortality"
   ]
  },
  {
   "cell_type": "code",
   "execution_count": 21,
   "id": "38460aa2",
   "metadata": {
    "scrolled": true
   },
   "outputs": [
    {
     "name": "stderr",
     "output_type": "stream",
     "text": [
      "C:\\Users\\svani\\anaconda3\\lib\\site-packages\\seaborn\\distributions.py:2557: FutureWarning: `distplot` is a deprecated function and will be removed in a future version. Please adapt your code to use either `displot` (a figure-level function with similar flexibility) or `histplot` (an axes-level function for histograms).\n",
      "  warnings.warn(msg, FutureWarning)\n"
     ]
    },
    {
     "data": {
      "image/png": "[encoded data removed]",
      "text/plain": [
       "<Figure size 432x288 with 1 Axes>"
      ]
     },
     "metadata": {},
     "output_type": "display_data"
    }
   ],
   "source": [
    "sns.distplot(df_D.ExpectedMortality)\n",
    "plt.axvline(df_D.ExpectedMortality.mean(),color='r')\n",
    "plt.axvline(df_D.ExpectedMortality.median(),color='b')\n",
    "plt.show()"
   ]
  },
  {
   "cell_type": "markdown",
   "id": "16702e42",
   "metadata": {},
   "source": [
    "## 13 Drawing the line for mean and median on the distribution plot and identify the type of skewness for ExpectedLOS"
   ]
  },
  {
   "cell_type": "code",
   "execution_count": 22,
   "id": "54cc0552",
   "metadata": {},
   "outputs": [
    {
     "name": "stderr",
     "output_type": "stream",
     "text": [
      "C:\\Users\\svani\\anaconda3\\lib\\site-packages\\seaborn\\distributions.py:2557: FutureWarning: `distplot` is a deprecated function and will be removed in a future version. Please adapt your code to use either `displot` (a figure-level function with similar flexibility) or `histplot` (an axes-level function for histograms).\n",
      "  warnings.warn(msg, FutureWarning)\n"
     ]
    },
    {
     "data": {
      "image/png": "[encoded data removed]",
      "text/plain": [
       "<Figure size 432x288 with 1 Axes>"
      ]
     },
     "metadata": {},
     "output_type": "display_data"
    }
   ],
   "source": [
    "sns.distplot(df_D.ExpectedLOS)\n",
    "plt.axvline(df_D.ExpectedLOS.mean(),color='r')\n",
    "plt.axvline(df_D.ExpectedLOS.median(),color='b')\n",
    "plt.show()"
   ]
  },
  {
   "cell_type": "markdown",
   "id": "4cd72943",
   "metadata": {},
   "source": [
    "## 14 Visualize the distribution of BloodPressureDiastolic and BloodPressureSystolic using violin plot "
   ]
  },
  {
   "cell_type": "code",
   "execution_count": 63,
   "id": "db3a088b",
   "metadata": {},
   "outputs": [
    {
     "name": "stderr",
     "output_type": "stream",
     "text": [
      "C:\\Users\\svani\\anaconda3\\lib\\site-packages\\seaborn\\_decorators.py:36: FutureWarning: Pass the following variable as a keyword arg: x. From version 0.12, the only valid positional argument will be `data`, and passing other arguments without an explicit keyword will result in an error or misinterpretation.\n",
      "  warnings.warn(\n"
     ]
    },
    {
     "data": {
      "image/png": "[encoded data removed]",
      "text/plain": [
       "<Figure size 432x288 with 1 Axes>"
      ]
     },
     "metadata": {
      "needs_background": "light"
     },
     "output_type": "display_data"
    }
   ],
   "source": [
    "sns.violinplot(df_AV.BloodPressureDiastolic)\n",
    "\n",
    "plt.show()"
   ]
  },
  {
   "cell_type": "code",
   "execution_count": 61,
   "id": "6a23ce37",
   "metadata": {},
   "outputs": [
    {
     "name": "stderr",
     "output_type": "stream",
     "text": [
      "C:\\Users\\svani\\anaconda3\\lib\\site-packages\\seaborn\\_decorators.py:36: FutureWarning: Pass the following variable as a keyword arg: x. From version 0.12, the only valid positional argument will be `data`, and passing other arguments without an explicit keyword will result in an error or misinterpretation.\n",
      "  warnings.warn(\n"
     ]
    },
    {
     "data": {
      "image/png": "[encoded data removed]",
      "text/plain": [
       "<Figure size 432x288 with 1 Axes>"
      ]
     },
     "metadata": {
      "needs_background": "light"
     },
     "output_type": "display_data"
    }
   ],
   "source": [
    "sns.violinplot(df_AV.BloodPressureSystolic)\n",
    "\n",
    "plt.show()"
   ]
  },
  {
   "cell_type": "markdown",
   "id": "61f3b84b",
   "metadata": {},
   "source": [
    "## 15 bivariant analysis using Scatterplot "
   ]
  },
  {
   "cell_type": "code",
   "execution_count": 64,
   "id": "44c4b1ab",
   "metadata": {},
   "outputs": [
    {
     "name": "stderr",
     "output_type": "stream",
     "text": [
      "C:\\Users\\svani\\anaconda3\\lib\\site-packages\\seaborn\\_decorators.py:36: FutureWarning: Pass the following variables as keyword args: x, y. From version 0.12, the only valid positional argument will be `data`, and passing other arguments without an explicit keyword will result in an error or misinterpretation.\n",
      "  warnings.warn(\n"
     ]
    },
    {
     "data": {
      "image/png": "[encoded data removed]",
      "text/plain": [
       "<Figure size 432x288 with 1 Axes>"
      ]
     },
     "metadata": {
      "needs_background": "light"
     },
     "output_type": "display_data"
    }
   ],
   "source": [
    "sns.scatterplot(df_AV.BloodPressureDiastolic,df_AV.BloodPressureSystolic,color='green')\n",
    "plt.show()"
   ]
  },
  {
   "cell_type": "markdown",
   "id": "604e9be4",
   "metadata": {},
   "source": [
    "##### obeservation from above chart more than 90 of BloodPressureDiastolic and 140 of BloodPressureSystolic considered as high risk patients"
   ]
  },
  {
   "cell_type": "markdown",
   "id": "753d3ffc",
   "metadata": {},
   "source": [
    "## 16 Count of Patients Gender wise using countplot"
   ]
  },
  {
   "cell_type": "code",
   "execution_count": 65,
   "id": "68492b93",
   "metadata": {},
   "outputs": [
    {
     "data": {
      "text/plain": [
       "<AxesSubplot:xlabel='Gender', ylabel='count'>"
      ]
     },
     "execution_count": 65,
     "metadata": {},
     "output_type": "execute_result"
    },
    {
     "data": {
      "image/png": "[encoded data removed]",
      "text/plain": [
       "<Figure size 432x288 with 1 Axes>"
      ]
     },
     "metadata": {},
     "output_type": "display_data"
    }
   ],
   "source": [
    "sns.set_style('whitegrid')\n",
    "sns.countplot(x='Gender',data=df_PA)"
   ]
  },
  {
   "cell_type": "markdown",
   "id": "fd6a0164",
   "metadata": {},
   "source": [
    "## 17 outliers using boxplot"
   ]
  },
  {
   "cell_type": "code",
   "execution_count": 67,
   "id": "e5f49c36",
   "metadata": {},
   "outputs": [
    {
     "data": {
      "image/png": "[encoded data removed]",
      "text/plain": [
       "<Figure size 720x1224 with 6 Axes>"
      ]
     },
     "metadata": {},
     "output_type": "display_data"
    }
   ],
   "source": [
    "plt.figure(figsize=(10,17))\n",
    "plt.style.use('ggplot')\n",
    "plt.subplot(6,2,1)\n",
    "sns.boxplot(x = \"ExpectedLOS\",data = df_RR)\n",
    "plt.subplot(6,2,2)\n",
    "sns.boxplot(x = \"ExpectedMortality\",data = df_RR)\n",
    "plt.subplot(6,2,3)\n",
    "sns.boxplot(x = \"DaysToReadmission\",data = df_RR)\n",
    "plt.subplot(6,2,4)\n",
    "sns.boxplot(x = \"BloodPressureSystolic\",data = df_AV)\n",
    "plt.subplot(6,2,5)\n",
    "sns.boxplot(x = \"BloodPressureDiastolic\",data = df_AV)\n",
    "plt.subplot(6,2,6)\n",
    "sns.boxplot(x = \"Pulse\",data = df_AV)\n",
    "plt.show()\n"
   ]
  },
  {
   "cell_type": "code",
   "execution_count": 18,
   "id": "4bb87146",
   "metadata": {},
   "outputs": [
    {
     "data": {
      "text/plain": [
       "(array([0, 1]), [Text(0, 0, 'Male'), Text(1, 0, 'Female')])"
      ]
     },
     "execution_count": 18,
     "metadata": {},
     "output_type": "execute_result"
    },
    {
     "data": {
      "image/png": "[encoded data removed]",
      "text/plain": [
       "<Figure size 792x504 with 3 Axes>"
      ]
     },
     "metadata": {},
     "output_type": "display_data"
    }
   ],
   "source": [
    "df_pr=pd.merge(df_PA,df_RR,how='inner')\n",
    "\n",
    "plt.figure(figsize=(11,7))\n",
    "plt.style.use('ggplot')\n",
    "plt.subplot(2,2,1)\n",
    "sns.boxplot(y= 'ExpectedLOS',x= 'Service',data =df_pr)\n",
    "plt.xticks ( rotation = 60 )\n",
    "plt.subplot(2,2,2)\n",
    "sns.boxplot(y = 'ExpectedMortality',x='Service',data =df_pr)\n",
    "plt.xticks ( rotation = 60 )\n",
    "plt.subplot(2,2,3)\n",
    "sns.boxplot(y = 'ExpectedLOS', x ='Gender',data =df_pr)\n",
    "plt.xticks ( rotation = 60 )"
   ]
  },
  {
   "cell_type": "code",
   "execution_count": 30,
   "id": "32778254",
   "metadata": {},
   "outputs": [
    {
     "data": {
      "image/png": "[encoded data removed]",
      "text/plain": [
       "<Figure size 432x288 with 1 Axes>"
      ]
     },
     "metadata": {},
     "output_type": "display_data"
    }
   ],
   "source": [
    "my_colors = [\"#9b59b6\", \"#3498db\", \n",
    "            \"#2ecc71\", \"#006a4e\"]\n",
    "  \n",
    "# add color array to set_palette\n",
    "# function of seaborn\n",
    "sns.set_palette( my_colors )\n",
    "df_ELOS=df_RR  \n",
    "sns.boxplot(x='ExpectedLOS',y='Service',data=df_ELOS,linewidth=3)\n",
    "plt.show()"
   ]
  },
  {
   "cell_type": "markdown",
   "id": "ad1c59ef",
   "metadata": {},
   "source": [
    "## 18 outliers using Tukey's method"
   ]
  },
  {
   "cell_type": "code",
   "execution_count": 25,
   "id": "3fb086d7",
   "metadata": {},
   "outputs": [
    {
     "name": "stdout",
     "output_type": "stream",
     "text": [
      "[79, 100, 152, 168, 175, 181, 183, 187, 192, 323, 338, 453, 506, 524, 535, 541, 552, 564, 566, 581]\n",
      "[25, 27, 52, 79, 100, 120, 141, 148, 150, 152, 168, 175, 181, 183, 187, 192, 323, 338, 444, 445, 453, 506, 524, 535, 541, 552, 564, 566, 581, 602, 706]\n"
     ]
    }
   ],
   "source": [
    "\n",
    "def tukeys_method(df, variable):\n",
    "    #Takes two parameters: dataframe & variable of interest as string\n",
    "    q1 = df[variable].quantile(0.25)\n",
    "    q3 = df[variable].quantile(0.75)\n",
    "    iqr = q3-q1\n",
    "    inner_fence = 1.5*iqr\n",
    "    outer_fence = 3*iqr\n",
    "    \n",
    "    #inner fence lower and upper end\n",
    "    inner_fence_le = q1-inner_fence\n",
    "    inner_fence_ue = q3+inner_fence\n",
    "    \n",
    "    #outer fence lower and upper end\n",
    "    outer_fence_le = q1-outer_fence\n",
    "    outer_fence_ue = q3+outer_fence\n",
    "    \n",
    "    outliers_prob = []\n",
    "    outliers_poss = []\n",
    "    for index, x in enumerate(df[variable]):\n",
    "        if x <= outer_fence_le or x >= outer_fence_ue:\n",
    "            outliers_prob.append(index)\n",
    "    for index, x in enumerate(df[variable]):\n",
    "        if x <= inner_fence_le or x >= inner_fence_ue:\n",
    "            outliers_poss.append(index)\n",
    "    return outliers_prob, outliers_poss\n",
    "        \n",
    "probable_outliers_tm, possible_outliers_tm = tukeys_method(df_RR, \"DaysToReadmission\")\n",
    "print(probable_outliers_tm)\n",
    "print(possible_outliers_tm )"
   ]
  },
  {
   "cell_type": "markdown",
   "id": "5099e072",
   "metadata": {},
   "source": [
    "## 19.Count of patients based on Discharge Disposition & Service (multi variant analaysis)"
   ]
  },
  {
   "cell_type": "code",
   "execution_count": 27,
   "id": "2b871896",
   "metadata": {},
   "outputs": [
    {
     "data": {
      "text/html": [
       "<div>\n",
       "<style scoped>\n",
       "    .dataframe tbody tr th:only-of-type {\n",
       "        vertical-align: middle;\n",
       "    }\n",
       "\n",
       "    .dataframe tbody tr th {\n",
       "        vertical-align: top;\n",
       "    }\n",
       "\n",
       "    .dataframe thead th {\n",
       "        text-align: right;\n",
       "    }\n",
       "</style>\n",
       "<table border=\"1\" class=\"dataframe\">\n",
       "  <thead>\n",
       "    <tr style=\"text-align: right;\">\n",
       "      <th></th>\n",
       "      <th></th>\n",
       "      <th>PatientID</th>\n",
       "    </tr>\n",
       "    <tr>\n",
       "      <th>DischargeDisposition</th>\n",
       "      <th>Service</th>\n",
       "      <th></th>\n",
       "    </tr>\n",
       "  </thead>\n",
       "  <tbody>\n",
       "    <tr>\n",
       "      <th rowspan=\"6\" valign=\"top\">Expired</th>\n",
       "      <th>Cardiology</th>\n",
       "      <td>15</td>\n",
       "    </tr>\n",
       "    <tr>\n",
       "      <th>General Medicine</th>\n",
       "      <td>18</td>\n",
       "    </tr>\n",
       "    <tr>\n",
       "      <th>Hospitalist</th>\n",
       "      <td>10</td>\n",
       "    </tr>\n",
       "    <tr>\n",
       "      <th>ICU</th>\n",
       "      <td>29</td>\n",
       "    </tr>\n",
       "    <tr>\n",
       "      <th>Neurology</th>\n",
       "      <td>27</td>\n",
       "    </tr>\n",
       "    <tr>\n",
       "      <th>Orthopeadics</th>\n",
       "      <td>5</td>\n",
       "    </tr>\n",
       "    <tr>\n",
       "      <th rowspan=\"6\" valign=\"top\">Home</th>\n",
       "      <th>Cardiology</th>\n",
       "      <td>75</td>\n",
       "    </tr>\n",
       "    <tr>\n",
       "      <th>General Medicine</th>\n",
       "      <td>229</td>\n",
       "    </tr>\n",
       "    <tr>\n",
       "      <th>Hospitalist</th>\n",
       "      <td>88</td>\n",
       "    </tr>\n",
       "    <tr>\n",
       "      <th>ICU</th>\n",
       "      <td>110</td>\n",
       "    </tr>\n",
       "    <tr>\n",
       "      <th>Neurology</th>\n",
       "      <td>36</td>\n",
       "    </tr>\n",
       "    <tr>\n",
       "      <th>Orthopeadics</th>\n",
       "      <td>39</td>\n",
       "    </tr>\n",
       "    <tr>\n",
       "      <th rowspan=\"6\" valign=\"top\">Transfer</th>\n",
       "      <th>Cardiology</th>\n",
       "      <td>5</td>\n",
       "    </tr>\n",
       "    <tr>\n",
       "      <th>General Medicine</th>\n",
       "      <td>16</td>\n",
       "    </tr>\n",
       "    <tr>\n",
       "      <th>Hospitalist</th>\n",
       "      <td>3</td>\n",
       "    </tr>\n",
       "    <tr>\n",
       "      <th>ICU</th>\n",
       "      <td>12</td>\n",
       "    </tr>\n",
       "    <tr>\n",
       "      <th>Neurology</th>\n",
       "      <td>2</td>\n",
       "    </tr>\n",
       "    <tr>\n",
       "      <th>Orthopeadics</th>\n",
       "      <td>1</td>\n",
       "    </tr>\n",
       "  </tbody>\n",
       "</table>\n",
       "</div>"
      ],
      "text/plain": [
       "                                       PatientID\n",
       "DischargeDisposition Service                    \n",
       "Expired              Cardiology               15\n",
       "                     General Medicine         18\n",
       "                     Hospitalist              10\n",
       "                     ICU                      29\n",
       "                     Neurology                27\n",
       "                     Orthopeadics              5\n",
       "Home                 Cardiology               75\n",
       "                     General Medicine        229\n",
       "                     Hospitalist              88\n",
       "                     ICU                     110\n",
       "                     Neurology                36\n",
       "                     Orthopeadics             39\n",
       "Transfer             Cardiology                5\n",
       "                     General Medicine         16\n",
       "                     Hospitalist               3\n",
       "                     ICU                      12\n",
       "                     Neurology                 2\n",
       "                     Orthopeadics              1"
      ]
     },
     "metadata": {},
     "output_type": "display_data"
    }
   ],
   "source": [
    "patientcount = df_RR.groupby([\"DischargeDisposition\",\"Service\"]).count()\n",
    "display(patientcount)"
   ]
  },
  {
   "cell_type": "markdown",
   "id": "1c395f4a",
   "metadata": {},
   "source": [
    "## 20 How many patients got transferred from ICU?"
   ]
  },
  {
   "cell_type": "code",
   "execution_count": 29,
   "id": "289cb48c",
   "metadata": {},
   "outputs": [
    {
     "name": "stdout",
     "output_type": "stream",
     "text": [
      "720\n"
     ]
    }
   ],
   "source": [
    "df_RR_new = df_RR[[\"Service\",\"DischargeDisposition\"]]\n",
    "df_RR_new = print(((df_RR_new[\"Service\"] == 'ICU') & (df_RR_new[\"DischargeDisposition\"] == 'Transfer')).count())"
   ]
  },
  {
   "cell_type": "markdown",
   "id": "86638399",
   "metadata": {},
   "source": [
    "# Extra Question"
   ]
  },
  {
   "cell_type": "markdown",
   "id": "3e219605",
   "metadata": {},
   "source": [
    "#### 21.Find the data type property and verify the data type of each column in the DataFrame of Providers table."
   ]
  },
  {
   "cell_type": "code",
   "execution_count": 26,
   "id": "42092467",
   "metadata": {},
   "outputs": [
    {
     "name": "stdout",
     "output_type": "stream",
     "text": [
      "    ProviderID     ProviderName ProviderSpecialty     ProviderDateOnStaff\n",
      "0            1        Sally Sue        Pediatrics 1993-01-01 00:00:00.000\n",
      "1            2       Mike Myers        Pediatrics 1993-05-02 00:00:17.695\n",
      "2            3   Jordan Michael        Pediatrics 1993-06-24 21:31:46.687\n",
      "3            4        Ted Texas        Pediatrics 1993-12-23 21:33:52.299\n",
      "4            5         Ala Bama        Pediatrics 1995-01-10 02:53:47.838\n",
      "5            6       Harry Kane        Pediatrics 1995-07-21 03:49:03.310\n",
      "6            7        Barry Bar        Pediatrics 1995-11-21 19:30:38.759\n",
      "7            8        Ted Green        Pediatrics 1996-05-30 06:14:52.539\n",
      "8            9        Ted Black        Pediatrics 1997-02-20 08:01:10.211\n",
      "9           10         Fred Man           Surgery 1998-03-17 01:47:18.794\n",
      "10          11     Kim Kimberly           Surgery 1998-05-10 14:47:29.468\n",
      "11          12         Sarah Ab           Surgery 1998-08-18 05:22:40.762\n",
      "12          13  Abigail Marriot           Surgery 1998-11-08 12:25:45.705\n",
      "13          14          Dave Yu           Surgery 1999-06-26 16:18:57.436\n",
      "14          15  Christian Saint           Surgery 2000-08-27 00:12:40.326\n",
      "15          16     Perry Pardon           Surgery 2001-02-13 11:49:17.862\n",
      "16          17     Kent Kendall        Cardiology 2001-12-22 11:18:32.919\n",
      "17          18       Ryan Kevin        Cardiology 2003-01-14 21:16:34.778\n",
      "18          19     Tyler Conner        Cardiology 2003-07-09 02:41:40.410\n",
      "19          20    Bailey Barret        Cardiology 2003-08-20 16:05:50.179\n",
      "20          21      Megan Bonco        Cardiology 2004-02-17 21:22:30.546\n",
      "21          22    Joesph Walter        Cardiology 2005-02-04 11:40:44.121\n",
      "22          23      Walter King        Cardiology 2006-03-12 22:11:58.070\n",
      "23          24        Luke Long        Cardiology 2006-04-28 00:16:36.762\n",
      "24          25      Justin Time       PrimaryCare 2006-06-21 04:46:36.838\n",
      "25          26      Mike Joseph       PrimaryCare 2006-12-29 16:26:41.085\n",
      "26          27   Bridget Brenda       PrimaryCare 2007-06-30 05:53:46.143\n",
      "27          28      Brenda Bing       PrimaryCare 2007-11-18 22:33:55.792\n",
      "28          29    Chandler Bing       PrimaryCare 2007-12-07 23:50:10.442\n",
      "29          30      Joesph Ross       PrimaryCare 2008-11-08 18:06:32.983\n",
      "30          31     Dwight Scott       PrimaryCare 2009-04-18 19:15:44.587\n",
      "31          32  Michael Halpert       PrimaryCare 2009-09-02 00:14:41.441\n",
      "32          33      Pamela Ding       PrimaryCare 2009-11-12 03:59:49.655\n",
      "33          34       Tony Creed       PrimaryCare 2010-04-28 14:11:26.802\n",
      "34          35  Phyllis Stanley       PrimaryCare 2011-05-05 16:06:03.222\n",
      "35          36        Holly Hue       PrimaryCare 2012-06-24 06:55:22.021\n",
      "36          37        Trent Tye       PrimaryCare 2013-01-12 15:32:21.137\n",
      "37          38    Kimberly Cone       PrimaryCare 2013-05-23 05:17:19.360\n",
      "38          39       Harry West       PrimaryCare 2013-07-14 00:22:03.151\n",
      "39          40     Rosie Renter       PrimaryCare 2013-09-11 12:07:55.584\n",
      "ProviderID                      int64\n",
      "ProviderName                   object\n",
      "ProviderSpecialty              object\n",
      "ProviderDateOnStaff    datetime64[ns]\n",
      "dtype: object\n"
     ]
    }
   ],
   "source": [
    "df_datatype = df_P\n",
    "print(df_datatype)\n",
    "result=df_P.dtypes \n",
    "print(result)"
   ]
  },
  {
   "cell_type": "markdown",
   "id": "7e8489e1",
   "metadata": {},
   "source": [
    "#### 22.First 10 rows of the Patient First name and Last name."
   ]
  },
  {
   "cell_type": "code",
   "execution_count": 28,
   "id": "45ce8c80",
   "metadata": {},
   "outputs": [
    {
     "data": {
      "text/html": [
       "<div>\n",
       "<style scoped>\n",
       "    .dataframe tbody tr th:only-of-type {\n",
       "        vertical-align: middle;\n",
       "    }\n",
       "\n",
       "    .dataframe tbody tr th {\n",
       "        vertical-align: top;\n",
       "    }\n",
       "\n",
       "    .dataframe thead th {\n",
       "        text-align: right;\n",
       "    }\n",
       "</style>\n",
       "<table border=\"1\" class=\"dataframe\">\n",
       "  <thead>\n",
       "    <tr style=\"text-align: right;\">\n",
       "      <th></th>\n",
       "      <th>FirstName</th>\n",
       "      <th>LastName</th>\n",
       "    </tr>\n",
       "  </thead>\n",
       "  <tbody>\n",
       "    <tr>\n",
       "      <th>0</th>\n",
       "      <td>Lanni</td>\n",
       "      <td>Sue</td>\n",
       "    </tr>\n",
       "    <tr>\n",
       "      <th>1</th>\n",
       "      <td>Far</td>\n",
       "      <td>Myers</td>\n",
       "    </tr>\n",
       "    <tr>\n",
       "      <th>2</th>\n",
       "      <td>Devlin</td>\n",
       "      <td>Michael</td>\n",
       "    </tr>\n",
       "    <tr>\n",
       "      <th>3</th>\n",
       "      <td>Carmine</td>\n",
       "      <td>Texas</td>\n",
       "    </tr>\n",
       "    <tr>\n",
       "      <th>4</th>\n",
       "      <td>Tann</td>\n",
       "      <td>Bama</td>\n",
       "    </tr>\n",
       "    <tr>\n",
       "      <th>5</th>\n",
       "      <td>Jerrilyn</td>\n",
       "      <td>Kane</td>\n",
       "    </tr>\n",
       "    <tr>\n",
       "      <th>6</th>\n",
       "      <td>Skipton</td>\n",
       "      <td>Bar</td>\n",
       "    </tr>\n",
       "    <tr>\n",
       "      <th>7</th>\n",
       "      <td>Alexandra</td>\n",
       "      <td>Green</td>\n",
       "    </tr>\n",
       "    <tr>\n",
       "      <th>8</th>\n",
       "      <td>Devlin</td>\n",
       "      <td>Black</td>\n",
       "    </tr>\n",
       "    <tr>\n",
       "      <th>9</th>\n",
       "      <td>Granny</td>\n",
       "      <td>Man</td>\n",
       "    </tr>\n",
       "  </tbody>\n",
       "</table>\n",
       "</div>"
      ],
      "text/plain": [
       "   FirstName LastName\n",
       "0      Lanni      Sue\n",
       "1        Far    Myers\n",
       "2    Devlin   Michael\n",
       "3    Carmine    Texas\n",
       "4      Tann      Bama\n",
       "5  Jerrilyn      Kane\n",
       "6    Skipton      Bar\n",
       "7  Alexandra    Green\n",
       "8    Devlin     Black\n",
       "9     Granny      Man"
      ]
     },
     "execution_count": 28,
     "metadata": {},
     "output_type": "execute_result"
    }
   ],
   "source": [
    "#### df_list=df_PA\n",
    "df_patientFNLN = df_list[['FirstName','LastName']]\n",
    "df_patientFNLN.head(10)"
   ]
  },
  {
   "cell_type": "markdown",
   "id": "34d4ab8a",
   "metadata": {},
   "source": [
    "#### 23.find the Patient having Stomach Ache."
   ]
  },
  {
   "cell_type": "code",
   "execution_count": 29,
   "id": "4e8983b7",
   "metadata": {},
   "outputs": [
    {
     "name": "stdout",
     "output_type": "stream",
     "text": [
      "     PatientID ReasonForVisit\n",
      "0            1   Stomach Ache\n",
      "2           13   Stomach Ache\n",
      "43          11   Stomach Ache\n",
      "45          23   Stomach Ache\n",
      "66          90   Stomach Ache\n",
      "..         ...            ...\n",
      "929        909   Stomach Ache\n",
      "934        923   Stomach Ache\n",
      "936        925   Stomach Ache\n",
      "937        926   Stomach Ache\n",
      "938        927   Stomach Ache\n",
      "\n",
      "[136 rows x 2 columns]\n"
     ]
    }
   ],
   "source": [
    "df_reason=df_EDU[['PatientID','ReasonForVisit']]\n",
    "df_DETAILS=df_reason.loc[(df_EDU['ReasonForVisit'] == 'Stomach Ache')]\n",
    "print(df_DETAILS)"
   ]
  },
  {
   "cell_type": "markdown",
   "id": "f5f28b52",
   "metadata": {},
   "source": [
    "#### 24.Find the list of unique Provider Specialty."
   ]
  },
  {
   "cell_type": "code",
   "execution_count": 31,
   "id": "a7fd1f7a",
   "metadata": {},
   "outputs": [
    {
     "data": {
      "text/plain": [
       "array(['Pediatrics', 'Surgery', 'Cardiology', 'PrimaryCare'], dtype=object)"
      ]
     },
     "execution_count": 31,
     "metadata": {},
     "output_type": "execute_result"
    }
   ],
   "source": [
    "df_prvspec = df_P\n",
    "df_prvspec['ProviderSpecialty'].unique()"
   ]
  },
  {
   "cell_type": "markdown",
   "id": "d36a50cb",
   "metadata": {},
   "source": [
    "#### 25. Access the record of specific patientID 377 & primary diagnosis is stroke."
   ]
  },
  {
   "cell_type": "code",
   "execution_count": 32,
   "id": "2bad8584",
   "metadata": {},
   "outputs": [
    {
     "data": {
      "text/html": [
       "<div>\n",
       "<style scoped>\n",
       "    .dataframe tbody tr th:only-of-type {\n",
       "        vertical-align: middle;\n",
       "    }\n",
       "\n",
       "    .dataframe tbody tr th {\n",
       "        vertical-align: top;\n",
       "    }\n",
       "\n",
       "    .dataframe thead th {\n",
       "        text-align: right;\n",
       "    }\n",
       "</style>\n",
       "<table border=\"1\" class=\"dataframe\">\n",
       "  <thead>\n",
       "    <tr style=\"text-align: right;\">\n",
       "      <th></th>\n",
       "      <th>AdmissionID</th>\n",
       "      <th>PatientID</th>\n",
       "      <th>AdmissionDate</th>\n",
       "      <th>DischargeDate</th>\n",
       "      <th>DischargeDisposition</th>\n",
       "      <th>Service</th>\n",
       "      <th>PrimaryDiagnosis</th>\n",
       "      <th>ExpectedLOS</th>\n",
       "      <th>ExpectedMortality</th>\n",
       "      <th>ReadmissionFlag</th>\n",
       "      <th>DaysToReadmission</th>\n",
       "      <th>EDVisitAfterDischargeFlag</th>\n",
       "    </tr>\n",
       "  </thead>\n",
       "  <tbody>\n",
       "    <tr>\n",
       "      <th>382</th>\n",
       "      <td>282</td>\n",
       "      <td>377</td>\n",
       "      <td>2018-01-31</td>\n",
       "      <td>2018-02-05 17:57:09.552</td>\n",
       "      <td>Home</td>\n",
       "      <td>Neurology</td>\n",
       "      <td>Stroke</td>\n",
       "      <td>13.820021</td>\n",
       "      <td>0.39269</td>\n",
       "      <td>1.0</td>\n",
       "      <td>4.0</td>\n",
       "      <td>1.0</td>\n",
       "    </tr>\n",
       "  </tbody>\n",
       "</table>\n",
       "</div>"
      ],
      "text/plain": [
       "     AdmissionID  PatientID AdmissionDate           DischargeDate  \\\n",
       "382          282        377    2018-01-31 2018-02-05 17:57:09.552   \n",
       "\n",
       "    DischargeDisposition    Service PrimaryDiagnosis  ExpectedLOS  \\\n",
       "382                 Home  Neurology           Stroke    13.820021   \n",
       "\n",
       "     ExpectedMortality  ReadmissionFlag  DaysToReadmission  \\\n",
       "382            0.39269              1.0                4.0   \n",
       "\n",
       "     EDVisitAfterDischargeFlag  \n",
       "382                        1.0  "
      ]
     },
     "execution_count": 32,
     "metadata": {},
     "output_type": "execute_result"
    }
   ],
   "source": [
    "df_record=df_RR\n",
    "df_record[(df_record['PatientID']== 377) & \n",
    "          (df_record['PrimaryDiagnosis']=='Stroke')]"
   ]
  },
  {
   "cell_type": "markdown",
   "id": "b003baa9",
   "metadata": {},
   "source": [
    "#### 26.find all the patient and visittype where BPS is greater than 185."
   ]
  },
  {
   "cell_type": "code",
   "execution_count": null,
   "id": "74fad6e8",
   "metadata": {},
   "outputs": [],
   "source": [
    "df_BPS=df_AV[['PatientMRN','BloodPressureSystolic','VisitType']]\n",
    "df_BPS.loc[df_AV['BloodPressureSystolic']>185]\n",
    "df_BPS"
   ]
  },
  {
   "cell_type": "markdown",
   "id": "49f32ebb",
   "metadata": {},
   "source": [
    "#### 27.sort the admission date of patients in registry by descending order"
   ]
  },
  {
   "cell_type": "code",
   "execution_count": 34,
   "id": "4a294348",
   "metadata": {},
   "outputs": [
    {
     "data": {
      "text/html": [
       "<div>\n",
       "<style scoped>\n",
       "    .dataframe tbody tr th:only-of-type {\n",
       "        vertical-align: middle;\n",
       "    }\n",
       "\n",
       "    .dataframe tbody tr th {\n",
       "        vertical-align: top;\n",
       "    }\n",
       "\n",
       "    .dataframe thead th {\n",
       "        text-align: right;\n",
       "    }\n",
       "</style>\n",
       "<table border=\"1\" class=\"dataframe\">\n",
       "  <thead>\n",
       "    <tr style=\"text-align: right;\">\n",
       "      <th></th>\n",
       "      <th>PatientID</th>\n",
       "      <th>AdmissionDate</th>\n",
       "    </tr>\n",
       "  </thead>\n",
       "  <tbody>\n",
       "    <tr>\n",
       "      <th>719</th>\n",
       "      <td>742</td>\n",
       "      <td>2018-02-22</td>\n",
       "    </tr>\n",
       "    <tr>\n",
       "      <th>708</th>\n",
       "      <td>731</td>\n",
       "      <td>2018-02-22</td>\n",
       "    </tr>\n",
       "    <tr>\n",
       "      <th>699</th>\n",
       "      <td>721</td>\n",
       "      <td>2018-02-22</td>\n",
       "    </tr>\n",
       "    <tr>\n",
       "      <th>700</th>\n",
       "      <td>722</td>\n",
       "      <td>2018-02-22</td>\n",
       "    </tr>\n",
       "    <tr>\n",
       "      <th>701</th>\n",
       "      <td>723</td>\n",
       "      <td>2018-02-22</td>\n",
       "    </tr>\n",
       "  </tbody>\n",
       "</table>\n",
       "</div>"
      ],
      "text/plain": [
       "     PatientID AdmissionDate\n",
       "719        742    2018-02-22\n",
       "708        731    2018-02-22\n",
       "699        721    2018-02-22\n",
       "700        722    2018-02-22\n",
       "701        723    2018-02-22"
      ]
     },
     "execution_count": 34,
     "metadata": {},
     "output_type": "execute_result"
    }
   ],
   "source": [
    "df_adddate=df_RR\n",
    "df_adate=df_adddate[['PatientID','AdmissionDate']]\n",
    "df_adate.sort_values('AdmissionDate',ascending=False).head()"
   ]
  },
  {
   "cell_type": "markdown",
   "id": "8f04c723",
   "metadata": {},
   "source": [
    "#### 28.find the total number of patients record in patient table."
   ]
  },
  {
   "cell_type": "code",
   "execution_count": 35,
   "id": "2774a4bb",
   "metadata": {},
   "outputs": [
    {
     "name": "stdout",
     "output_type": "stream",
     "text": [
      "number of patients in record: 945\n"
     ]
    }
   ],
   "source": [
    "df_total=df_PA\n",
    "print('number of patients in record:',len(df_PA))"
   ]
  },
  {
   "cell_type": "markdown",
   "id": "a023148a",
   "metadata": {},
   "source": [
    "#### 29.find the total number of patients to the Expired,Home,Transfer."
   ]
  },
  {
   "cell_type": "code",
   "execution_count": 36,
   "id": "56038492",
   "metadata": {},
   "outputs": [
    {
     "data": {
      "text/html": [
       "<div>\n",
       "<style scoped>\n",
       "    .dataframe tbody tr th:only-of-type {\n",
       "        vertical-align: middle;\n",
       "    }\n",
       "\n",
       "    .dataframe tbody tr th {\n",
       "        vertical-align: top;\n",
       "    }\n",
       "\n",
       "    .dataframe thead th {\n",
       "        text-align: right;\n",
       "    }\n",
       "</style>\n",
       "<table border=\"1\" class=\"dataframe\">\n",
       "  <thead>\n",
       "    <tr style=\"text-align: right;\">\n",
       "      <th></th>\n",
       "      <th>DischargeDisposition</th>\n",
       "      <th>PatientID</th>\n",
       "    </tr>\n",
       "  </thead>\n",
       "  <tbody>\n",
       "    <tr>\n",
       "      <th>0</th>\n",
       "      <td>Expired</td>\n",
       "      <td>104</td>\n",
       "    </tr>\n",
       "    <tr>\n",
       "      <th>1</th>\n",
       "      <td>Home</td>\n",
       "      <td>577</td>\n",
       "    </tr>\n",
       "    <tr>\n",
       "      <th>2</th>\n",
       "      <td>Transfer</td>\n",
       "      <td>39</td>\n",
       "    </tr>\n",
       "  </tbody>\n",
       "</table>\n",
       "</div>"
      ],
      "text/plain": [
       "  DischargeDisposition  PatientID\n",
       "0              Expired        104\n",
       "1                 Home        577\n",
       "2             Transfer         39"
      ]
     },
     "execution_count": 36,
     "metadata": {},
     "output_type": "execute_result"
    }
   ],
   "source": [
    "df_DDP=df_D\n",
    "df_DDP.groupby('DischargeDisposition').count()[['PatientID']].reset_index()"
   ]
  },
  {
   "cell_type": "markdown",
   "id": "6a4cb9af",
   "metadata": {},
   "source": [
    "#### 30.plot the graph for service to get the no of patients."
   ]
  },
  {
   "cell_type": "code",
   "execution_count": 37,
   "id": "5bfaac35",
   "metadata": {},
   "outputs": [
    {
     "data": {
      "image/png": "[encoded data removed]",
      "text/plain": [
       "<Figure size 432x288 with 1 Axes>"
      ]
     },
     "metadata": {
      "needs_background": "light"
     },
     "output_type": "display_data"
    }
   ],
   "source": [
    "graph = df_D\\\n",
    ".groupby('Service')\\\n",
    ".count()[['PatientID']]\\\n",
    ".reset_index()\n",
    "graph\n",
    "figure = sns.barplot(data = graph,x = 'PatientID',y = 'Service')\n",
    "plt.title('Number of patients by Service')\n",
    "plt.xlabel('Number of Patients')\n",
    "plt.ylabel('Service')\n",
    "plt.show(figure)"
   ]
  },
  {
   "cell_type": "markdown",
   "id": "4c19c5c8",
   "metadata": {},
   "source": [
    "#### 31.find the patients visit type by month vise."
   ]
  },
  {
   "cell_type": "code",
   "execution_count": 38,
   "id": "ad5b81e2",
   "metadata": {},
   "outputs": [
    {
     "data": {
      "text/html": [
       "<div>\n",
       "<style scoped>\n",
       "    .dataframe tbody tr th:only-of-type {\n",
       "        vertical-align: middle;\n",
       "    }\n",
       "\n",
       "    .dataframe tbody tr th {\n",
       "        vertical-align: top;\n",
       "    }\n",
       "\n",
       "    .dataframe thead th {\n",
       "        text-align: right;\n",
       "    }\n",
       "</style>\n",
       "<table border=\"1\" class=\"dataframe\">\n",
       "  <thead>\n",
       "    <tr style=\"text-align: right;\">\n",
       "      <th></th>\n",
       "      <th>VisitType</th>\n",
       "      <th>DateofVisitMonth</th>\n",
       "      <th>PatientMRNCount</th>\n",
       "    </tr>\n",
       "  </thead>\n",
       "  <tbody>\n",
       "    <tr>\n",
       "      <th>0</th>\n",
       "      <td>Follow Up</td>\n",
       "      <td>2019-01-01</td>\n",
       "      <td>30</td>\n",
       "    </tr>\n",
       "    <tr>\n",
       "      <th>1</th>\n",
       "      <td>Follow Up</td>\n",
       "      <td>2019-02-01</td>\n",
       "      <td>90</td>\n",
       "    </tr>\n",
       "    <tr>\n",
       "      <th>2</th>\n",
       "      <td>Follow Up</td>\n",
       "      <td>2019-03-01</td>\n",
       "      <td>123</td>\n",
       "    </tr>\n",
       "    <tr>\n",
       "      <th>3</th>\n",
       "      <td>Follow Up</td>\n",
       "      <td>2019-04-01</td>\n",
       "      <td>81</td>\n",
       "    </tr>\n",
       "    <tr>\n",
       "      <th>4</th>\n",
       "      <td>Follow Up</td>\n",
       "      <td>2019-05-01</td>\n",
       "      <td>12</td>\n",
       "    </tr>\n",
       "    <tr>\n",
       "      <th>5</th>\n",
       "      <td>New</td>\n",
       "      <td>2019-01-01</td>\n",
       "      <td>39</td>\n",
       "    </tr>\n",
       "    <tr>\n",
       "      <th>6</th>\n",
       "      <td>New</td>\n",
       "      <td>2019-02-01</td>\n",
       "      <td>5</td>\n",
       "    </tr>\n",
       "    <tr>\n",
       "      <th>7</th>\n",
       "      <td>New</td>\n",
       "      <td>2019-03-01</td>\n",
       "      <td>16</td>\n",
       "    </tr>\n",
       "    <tr>\n",
       "      <th>8</th>\n",
       "      <td>New</td>\n",
       "      <td>2019-04-01</td>\n",
       "      <td>57</td>\n",
       "    </tr>\n",
       "    <tr>\n",
       "      <th>9</th>\n",
       "      <td>New</td>\n",
       "      <td>2019-05-01</td>\n",
       "      <td>8</td>\n",
       "    </tr>\n",
       "    <tr>\n",
       "      <th>10</th>\n",
       "      <td>Physical</td>\n",
       "      <td>2019-01-01</td>\n",
       "      <td>19</td>\n",
       "    </tr>\n",
       "    <tr>\n",
       "      <th>11</th>\n",
       "      <td>Physical</td>\n",
       "      <td>2019-02-01</td>\n",
       "      <td>50</td>\n",
       "    </tr>\n",
       "    <tr>\n",
       "      <th>12</th>\n",
       "      <td>Physical</td>\n",
       "      <td>2019-03-01</td>\n",
       "      <td>109</td>\n",
       "    </tr>\n",
       "    <tr>\n",
       "      <th>13</th>\n",
       "      <td>Physical</td>\n",
       "      <td>2019-04-01</td>\n",
       "      <td>24</td>\n",
       "    </tr>\n",
       "    <tr>\n",
       "      <th>14</th>\n",
       "      <td>Physical</td>\n",
       "      <td>2019-05-01</td>\n",
       "      <td>3</td>\n",
       "    </tr>\n",
       "    <tr>\n",
       "      <th>15</th>\n",
       "      <td>Telemedicine</td>\n",
       "      <td>2019-01-01</td>\n",
       "      <td>23</td>\n",
       "    </tr>\n",
       "    <tr>\n",
       "      <th>16</th>\n",
       "      <td>Telemedicine</td>\n",
       "      <td>2019-02-01</td>\n",
       "      <td>93</td>\n",
       "    </tr>\n",
       "    <tr>\n",
       "      <th>17</th>\n",
       "      <td>Telemedicine</td>\n",
       "      <td>2019-03-01</td>\n",
       "      <td>105</td>\n",
       "    </tr>\n",
       "    <tr>\n",
       "      <th>18</th>\n",
       "      <td>Telemedicine</td>\n",
       "      <td>2019-04-01</td>\n",
       "      <td>58</td>\n",
       "    </tr>\n",
       "    <tr>\n",
       "      <th>19</th>\n",
       "      <td>Telemedicine</td>\n",
       "      <td>2019-05-01</td>\n",
       "      <td>5</td>\n",
       "    </tr>\n",
       "  </tbody>\n",
       "</table>\n",
       "</div>"
      ],
      "text/plain": [
       "       VisitType DateofVisitMonth  PatientMRNCount\n",
       "0      Follow Up       2019-01-01               30\n",
       "1      Follow Up       2019-02-01               90\n",
       "2      Follow Up       2019-03-01              123\n",
       "3      Follow Up       2019-04-01               81\n",
       "4      Follow Up       2019-05-01               12\n",
       "5            New       2019-01-01               39\n",
       "6            New       2019-02-01                5\n",
       "7            New       2019-03-01               16\n",
       "8            New       2019-04-01               57\n",
       "9            New       2019-05-01                8\n",
       "10      Physical       2019-01-01               19\n",
       "11      Physical       2019-02-01               50\n",
       "12      Physical       2019-03-01              109\n",
       "13      Physical       2019-04-01               24\n",
       "14      Physical       2019-05-01                3\n",
       "15  Telemedicine       2019-01-01               23\n",
       "16  Telemedicine       2019-02-01               93\n",
       "17  Telemedicine       2019-03-01              105\n",
       "18  Telemedicine       2019-04-01               58\n",
       "19  Telemedicine       2019-05-01                5"
      ]
     },
     "execution_count": 38,
     "metadata": {},
     "output_type": "execute_result"
    }
   ],
   "source": [
    "df_AV['DateofVisitMonth'] = df_AV['DateofVisit'].astype('datetime64[M]')\n",
    "df_AV\n",
    "df_visit=df_AV[['PatientMRN','DateofVisitMonth','DateofVisit']]\n",
    "df_visit\n",
    "visit_type_month = df_AV.groupby(['VisitType','DateofVisitMonth'])['PatientMRN'].count().reset_index(name='PatientMRNCount')\n",
    "visit_type_month "
   ]
  },
  {
   "cell_type": "markdown",
   "id": "3eb2c0ac",
   "metadata": {},
   "source": [
    "#### 32.plot line graph for count of patients born in a particular year gender wise."
   ]
  },
  {
   "cell_type": "code",
   "execution_count": 39,
   "id": "e61d4653",
   "metadata": {},
   "outputs": [
    {
     "data": {
      "image/png": "[encoded data removed]",
      "text/plain": [
       "<Figure size 432x288 with 1 Axes>"
      ]
     },
     "metadata": {
      "needs_background": "light"
     },
     "output_type": "display_data"
    }
   ],
   "source": [
    "df_PA['DateOfBirth_Year'] = df_PA['DateOfBirth'].astype('datetime64[Y]')\n",
    "df_PA\n",
    "df_DOB=df_PA[['Gender','DateOfBirth_Year','PatientID']]\n",
    "df_DOB\n",
    "\n",
    "Birth_month = df_PA.groupby(['DateOfBirth_Year','Gender'])['PatientID'].count().reset_index(name='PatientCount')\n",
    "Birth_month \n",
    "\n",
    "fig=sns.lineplot(data=Birth_month.reset_index(),\n",
    "                 x='DateOfBirth_Year',\n",
    "                 y='PatientCount',\n",
    "                 hue='Gender')"
   ]
  },
  {
   "cell_type": "markdown",
   "id": "6d586895",
   "metadata": {},
   "source": [
    "#### 33.How to get the shape of the data in ReAdmissionRegistry table."
   ]
  },
  {
   "cell_type": "code",
   "execution_count": 40,
   "id": "a6216a36",
   "metadata": {},
   "outputs": [
    {
     "data": {
      "text/plain": [
       "(720, 12)"
      ]
     },
     "execution_count": 40,
     "metadata": {},
     "output_type": "execute_result"
    }
   ],
   "source": [
    "df=pd.read_excel(xls, 'ReAdmissionRegistry')\n",
    "df.shape"
   ]
  },
  {
   "cell_type": "markdown",
   "id": "254e31e8",
   "metadata": {},
   "source": [
    "#### 34.write a code to count of empty values in each column of readmission registry table"
   ]
  },
  {
   "cell_type": "code",
   "execution_count": 41,
   "id": "05abf541",
   "metadata": {},
   "outputs": [
    {
     "data": {
      "text/plain": [
       "AdmissionID                    0\n",
       "PatientID                      0\n",
       "AdmissionDate                  0\n",
       "DischargeDate                  0\n",
       "DischargeDisposition           0\n",
       "Service                        0\n",
       "PrimaryDiagnosis               0\n",
       "ExpectedLOS                    0\n",
       "ExpectedMortality              0\n",
       "ReadmissionFlag              526\n",
       "DaysToReadmission            526\n",
       "EDVisitAfterDischargeFlag    379\n",
       "dtype: int64"
      ]
     },
     "execution_count": 41,
     "metadata": {},
     "output_type": "execute_result"
    }
   ],
   "source": [
    "df_null=df_RR\n",
    "df_null.isna().sum()"
   ]
  },
  {
   "cell_type": "markdown",
   "id": "93006eba",
   "metadata": {},
   "source": [
    "#### 35. find a way to check for any null or missing values in patient table."
   ]
  },
  {
   "cell_type": "code",
   "execution_count": 42,
   "id": "5578c4f7",
   "metadata": {},
   "outputs": [
    {
     "data": {
      "text/plain": [
       "True"
      ]
     },
     "execution_count": 42,
     "metadata": {},
     "output_type": "execute_result"
    }
   ],
   "source": [
    "df_null=df_PA\n",
    "df_null.isnull().values.any()"
   ]
  },
  {
   "cell_type": "markdown",
   "id": "79f36758",
   "metadata": {},
   "source": [
    "#### 36.show some basic statistics for EDvisits."
   ]
  },
  {
   "cell_type": "code",
   "execution_count": 43,
   "id": "7d348a36",
   "metadata": {},
   "outputs": [
    {
     "data": {
      "text/html": [
       "<div>\n",
       "<style scoped>\n",
       "    .dataframe tbody tr th:only-of-type {\n",
       "        vertical-align: middle;\n",
       "    }\n",
       "\n",
       "    .dataframe tbody tr th {\n",
       "        vertical-align: top;\n",
       "    }\n",
       "\n",
       "    .dataframe thead th {\n",
       "        text-align: right;\n",
       "    }\n",
       "</style>\n",
       "<table border=\"1\" class=\"dataframe\">\n",
       "  <thead>\n",
       "    <tr style=\"text-align: right;\">\n",
       "      <th></th>\n",
       "      <th>EDVisitID</th>\n",
       "      <th>PatientID</th>\n",
       "      <th>Acuity</th>\n",
       "    </tr>\n",
       "  </thead>\n",
       "  <tbody>\n",
       "    <tr>\n",
       "      <th>count</th>\n",
       "      <td>1199.000000</td>\n",
       "      <td>1199.000000</td>\n",
       "      <td>1199.000000</td>\n",
       "    </tr>\n",
       "    <tr>\n",
       "      <th>mean</th>\n",
       "      <td>600.000000</td>\n",
       "      <td>405.615513</td>\n",
       "      <td>2.326939</td>\n",
       "    </tr>\n",
       "    <tr>\n",
       "      <th>std</th>\n",
       "      <td>346.265794</td>\n",
       "      <td>279.829613</td>\n",
       "      <td>1.575014</td>\n",
       "    </tr>\n",
       "    <tr>\n",
       "      <th>min</th>\n",
       "      <td>1.000000</td>\n",
       "      <td>1.000000</td>\n",
       "      <td>1.000000</td>\n",
       "    </tr>\n",
       "    <tr>\n",
       "      <th>25%</th>\n",
       "      <td>300.500000</td>\n",
       "      <td>164.500000</td>\n",
       "      <td>1.000000</td>\n",
       "    </tr>\n",
       "    <tr>\n",
       "      <th>50%</th>\n",
       "      <td>600.000000</td>\n",
       "      <td>346.000000</td>\n",
       "      <td>2.000000</td>\n",
       "    </tr>\n",
       "    <tr>\n",
       "      <th>75%</th>\n",
       "      <td>899.500000</td>\n",
       "      <td>645.500000</td>\n",
       "      <td>4.000000</td>\n",
       "    </tr>\n",
       "    <tr>\n",
       "      <th>max</th>\n",
       "      <td>1199.000000</td>\n",
       "      <td>945.000000</td>\n",
       "      <td>5.000000</td>\n",
       "    </tr>\n",
       "  </tbody>\n",
       "</table>\n",
       "</div>"
      ],
      "text/plain": [
       "         EDVisitID    PatientID       Acuity\n",
       "count  1199.000000  1199.000000  1199.000000\n",
       "mean    600.000000   405.615513     2.326939\n",
       "std     346.265794   279.829613     1.575014\n",
       "min       1.000000     1.000000     1.000000\n",
       "25%     300.500000   164.500000     1.000000\n",
       "50%     600.000000   346.000000     2.000000\n",
       "75%     899.500000   645.500000     4.000000\n",
       "max    1199.000000   945.000000     5.000000"
      ]
     },
     "execution_count": 43,
     "metadata": {},
     "output_type": "execute_result"
    }
   ],
   "source": [
    "df_statistics=df_EDV\n",
    "df_statistics.describe()"
   ]
  },
  {
   "cell_type": "markdown",
   "id": "4f9576ab",
   "metadata": {},
   "source": [
    "#### 37.get a count of number of patients with a primary diagnosis."
   ]
  },
  {
   "cell_type": "code",
   "execution_count": 44,
   "id": "7b0503c0",
   "metadata": {},
   "outputs": [
    {
     "data": {
      "text/plain": [
       "Pneumonia             177\n",
       "Flu                    80\n",
       "Heart Failure          78\n",
       "Stroke                 68\n",
       "Diabetes               64\n",
       "Hypertension           50\n",
       "AMI                    48\n",
       "Laceration             29\n",
       "Knee Replacement       23\n",
       "Hip Fracture           23\n",
       "Kidney Failure         20\n",
       "Fever                  19\n",
       "Migraine               12\n",
       "Afib                   11\n",
       "Broken Leg              9\n",
       "Pain                    7\n",
       "Spinal Cord Injury      2\n",
       "Name: PrimaryDiagnosis, dtype: int64"
      ]
     },
     "execution_count": 44,
     "metadata": {},
     "output_type": "execute_result"
    }
   ],
   "source": [
    "df_primary =df_D\n",
    "df_primary['PrimaryDiagnosis'].value_counts()"
   ]
  },
  {
   "cell_type": "markdown",
   "id": "b6e29dc5",
   "metadata": {},
   "source": [
    "#### 38.find the correlation of BPS and BPD patients."
   ]
  },
  {
   "cell_type": "code",
   "execution_count": 45,
   "id": "df90840c",
   "metadata": {},
   "outputs": [
    {
     "data": {
      "text/html": [
       "<div>\n",
       "<style scoped>\n",
       "    .dataframe tbody tr th:only-of-type {\n",
       "        vertical-align: middle;\n",
       "    }\n",
       "\n",
       "    .dataframe tbody tr th {\n",
       "        vertical-align: top;\n",
       "    }\n",
       "\n",
       "    .dataframe thead th {\n",
       "        text-align: right;\n",
       "    }\n",
       "</style>\n",
       "<table border=\"1\" class=\"dataframe\">\n",
       "  <thead>\n",
       "    <tr style=\"text-align: right;\">\n",
       "      <th></th>\n",
       "      <th>BloodPressureSystolic</th>\n",
       "      <th>BloodPressureDiastolic</th>\n",
       "    </tr>\n",
       "  </thead>\n",
       "  <tbody>\n",
       "    <tr>\n",
       "      <th>BloodPressureSystolic</th>\n",
       "      <td>1.00000</td>\n",
       "      <td>0.86488</td>\n",
       "    </tr>\n",
       "    <tr>\n",
       "      <th>BloodPressureDiastolic</th>\n",
       "      <td>0.86488</td>\n",
       "      <td>1.00000</td>\n",
       "    </tr>\n",
       "  </tbody>\n",
       "</table>\n",
       "</div>"
      ],
      "text/plain": [
       "                        BloodPressureSystolic  BloodPressureDiastolic\n",
       "BloodPressureSystolic                 1.00000                 0.86488\n",
       "BloodPressureDiastolic                0.86488                 1.00000"
      ]
     },
     "execution_count": 45,
     "metadata": {},
     "output_type": "execute_result"
    }
   ],
   "source": [
    "df_corr=df_AV\n",
    "df_corre=df_corr[['BloodPressureSystolic','BloodPressureDiastolic']]\n",
    "df_corre.corr()"
   ]
  },
  {
   "cell_type": "markdown",
   "id": "4a983bad",
   "metadata": {},
   "source": [
    "#### 39.visualization the 18 question data"
   ]
  },
  {
   "cell_type": "code",
   "execution_count": 46,
   "id": "eee60580",
   "metadata": {},
   "outputs": [
    {
     "data": {
      "text/plain": [
       "<AxesSubplot:>"
      ]
     },
     "execution_count": 46,
     "metadata": {},
     "output_type": "execute_result"
    },
    {
     "data": {
      "image/png": "[encoded data removed]",
      "text/plain": [
       "<Figure size 504x504 with 2 Axes>"
      ]
     },
     "metadata": {
      "needs_background": "light"
     },
     "output_type": "display_data"
    }
   ],
   "source": [
    "plt.figure(figsize=(7,7))\n",
    "sns.heatmap(df_corre.corr(),annot=True,fmt='.0%')"
   ]
  },
  {
   "cell_type": "markdown",
   "id": "946fd0c0",
   "metadata": {},
   "source": [
    "#### 40.plot the pie chart for the first 4 patients acuity and the reason for visit."
   ]
  },
  {
   "cell_type": "code",
   "execution_count": 47,
   "id": "81958561",
   "metadata": {},
   "outputs": [
    {
     "data": {
      "image/png": "[encoded data removed]",
      "text/plain": [
       "<Figure size 432x288 with 1 Axes>"
      ]
     },
     "metadata": {},
     "output_type": "display_data"
    }
   ],
   "source": [
    "df_list=df_EDV\n",
    "df_patientacuity= df_list[['Acuity','ReasonForVisit']]\n",
    "df_patientacuity.head(4)\n",
    "y=df_patientacuity.head(4)['Acuity']\n",
    "my_labels =df_patientacuity.head(4)['ReasonForVisit']\n",
    "plt.pie(y,labels=my_labels)\n",
    "plt.show()"
   ]
  },
  {
   "cell_type": "markdown",
   "id": "9298d329",
   "metadata": {},
   "source": [
    "#### 41.plot the 3D graph for first 10 patient BPS,BPD and pulse."
   ]
  },
  {
   "cell_type": "code",
   "execution_count": 48,
   "id": "abd45ece",
   "metadata": {},
   "outputs": [
    {
     "data": {
      "text/plain": [
       "[<mpl_toolkits.mplot3d.art3d.Line3D at 0x1bdc6752250>]"
      ]
     },
     "execution_count": 48,
     "metadata": {},
     "output_type": "execute_result"
    },
    {
     "data": {
      "image/png": "[encoded data removed]",
      "text/plain": [
       "<Figure size 432x288 with 1 Axes>"
      ]
     },
     "metadata": {
      "needs_background": "light"
     },
     "output_type": "display_data"
    }
   ],
   "source": [
    "df_new=df_AV\n",
    "df_3D= df_new[['BloodPressureSystolic','BloodPressureDiastolic','Pulse']]\n",
    "df_3D.head(10)\n",
    "x = df_3D.head(10)['BloodPressureSystolic']\n",
    "y = df_3D.head(10)['BloodPressureDiastolic']\n",
    "z = df_3D.head(10)['Pulse']\n",
    "# Creating the figure object\n",
    "fig = plt.figure()\n",
    "# keeping the projection = 3d\n",
    "# ctreates the 3d plot\n",
    "ax = plt.axes(projection = '3d')\n",
    "ax.plot3D(z, y, x)"
   ]
  },
  {
   "cell_type": "markdown",
   "id": "5df9dd7a",
   "metadata": {},
   "source": [
    "#### 42.plot the scatter chart for ExpectedLOS and ExpectedMortality."
   ]
  },
  {
   "cell_type": "code",
   "execution_count": 49,
   "id": "359e2a06",
   "metadata": {},
   "outputs": [
    {
     "data": {
      "image/png": "[encoded data removed]",
      "text/plain": [
       "<Figure size 432x288 with 1 Axes>"
      ]
     },
     "metadata": {
      "needs_background": "light"
     },
     "output_type": "display_data"
    }
   ],
   "source": [
    "import itertools\n",
    "x = df_D['ExpectedLOS']\n",
    "y = df_D['ExpectedMortality']\n",
    "\n",
    "plt.scatter(x, y)\n",
    "plt.legend(\"A\")\n",
    "plt.title(\"Scatter chart\")\n",
    "ys = [i+x+(i*x)**2 for i in range(10)]\n",
    "colors = itertools.cycle([\"greenyellow\", \"aqua\", \"magenta\"])\n",
    "for y in ys:\n",
    "    plt.scatter(x, y, color=next(colors))"
   ]
  },
  {
   "cell_type": "markdown",
   "id": "04282a35",
   "metadata": {},
   "source": [
    "### Questions on Data structures"
   ]
  },
  {
   "cell_type": "code",
   "execution_count": 71,
   "id": "17e3cd5f",
   "metadata": {},
   "outputs": [],
   "source": [
    "Student_marks={'Name':['A','B','C','D','E'],\n",
    "              'Ankit': [41,34,45,55,63],\n",
    "              'Aravind':[42,23,34,44,53],\n",
    "              'Lakshay':[32,23,13,54,67],\n",
    "              'Gyan':[23,82,23,63,34],\n",
    "              'pranav':[21,23,25,56,56]}"
   ]
  },
  {
   "cell_type": "markdown",
   "id": "875625e1",
   "metadata": {},
   "source": [
    "#### 43 Who scored the highest marks in the subject B"
   ]
  },
  {
   "cell_type": "code",
   "execution_count": 72,
   "id": "8d0166fd",
   "metadata": {},
   "outputs": [
    {
     "name": "stdout",
     "output_type": "stream",
     "text": [
      "Who scored the highest marks in the subject B is :  Gyan 82\n"
     ]
    }
   ],
   "source": [
    "\n",
    "max_scored=Student_marks['Ankit'][1]\n",
    "scored_max_name='Ankit'\n",
    "for keys in Student_marks.keys():\n",
    "    if(keys!='Name'):\n",
    "        if (max_scored<Student_marks[keys][1]):\n",
    "            max_scored=Student_marks[keys][1]\n",
    "            scored_max_name=keys\n",
    "print('Who scored the highest marks in the subject B is : ',scored_max_name,max_scored)  "
   ]
  },
  {
   "cell_type": "markdown",
   "id": "1c7f71cb",
   "metadata": {},
   "source": [
    "#### 44  What is the average marks scored in the subject C"
   ]
  },
  {
   "cell_type": "code",
   "execution_count": 73,
   "id": "bcf767e5",
   "metadata": {},
   "outputs": [
    {
     "name": "stdout",
     "output_type": "stream",
     "text": [
      "['Name', 'Ankit', 'Aravind', 'Lakshay', 'Gyan', 'pranav']\n",
      "Average marks scored in the subject C:   28.0\n"
     ]
    }
   ],
   "source": [
    "k=list(Student_marks.keys())\n",
    "print(k)\n",
    "avg=[]\n",
    "for i in k[1:6]:\n",
    "    l=Student_marks[i][2]\n",
    "    avg.append(l)\n",
    "import numpy\n",
    "from numpy import mean\n",
    "avg_subc=mean(avg)\n",
    "avg_subc\n",
    "print('Average marks scored in the subject C:  ',avg_subc)"
   ]
  },
  {
   "cell_type": "markdown",
   "id": "b43cf48d",
   "metadata": {},
   "source": [
    "#### 45 who scored the highest percentage of marks?"
   ]
  },
  {
   "cell_type": "code",
   "execution_count": 74,
   "id": "8bc5ab7c",
   "metadata": {},
   "outputs": [
    {
     "name": "stdout",
     "output_type": "stream",
     "text": [
      "highest percentage of marks is Ankit   47.599999999999994\n"
     ]
    }
   ],
   "source": [
    "k=list(Student_marks.keys())\n",
    "sum1=0\n",
    "highest_percent=-1  \n",
    "for key in k[1:6]:\n",
    "    sum1=0\n",
    "    for value in range(0,5):\n",
    "            m=Student_marks[key][value]\n",
    "            sum1=sum1+m\n",
    "            percentage=(sum1/500)*100\n",
    "            if (highest_percent<percentage):\n",
    "                highest_percent=percentage\n",
    "                scored=key\n",
    "       \n",
    "print(\"highest percentage of marks is \"+  scored + \"   \"   +   str(highest_percent)) \n",
    "           "
   ]
  },
  {
   "cell_type": "markdown",
   "id": "7eed3595",
   "metadata": {},
   "source": [
    "#### 46 If considered only top-4 subjects of a candidate, then who scored the highest percentage of marks?"
   ]
  },
  {
   "cell_type": "code",
   "execution_count": 75,
   "id": "0ddf51c9",
   "metadata": {},
   "outputs": [
    {
     "name": "stdout",
     "output_type": "stream",
     "text": [
      "highest percentage of marks is Ankit   51.0\n"
     ]
    }
   ],
   "source": [
    "highest_percent=-1 \n",
    "for key in k[1:6]:\n",
    "    ls=[]\n",
    "    sum1=0\n",
    "    for value in range(0,5):\n",
    "        m=Student_marks[key][value]\n",
    "        ls.append(m)\n",
    "        ls.sort()\n",
    "    for i in range(1,5):\n",
    "            n=ls[i]\n",
    "            sum1=sum1+n\n",
    "            percentage=(sum1/400)*100\n",
    "            if (highest_percent<percentage):\n",
    "                highest_percent=percentage\n",
    "                scored=key\n",
    "       \n",
    "print(\"highest percentage of marks is \"+  scored + \"   \"   +   str(highest_percent)) \n",
    "           \n",
    "    "
   ]
  },
  {
   "cell_type": "markdown",
   "id": "c3f20ed2",
   "metadata": {},
   "source": [
    "#### 47 using filter function and lamda function finding odd number"
   ]
  },
  {
   "cell_type": "code",
   "execution_count": 76,
   "id": "3369d515",
   "metadata": {},
   "outputs": [
    {
     "name": "stdout",
     "output_type": "stream",
     "text": [
      "The odd numbers are :  [5, 17, 43, 237, 133, 21]\n"
     ]
    }
   ],
   "source": [
    "original_list = [5, 17, 32, 43, 12, 62, 237, 133, 78, 21] \n",
    "\n",
    "# filter the odd numbers from the list\n",
    "filtered_list = list(filter(lambda x: (x%2 != 0) , original_list)) \n",
    "\n",
    "print('The odd numbers are : ',filtered_list) "
   ]
  },
  {
   "cell_type": "markdown",
   "id": "d2e36e2d",
   "metadata": {},
   "source": [
    "#### 48 Using MAP function and lamda finding square of the number"
   ]
  },
  {
   "cell_type": "code",
   "execution_count": 77,
   "id": "83b076d3",
   "metadata": {},
   "outputs": [
    {
     "name": "stdout",
     "output_type": "stream",
     "text": [
      "New List :  [2, 4, 6, 8, 10, 12, 14, 16, 18, 20]\n"
     ]
    }
   ],
   "source": [
    "original_list = [1, 2, 3, 4, 5, 6, 7, 8, 9, 10]\n",
    "# double each number in the original list\n",
    "mapped_list = list(map(lambda x: x*2 , original_list)) \n",
    "print('New List : ',mapped_list)"
   ]
  },
  {
   "cell_type": "markdown",
   "id": "c7f0db39",
   "metadata": {},
   "source": [
    "#### 49 Using Reduce function and lamda finding largest number"
   ]
  },
  {
   "cell_type": "code",
   "execution_count": 80,
   "id": "f6d73601",
   "metadata": {},
   "outputs": [
    {
     "name": "stdout",
     "output_type": "stream",
     "text": [
      "Largest Number in the original list is :  424\n"
     ]
    }
   ],
   "source": [
    "original_list = [110, 53, 3, 424, 255, 16, 42, 256]\n",
    "# use reduce function to find the largest number in the original list\n",
    "largest_number = reduce((lambda x, y: x if (x > y) else y ), original_list) \n",
    "print ('Largest Number in the original list is : ',largest_number) "
   ]
  },
  {
   "cell_type": "markdown",
   "id": "a468cc7e",
   "metadata": {},
   "source": [
    "#### 50 using filter function and lamda function finding word with letter 's'"
   ]
  },
  {
   "cell_type": "code",
   "execution_count": 1,
   "id": "59d276d7",
   "metadata": {},
   "outputs": [
    {
     "name": "stdout",
     "output_type": "stream",
     "text": [
      "The words starting with \"S\" are :  ['Standard', 'Super', 'Science']\n"
     ]
    }
   ],
   "source": [
    "original_list = ['Numpy','Standard','Super','Data','Science','ninja'] \n",
    "# filter the words starting with 'S'\n",
    "filtered_list = list(filter(lambda x: (x[0] == 'S') , original_list)) \n",
    "print('The words starting with \"S\" are : ',filtered_list)"
   ]
  },
  {
   "cell_type": "code",
   "execution_count": null,
   "id": "b6a4be67",
   "metadata": {},
   "outputs": [],
   "source": []
  }
 ],
 "metadata": {
  "kernelspec": {
   "display_name": "Python 3",
   "language": "python",
   "name": "python3"
  },
  "language_info": {
   "codemirror_mode": {
    "name": "ipython",
    "version": 3
   },
   "file_extension": ".py",
   "mimetype": "text/x-python",
   "name": "python",
   "nbconvert_exporter": "python",
   "pygments_lexer": "ipython3",
   "version": "3.8.8"
  }
 },
 "nbformat": 4,
 "nbformat_minor": 5
}
